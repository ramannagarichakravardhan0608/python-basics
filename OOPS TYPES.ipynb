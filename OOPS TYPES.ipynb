{
 "cells": [
  {
   "cell_type": "code",
   "execution_count": 11,
   "id": "0fde83c0",
   "metadata": {},
   "outputs": [],
   "source": [
    "class parent:\n",
    "    def __init__(self,x,y):\n",
    "        self.x=x\n",
    "        self.y=y\n",
    "    def add(self):\n",
    "        final = self.x+self.y\n",
    "        return final\n",
    "class child(parent):\n",
    "    def __init__(self,x,y):\n",
    "        \n",
    "        parent.__init__(self,x,y)\n",
    "    def subt(self):\n",
    "        final = self.x-self.y\n",
    "        return final\n",
    "            \n",
    "    "
   ]
  },
  {
   "cell_type": "code",
   "execution_count": 84,
   "id": "280c9020",
   "metadata": {},
   "outputs": [
    {
     "name": "stdout",
     "output_type": "stream",
     "text": [
      "30\n",
      "-10\n"
     ]
    }
   ],
   "source": [
    "p2 = dog(10,20)\n",
    "print(p2.add())\n",
    "print(p2.subts())"
   ]
  },
  {
   "cell_type": "code",
   "execution_count": null,
   "id": "07a88b56",
   "metadata": {},
   "outputs": [],
   "source": []
  },
  {
   "cell_type": "code",
   "execution_count": 12,
   "id": "498c541f",
   "metadata": {},
   "outputs": [
    {
     "name": "stdout",
     "output_type": "stream",
     "text": [
      "30\n",
      "-10\n"
     ]
    }
   ],
   "source": [
    "p2 = child(10,20)\n",
    "print(p2.add())\n",
    "print(p2.subt())"
   ]
  },
  {
   "cell_type": "code",
   "execution_count": null,
   "id": "880a9b21",
   "metadata": {},
   "outputs": [],
   "source": [
    "class father:\n",
    "    def __init__(self,x,y):\n",
    "        self.x=x\n",
    "        self.y=y\n",
    "        \n",
    "    def add(self):\n",
    "        return self.x+self.y\n",
    "        \n",
    "class mother:\n",
    "    def __init__(self,x,y):\n",
    "        self.x=x\n",
    "        self.y=y\n",
    "        \n",
    "    def subt(self):\n",
    "       \n",
    "        return self.x-self.y\n",
    "    \n",
    "class child(father,mother):\n",
    "    def __init__(self,x,y):\n",
    "        father.__init__(self,x,y)\n",
    "        mother.__init__(self,x,y)\n",
    "                \n",
    "    def mul(self):\n",
    "        return self.x*self.y"
   ]
  },
  {
   "cell_type": "code",
   "execution_count": 22,
   "id": "94754f04",
   "metadata": {},
   "outputs": [],
   "source": [
    "class father:\n",
    "    def __init__(self,x,y):\n",
    "        self.x=x\n",
    "        self.y=y\n",
    "    def add(self):\n",
    "        final = self.x+self.y\n",
    "        return final\n",
    "class child(father):\n",
    "    def __init(self,x,y):\n",
    "        parent.__init__(self,x,y)\n",
    "        \n",
    "    def subt(self):\n",
    "        final = self.x-self.y\n",
    "        return final\n",
    "class grand(child):\n",
    "    def __init(self,x,y):\n",
    "        parent.__init__(self,x,y)\n",
    "        \n",
    "    def subt(self):\n",
    "        final = self.x-self.y\n",
    "        return final\n",
    "\n",
    "        \n"
   ]
  },
  {
   "cell_type": "code",
   "execution_count": 27,
   "id": "a7cf8d62",
   "metadata": {},
   "outputs": [
    {
     "name": "stdout",
     "output_type": "stream",
     "text": [
      "-10\n"
     ]
    }
   ],
   "source": [
    "p3 = child (10,20)\n",
    "print(p3.subt())"
   ]
  },
  {
   "cell_type": "code",
   "execution_count": 61,
   "id": "288f8509",
   "metadata": {},
   "outputs": [],
   "source": [
    "class father:\n",
    "    def __init__(self,x,y):\n",
    "        self.x=x\n",
    "        self.y=y\n",
    "        \n",
    "    def add(self):\n",
    "        return self.x+self.y\n",
    "        \n",
    "class mother:\n",
    "    def __init__(self,x,y):\n",
    "        self.x=x\n",
    "        self.y=y\n",
    "        \n",
    "    def subt(self):\n",
    "       \n",
    "        return self.x-self.y\n",
    "    \n",
    "class child(father,mother):\n",
    "    def __init__(self,x,y):\n",
    "        father.__init__(self,x,y)\n",
    "        mother.__init__(self,x,y)\n",
    "                \n",
    "    def mul(self):\n",
    "        return self.x*self.y\n",
    "            \n",
    "     "
   ]
  },
  {
   "cell_type": "code",
   "execution_count": 62,
   "id": "d9b5ea7f",
   "metadata": {},
   "outputs": [],
   "source": [
    "p3 = child(10,30)"
   ]
  },
  {
   "cell_type": "code",
   "execution_count": 65,
   "id": "7ba454a4",
   "metadata": {},
   "outputs": [
    {
     "name": "stdout",
     "output_type": "stream",
     "text": [
      "40\n",
      "-20\n",
      "300\n"
     ]
    }
   ],
   "source": [
    "print(p3.add())\n",
    "print(p3.subt())\n",
    "print(p3.mul())\n"
   ]
  },
  {
   "cell_type": "code",
   "execution_count": 9,
   "id": "45866804",
   "metadata": {},
   "outputs": [],
   "source": [
    "class father:\n",
    "    def __init__(self,x,y):\n",
    "        self.x=x\n",
    "        self.y=y\n",
    "    def add(self):\n",
    "        return self.x+self.y\n",
    "class child1(father):\n",
    "    def __init__(self,x,y):\n",
    "        father.__init__(self,x,y)\n",
    "    def subt(self):\n",
    "        return self.x-self.y\n",
    "class child2(child1,father,):\n",
    "    def __init__(self,x,y):\n",
    "        father.__init__(self,x,y)\n",
    "    def mul(self):\n",
    "        return self.x*self.y\n",
    "    "
   ]
  },
  {
   "cell_type": "code",
   "execution_count": 8,
   "id": "5a31eca9",
   "metadata": {},
   "outputs": [
    {
     "ename": "NameError",
     "evalue": "name 'child2' is not defined",
     "output_type": "error",
     "traceback": [
      "\u001b[0;31m---------------------------------------------------------------------------\u001b[0m",
      "\u001b[0;31mNameError\u001b[0m                                 Traceback (most recent call last)",
      "Cell \u001b[0;32mIn[8], line 1\u001b[0m\n\u001b[0;32m----> 1\u001b[0m c1 \u001b[38;5;241m=\u001b[39m child2(\u001b[38;5;241m10\u001b[39m,\u001b[38;5;241m20\u001b[39m)\n\u001b[1;32m      2\u001b[0m \u001b[38;5;28mprint\u001b[39m(c1\u001b[38;5;241m.\u001b[39madd())\n\u001b[1;32m      3\u001b[0m \u001b[38;5;28mprint\u001b[39m(c1\u001b[38;5;241m.\u001b[39msubt())\n",
      "\u001b[0;31mNameError\u001b[0m: name 'child2' is not defined"
     ]
    }
   ],
   "source": [
    "c1 = child2(10,20)\n",
    "print(c1.add())\n",
    "print(c1.subt())"
   ]
  },
  {
   "cell_type": "code",
   "execution_count": 6,
   "id": "710fec4f",
   "metadata": {},
   "outputs": [
    {
     "name": "stdout",
     "output_type": "stream",
     "text": [
      "25\n"
     ]
    }
   ],
   "source": [
    "num = [10,20,30,40,50]\n",
    "for i in num:\n",
    "    if i ==25:\n",
    "        print(\"yes\")\n",
    "        break\n",
    "else:\n",
    "    print(\"25\")"
   ]
  },
  {
   "cell_type": "code",
   "execution_count": 15,
   "id": "10c44dc1",
   "metadata": {},
   "outputs": [],
   "source": [
    "class dog:\n",
    "    def sound(self):\n",
    "        return\"bark\"\n",
    "class cat:\n",
    "    def sound(self):\n",
    "        return\"meow\"\n",
    "def animal_sound(animal):\n",
    "    print(animal.sound())\n",
    "    \n",
    "    \n",
    "d = dog()\n",
    "c = cat()"
   ]
  },
  {
   "cell_type": "code",
   "execution_count": 16,
   "id": "14f353f0",
   "metadata": {},
   "outputs": [
    {
     "name": "stdout",
     "output_type": "stream",
     "text": [
      "bark\n",
      "meow\n"
     ]
    }
   ],
   "source": [
    "animal_sound(d)\n",
    "animal_sound(c)"
   ]
  },
  {
   "cell_type": "code",
   "execution_count": null,
   "id": "11fed622",
   "metadata": {},
   "outputs": [],
   "source": []
  }
 ],
 "metadata": {
  "kernelspec": {
   "display_name": "Python 3 (ipykernel)",
   "language": "python",
   "name": "python3"
  },
  "language_info": {
   "codemirror_mode": {
    "name": "ipython",
    "version": 3
   },
   "file_extension": ".py",
   "mimetype": "text/x-python",
   "name": "python",
   "nbconvert_exporter": "python",
   "pygments_lexer": "ipython3",
   "version": "3.11.5"
  }
 },
 "nbformat": 4,
 "nbformat_minor": 5
}
