{
 "cells": [
  {
   "cell_type": "markdown",
   "id": "de0c88fb",
   "metadata": {},
   "source": [
    "# strings \n",
    "- string is a collection of the charecter"
   ]
  },
  {
   "cell_type": "code",
   "execution_count": 1,
   "id": "ad7aaada",
   "metadata": {},
   "outputs": [
    {
     "name": "stdout",
     "output_type": "stream",
     "text": [
      "hello123@\n",
      "<class 'str'>\n"
     ]
    }
   ],
   "source": [
    "x = 'hello123@'\n",
    "print(x)\n",
    "print(str)"
   ]
  },
  {
   "cell_type": "code",
   "execution_count": 2,
   "id": "68b5746c",
   "metadata": {},
   "outputs": [
    {
     "name": "stdout",
     "output_type": "stream",
     "text": [
      " innometrics research labs \n",
      "<class 'str'>\n"
     ]
    }
   ],
   "source": [
    "a = \" innometrics research labs \"\n",
    "print(a)\n",
    "print(type(a))"
   ]
  },
  {
   "cell_type": "code",
   "execution_count": 3,
   "id": "a22ec754",
   "metadata": {},
   "outputs": [
    {
     "data": {
      "text/plain": [
       "' Python is a high-level, general-purpose programming language. Its design philosophy emphasizes code readability with the use of significant indentation.[33]\\n\\nPython is dynamically type-checked and garbage-collected. It supports multiple programming paradigms, including structured (particularly procedural), object-oriented and functional programming. It is often described as a \"batteries included\" language due to its comprehensive standard library.[34][35]'"
      ]
     },
     "execution_count": 3,
     "metadata": {},
     "output_type": "execute_result"
    }
   ],
   "source": [
    "\"\"\" Python is a high-level, general-purpose programming language. Its design philosophy emphasizes code readability with the use of significant indentation.[33]\n",
    "\n",
    "Python is dynamically type-checked and garbage-collected. It supports multiple programming paradigms, including structured (particularly procedural), object-oriented and functional programming. It is often described as a \"batteries included\" language due to its comprehensive standard library.[34][35]\"\"\""
   ]
  },
  {
   "cell_type": "code",
   "execution_count": 5,
   "id": "87602212",
   "metadata": {},
   "outputs": [],
   "source": [
    "xy = ''' hdijsisjkjdskdkldkldjjkdhdhdhhdhddhdh'''"
   ]
  },
  {
   "cell_type": "code",
   "execution_count": 6,
   "id": "007bdc38",
   "metadata": {},
   "outputs": [
    {
     "name": "stdout",
     "output_type": "stream",
     "text": [
      " hdijsisjkjdskdkldkldjjkdhdhdhhdhddhdh\n"
     ]
    }
   ],
   "source": [
    "print(xy)"
   ]
  },
  {
   "cell_type": "code",
   "execution_count": 7,
   "id": "9436ffa4",
   "metadata": {},
   "outputs": [],
   "source": [
    "x = \"hello python\""
   ]
  },
  {
   "cell_type": "code",
   "execution_count": 8,
   "id": "ea4e9734",
   "metadata": {},
   "outputs": [
    {
     "data": {
      "text/plain": [
       "12"
      ]
     },
     "execution_count": 8,
     "metadata": {},
     "output_type": "execute_result"
    }
   ],
   "source": [
    "len(x)"
   ]
  },
  {
   "cell_type": "code",
   "execution_count": 10,
   "id": "81e8d56d",
   "metadata": {},
   "outputs": [
    {
     "data": {
      "text/plain": [
       "'e'"
      ]
     },
     "execution_count": 10,
     "metadata": {},
     "output_type": "execute_result"
    }
   ],
   "source": [
    "x = \"hello python\"\n",
    "x[1]"
   ]
  },
  {
   "cell_type": "markdown",
   "id": "dc618a58",
   "metadata": {},
   "source": [
    "# string slicing"
   ]
  },
  {
   "cell_type": "code",
   "execution_count": 11,
   "id": "b17c439c",
   "metadata": {},
   "outputs": [],
   "source": [
    "x =\"hello python\""
   ]
  },
  {
   "cell_type": "code",
   "execution_count": 38,
   "id": "72000404",
   "metadata": {},
   "outputs": [
    {
     "name": "stdout",
     "output_type": "stream",
     "text": [
      "e\n",
      "e\n"
     ]
    }
   ],
   "source": [
    "print(x[1])\n",
    "print(x[-11])"
   ]
  },
  {
   "cell_type": "code",
   "execution_count": 13,
   "id": "a7514600",
   "metadata": {},
   "outputs": [
    {
     "data": {
      "text/plain": [
       "' pyth'"
      ]
     },
     "execution_count": 13,
     "metadata": {},
     "output_type": "execute_result"
    }
   ],
   "source": [
    "x[5:10]\n"
   ]
  },
  {
   "cell_type": "code",
   "execution_count": 40,
   "id": "e372cfb8",
   "metadata": {},
   "outputs": [
    {
     "name": "stdout",
     "output_type": "stream",
     "text": [
      "pyt\n",
      "pyt\n"
     ]
    }
   ],
   "source": [
    "print(x[6:9])\n",
    "print(x[-6:-3])"
   ]
  },
  {
   "cell_type": "code",
   "execution_count": 41,
   "id": "030190f3",
   "metadata": {},
   "outputs": [
    {
     "name": "stdout",
     "output_type": "stream",
     "text": [
      "thon\n",
      "t\n"
     ]
    }
   ],
   "source": [
    "print(x[8:]) \n",
    "print(x[-4])\n",
    "# this conceder  untill end "
   ]
  },
  {
   "cell_type": "code",
   "execution_count": 20,
   "id": "4fe10190",
   "metadata": {},
   "outputs": [
    {
     "data": {
      "text/plain": [
       "'hell'"
      ]
     },
     "execution_count": 20,
     "metadata": {},
     "output_type": "execute_result"
    }
   ],
   "source": [
    "x[:4]"
   ]
  },
  {
   "cell_type": "code",
   "execution_count": 21,
   "id": "0abf73c1",
   "metadata": {},
   "outputs": [
    {
     "data": {
      "text/plain": [
       "'hello python'"
      ]
     },
     "execution_count": 21,
     "metadata": {},
     "output_type": "execute_result"
    }
   ],
   "source": [
    "x[:]"
   ]
  },
  {
   "cell_type": "code",
   "execution_count": 24,
   "id": "992c1790",
   "metadata": {},
   "outputs": [
    {
     "data": {
      "text/plain": [
       "'el yh'"
      ]
     },
     "execution_count": 24,
     "metadata": {},
     "output_type": "execute_result"
    }
   ],
   "source": [
    "x[1:10:2] # [start:stop:step]"
   ]
  },
  {
   "cell_type": "code",
   "execution_count": 25,
   "id": "16a17656",
   "metadata": {},
   "outputs": [
    {
     "data": {
      "text/plain": [
       "'hlopto'"
      ]
     },
     "execution_count": 25,
     "metadata": {},
     "output_type": "execute_result"
    }
   ],
   "source": [
    "x[::2]"
   ]
  },
  {
   "cell_type": "code",
   "execution_count": 27,
   "id": "ba574076",
   "metadata": {},
   "outputs": [
    {
     "data": {
      "text/plain": [
       "'e'"
      ]
     },
     "execution_count": 27,
     "metadata": {},
     "output_type": "execute_result"
    }
   ],
   "source": [
    "x[-11] # negitive slicing"
   ]
  },
  {
   "cell_type": "code",
   "execution_count": 29,
   "id": "71c31572",
   "metadata": {},
   "outputs": [
    {
     "data": {
      "text/plain": [
       "'pyth'"
      ]
     },
     "execution_count": 29,
     "metadata": {},
     "output_type": "execute_result"
    }
   ],
   "source": [
    "x[-6:-2]"
   ]
  },
  {
   "cell_type": "code",
   "execution_count": 32,
   "id": "adbc8053",
   "metadata": {},
   "outputs": [
    {
     "data": {
      "text/plain": [
       "'thon'"
      ]
     },
     "execution_count": 32,
     "metadata": {},
     "output_type": "execute_result"
    }
   ],
   "source": [
    "x[-4:]"
   ]
  },
  {
   "cell_type": "code",
   "execution_count": 33,
   "id": "a3212459",
   "metadata": {},
   "outputs": [
    {
     "data": {
      "text/plain": [
       "'el yh'"
      ]
     },
     "execution_count": 33,
     "metadata": {},
     "output_type": "execute_result"
    }
   ],
   "source": [
    "x[-11:-1:2]"
   ]
  },
  {
   "cell_type": "code",
   "execution_count": 45,
   "id": "16aadbcd",
   "metadata": {},
   "outputs": [
    {
     "data": {
      "text/plain": [
       "'nohtyp olleh'"
      ]
     },
     "execution_count": 45,
     "metadata": {},
     "output_type": "execute_result"
    }
   ],
   "source": [
    "x[::-1]"
   ]
  },
  {
   "cell_type": "code",
   "execution_count": null,
   "id": "235a904c",
   "metadata": {},
   "outputs": [],
   "source": [
    "x = "
   ]
  }
 ],
 "metadata": {
  "kernelspec": {
   "display_name": "Python 3 (ipykernel)",
   "language": "python",
   "name": "python3"
  },
  "language_info": {
   "codemirror_mode": {
    "name": "ipython",
    "version": 3
   },
   "file_extension": ".py",
   "mimetype": "text/x-python",
   "name": "python",
   "nbconvert_exporter": "python",
   "pygments_lexer": "ipython3",
   "version": "3.11.5"
  }
 },
 "nbformat": 4,
 "nbformat_minor": 5
}
