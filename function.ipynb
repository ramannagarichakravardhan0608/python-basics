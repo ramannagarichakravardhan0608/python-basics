{
 "cells": [
  {
   "cell_type": "code",
   "execution_count": 1,
   "id": "dc3f8abc",
   "metadata": {},
   "outputs": [],
   "source": [
    "a = 5\n",
    "b = 8"
   ]
  },
  {
   "cell_type": "code",
   "execution_count": 13,
   "id": "272f520e",
   "metadata": {},
   "outputs": [],
   "source": [
    "def addition(a,b):\n",
    "    c = a+b\n",
    "    print(c)"
   ]
  },
  {
   "cell_type": "code",
   "execution_count": 12,
   "id": "5ac436c4",
   "metadata": {},
   "outputs": [
    {
     "ename": "NameError",
     "evalue": "name 'c' is not defined",
     "output_type": "error",
     "traceback": [
      "\u001b[0;31m---------------------------------------------------------------------------\u001b[0m",
      "\u001b[0;31mNameError\u001b[0m                                 Traceback (most recent call last)",
      "Cell \u001b[0;32mIn[12], line 1\u001b[0m\n\u001b[0;32m----> 1\u001b[0m \u001b[38;5;28mprint\u001b[39m(c)\n",
      "\u001b[0;31mNameError\u001b[0m: name 'c' is not defined"
     ]
    }
   ],
   "source": [
    "print(c)"
   ]
  },
  {
   "cell_type": "code",
   "execution_count": 10,
   "id": "6cae5ab0",
   "metadata": {},
   "outputs": [],
   "source": [
    "for i in range(1,11):\n",
    "    i +=1"
   ]
  },
  {
   "cell_type": "code",
   "execution_count": 11,
   "id": "b92d0867",
   "metadata": {},
   "outputs": [
    {
     "data": {
      "text/plain": [
       "11"
      ]
     },
     "execution_count": 11,
     "metadata": {},
     "output_type": "execute_result"
    }
   ],
   "source": [
    "i"
   ]
  },
  {
   "cell_type": "code",
   "execution_count": 14,
   "id": "85d1c5b5",
   "metadata": {},
   "outputs": [
    {
     "name": "stdout",
     "output_type": "stream",
     "text": [
      "17\n"
     ]
    }
   ],
   "source": [
    "addition(8,9)"
   ]
  },
  {
   "cell_type": "code",
   "execution_count": 4,
   "id": "e3fbd665",
   "metadata": {},
   "outputs": [],
   "source": [
    "def area(r):\n",
    "    x = 3.14*(r*r)\n",
    "    print(x)"
   ]
  },
  {
   "cell_type": "code",
   "execution_count": 5,
   "id": "f54ea5da",
   "metadata": {},
   "outputs": [
    {
     "name": "stdout",
     "output_type": "stream",
     "text": [
      "28.26\n"
     ]
    }
   ],
   "source": [
    "area(3)"
   ]
  },
  {
   "cell_type": "code",
   "execution_count": 7,
   "id": "63aa6e87",
   "metadata": {},
   "outputs": [],
   "source": [
    "\n",
    "    "
   ]
  },
  {
   "cell_type": "code",
   "execution_count": 12,
   "id": "ee57e0d8",
   "metadata": {},
   "outputs": [
    {
     "name": "stdout",
     "output_type": "stream",
     "text": [
      "apple\n",
      "banana\n",
      "mango\n"
     ]
    }
   ],
   "source": [
    "def list_of_fruits(x):\n",
    "    for i in x:\n",
    "        print(i)\n",
    "x = ['apple','banana','mango']        \n",
    "list_of_fruits(x)"
   ]
  },
  {
   "cell_type": "code",
   "execution_count": 17,
   "id": "f9dfeb7d",
   "metadata": {},
   "outputs": [],
   "source": [
    "#print and returnM"
   ]
  },
  {
   "cell_type": "code",
   "execution_count": 13,
   "id": "33b8a650",
   "metadata": {},
   "outputs": [],
   "source": [
    "def add(a,b):\n",
    "    c=a+b\n",
    "    print(c)"
   ]
  },
  {
   "cell_type": "code",
   "execution_count": 14,
   "id": "c10c02e8",
   "metadata": {},
   "outputs": [
    {
     "name": "stdout",
     "output_type": "stream",
     "text": [
      "11\n",
      "None\n"
     ]
    }
   ],
   "source": [
    "x = add(5,6)\n",
    "print(x)"
   ]
  },
  {
   "cell_type": "code",
   "execution_count": 15,
   "id": "bb5d5f8d",
   "metadata": {},
   "outputs": [],
   "source": [
    "def add(a,b):\n",
    "    c=a+b\n",
    "    return(c)"
   ]
  },
  {
   "cell_type": "code",
   "execution_count": 16,
   "id": "d9cbfb16",
   "metadata": {},
   "outputs": [
    {
     "name": "stdout",
     "output_type": "stream",
     "text": [
      "11\n"
     ]
    }
   ],
   "source": [
    "x=add(5,6)\n",
    "x"
   ]
  },
  {
   "cell_type": "code",
   "execution_count": 27,
   "id": "27826f95",
   "metadata": {},
   "outputs": [],
   "source": [
    "marks = ('nikhil','bhanu','manoj')\n",
    "def marks(x):\n",
    "    if marks>50:\n",
    "        print('pass')\n",
    "    else:\n",
    "        print('fail')\n",
    "        return (x)"
   ]
  },
  {
   "cell_type": "code",
   "execution_count": 28,
   "id": "1fcaf790",
   "metadata": {},
   "outputs": [
    {
     "ename": "TypeError",
     "evalue": "marks() takes 1 positional argument but 3 were given",
     "output_type": "error",
     "traceback": [
      "\u001b[0;31m---------------------------------------------------------------------------\u001b[0m",
      "\u001b[0;31mTypeError\u001b[0m                                 Traceback (most recent call last)",
      "Cell \u001b[0;32mIn[28], line 1\u001b[0m\n\u001b[0;32m----> 1\u001b[0m x \u001b[38;5;241m=\u001b[39m marks(\u001b[38;5;241m50\u001b[39m,\u001b[38;5;241m40\u001b[39m,\u001b[38;5;241m30\u001b[39m)\n\u001b[1;32m      2\u001b[0m x\n",
      "\u001b[0;31mTypeError\u001b[0m: marks() takes 1 positional argument but 3 were given"
     ]
    }
   ],
   "source": [
    "x = marks(50,40,30)\n",
    "x"
   ]
  },
  {
   "cell_type": "code",
   "execution_count": 40,
   "id": "d27bfd0f",
   "metadata": {},
   "outputs": [],
   "source": [
    "def result(s1,s2,s3):\n",
    "    total = s1+s2+s3\n",
    "    per = total/3\n",
    "    if per>50:\n",
    "        print('pass')\n",
    "    else:\n",
    "        print('fail')\n",
    "    return \n",
    "    "
   ]
  },
  {
   "cell_type": "code",
   "execution_count": 41,
   "id": "cf89bcab",
   "metadata": {},
   "outputs": [
    {
     "name": "stdout",
     "output_type": "stream",
     "text": [
      "fail\n"
     ]
    }
   ],
   "source": [
    "s1 = 40\n",
    "s2 = 20\n",
    "s3 = 10\n",
    "result(s1,s2,s3)"
   ]
  },
  {
   "cell_type": "code",
   "execution_count": 42,
   "id": "2dc565dc",
   "metadata": {},
   "outputs": [],
   "source": [
    "# types of arugument\n",
    "#required arugument"
   ]
  },
  {
   "cell_type": "code",
   "execution_count": null,
   "id": "f45e7a22",
   "metadata": {},
   "outputs": [],
   "source": [
    "#default arrugemnent"
   ]
  },
  {
   "cell_type": "code",
   "execution_count": 43,
   "id": "a548f248",
   "metadata": {},
   "outputs": [],
   "source": [
    "def add(a,b=9):\n",
    "    c = a+b\n",
    "    return c"
   ]
  },
  {
   "cell_type": "code",
   "execution_count": 46,
   "id": "e777b89e",
   "metadata": {},
   "outputs": [
    {
     "data": {
      "text/plain": [
       "10"
      ]
     },
     "execution_count": 46,
     "metadata": {},
     "output_type": "execute_result"
    }
   ],
   "source": [
    "add(5,5)"
   ]
  },
  {
   "cell_type": "code",
   "execution_count": 54,
   "id": "c66d7074",
   "metadata": {},
   "outputs": [],
   "source": [
    "def greet(a =\"nani\"):\n",
    "    print(f\"hello {a} good morning\")"
   ]
  },
  {
   "cell_type": "code",
   "execution_count": 57,
   "id": "cff40e1b",
   "metadata": {},
   "outputs": [
    {
     "name": "stdout",
     "output_type": "stream",
     "text": [
      "hello nani good morning\n"
     ]
    }
   ],
   "source": [
    "name('nani')"
   ]
  },
  {
   "cell_type": "code",
   "execution_count": 58,
   "id": "b723a369",
   "metadata": {},
   "outputs": [
    {
     "name": "stdout",
     "output_type": "stream",
     "text": [
      "hello ashfaq good morning\n"
     ]
    }
   ],
   "source": [
    "name(\"ashfaq\")"
   ]
  },
  {
   "cell_type": "code",
   "execution_count": 59,
   "id": "47c31d58",
   "metadata": {},
   "outputs": [],
   "source": [
    "#keywords"
   ]
  },
  {
   "cell_type": "code",
   "execution_count": 68,
   "id": "8e7a816f",
   "metadata": {},
   "outputs": [],
   "source": [
    "def sub(x,y):\n",
    "    z = x-y\n",
    "    return z"
   ]
  },
  {
   "cell_type": "code",
   "execution_count": 69,
   "id": "4c7d2b53",
   "metadata": {},
   "outputs": [
    {
     "data": {
      "text/plain": [
       "-3"
      ]
     },
     "execution_count": 69,
     "metadata": {},
     "output_type": "execute_result"
    }
   ],
   "source": [
    "sub(5,8)"
   ]
  },
  {
   "cell_type": "code",
   "execution_count": 71,
   "id": "2a2ef847",
   "metadata": {},
   "outputs": [
    {
     "data": {
      "text/plain": [
       "4"
      ]
     },
     "execution_count": 71,
     "metadata": {},
     "output_type": "execute_result"
    }
   ],
   "source": [
    "sub(y=5,x=9)"
   ]
  },
  {
   "cell_type": "code",
   "execution_count": 79,
   "id": "cc89fd45",
   "metadata": {},
   "outputs": [],
   "source": [
    "def greet(name,age,place=\"somala\"):\n",
    "    print(f\"hello {name},and {age},and my place is {place}\")"
   ]
  },
  {
   "cell_type": "code",
   "execution_count": 80,
   "id": "7d29e7e6",
   "metadata": {},
   "outputs": [
    {
     "name": "stdout",
     "output_type": "stream",
     "text": [
      "hello nani,and 21,and my place is somala\n"
     ]
    }
   ],
   "source": [
    "greet(\"nani\",21)"
   ]
  },
  {
   "cell_type": "raw",
   "id": "aa11c93e",
   "metadata": {},
   "source": []
  },
  {
   "cell_type": "code",
   "execution_count": 78,
   "id": "813371a0",
   "metadata": {},
   "outputs": [
    {
     "data": {
      "text/plain": [
       "<function __main__.greet(name, age, place)>"
      ]
     },
     "execution_count": 78,
     "metadata": {},
     "output_type": "execute_result"
    }
   ],
   "source": [
    "greet"
   ]
  },
  {
   "cell_type": "code",
   "execution_count": 81,
   "id": "77c97c04",
   "metadata": {},
   "outputs": [],
   "source": [
    "#variable length "
   ]
  },
  {
   "cell_type": "code",
   "execution_count": 84,
   "id": "613f8f3d",
   "metadata": {},
   "outputs": [],
   "source": [
    "def xyz(*a):\n",
    "    print(a)"
   ]
  },
  {
   "cell_type": "code",
   "execution_count": 85,
   "id": "3b615fe9",
   "metadata": {},
   "outputs": [
    {
     "name": "stdout",
     "output_type": "stream",
     "text": [
      "(5, 6, 7)\n"
     ]
    }
   ],
   "source": [
    "xyz(5,6,7)"
   ]
  },
  {
   "cell_type": "code",
   "execution_count": 100,
   "id": "109f25eb",
   "metadata": {},
   "outputs": [],
   "source": [
    "def xyz(*a):\n",
    "    print(a)"
   ]
  },
  {
   "cell_type": "code",
   "execution_count": 101,
   "id": "5850ab08",
   "metadata": {},
   "outputs": [
    {
     "name": "stdout",
     "output_type": "stream",
     "text": [
      "(5,)\n"
     ]
    }
   ],
   "source": [
    "xyz(5)"
   ]
  },
  {
   "cell_type": "code",
   "execution_count": 102,
   "id": "d1b9c818",
   "metadata": {},
   "outputs": [],
   "source": [
    "def add(*a,b):\n",
    "    print(a,b)"
   ]
  },
  {
   "cell_type": "code",
   "execution_count": 103,
   "id": "1e5bd02c",
   "metadata": {},
   "outputs": [
    {
     "ename": "TypeError",
     "evalue": "add() missing 1 required keyword-only argument: 'b'",
     "output_type": "error",
     "traceback": [
      "\u001b[0;31m---------------------------------------------------------------------------\u001b[0m",
      "\u001b[0;31mTypeError\u001b[0m                                 Traceback (most recent call last)",
      "Cell \u001b[0;32mIn[103], line 1\u001b[0m\n\u001b[0;32m----> 1\u001b[0m add(\u001b[38;5;241m3\u001b[39m,\u001b[38;5;241m4\u001b[39m,\u001b[38;5;241m6\u001b[39m,\u001b[38;5;241m7\u001b[39m)\n",
      "\u001b[0;31mTypeError\u001b[0m: add() missing 1 required keyword-only argument: 'b'"
     ]
    }
   ],
   "source": [
    "add(3,4,6,7)"
   ]
  },
  {
   "cell_type": "code",
   "execution_count": 106,
   "id": "0e7f3008",
   "metadata": {},
   "outputs": [],
   "source": [
    "#argument"
   ]
  },
  {
   "cell_type": "code",
   "execution_count": 116,
   "id": "8787945a",
   "metadata": {},
   "outputs": [],
   "source": [
    "addition = lambda a,b,:a+b"
   ]
  },
  {
   "cell_type": "code",
   "execution_count": 118,
   "id": "3ce5adad",
   "metadata": {},
   "outputs": [
    {
     "data": {
      "text/plain": [
       "18"
      ]
     },
     "execution_count": 118,
     "metadata": {},
     "output_type": "execute_result"
    }
   ],
   "source": [
    "addition(9,9)"
   ]
  },
  {
   "cell_type": "code",
   "execution_count": 119,
   "id": "9ef1610c",
   "metadata": {},
   "outputs": [],
   "source": [
    "# lambda "
   ]
  },
  {
   "cell_type": "code",
   "execution_count": 120,
   "id": "abfcbcea",
   "metadata": {},
   "outputs": [],
   "source": [
    "#map"
   ]
  },
  {
   "cell_type": "code",
   "execution_count": 133,
   "id": "4848edc9",
   "metadata": {},
   "outputs": [],
   "source": [
    "x= [1,2,3,4]"
   ]
  },
  {
   "cell_type": "code",
   "execution_count": 136,
   "id": "666cab0c",
   "metadata": {},
   "outputs": [
    {
     "data": {
      "text/plain": [
       "(8, 16, 24, 32)"
      ]
     },
     "execution_count": 136,
     "metadata": {},
     "output_type": "execute_result"
    }
   ],
   "source": [
    "x = tuple(map(lambda a : a * 2, x))\n",
    "x"
   ]
  },
  {
   "cell_type": "code",
   "execution_count": 165,
   "id": "4b9aec94",
   "metadata": {},
   "outputs": [],
   "source": [
    "x = [\"MANGO\",\"GRAPE\",\"APPLE\"]\n"
   ]
  },
  {
   "cell_type": "code",
   "execution_count": 166,
   "id": "468cb430",
   "metadata": {},
   "outputs": [],
   "source": [
    "xy = list(map(lambda a:a.capitalize(),x))"
   ]
  },
  {
   "cell_type": "code",
   "execution_count": 167,
   "id": "73743168",
   "metadata": {},
   "outputs": [
    {
     "data": {
      "text/plain": [
       "['Mango', 'Grape', 'Apple']"
      ]
     },
     "execution_count": 167,
     "metadata": {},
     "output_type": "execute_result"
    }
   ],
   "source": [
    "xy"
   ]
  },
  {
   "cell_type": "code",
   "execution_count": 3,
   "id": "8436d1ca",
   "metadata": {},
   "outputs": [],
   "source": [
    "sum = 1\n",
    "for i in range(1,10):\n",
    "    sum = sum+i\n",
    "    "
   ]
  },
  {
   "cell_type": "code",
   "execution_count": 4,
   "id": "d413b974",
   "metadata": {},
   "outputs": [
    {
     "name": "stdout",
     "output_type": "stream",
     "text": [
      "46\n"
     ]
    }
   ],
   "source": [
    "print(sum)"
   ]
  },
  {
   "cell_type": "markdown",
   "id": "4a05d521",
   "metadata": {},
   "source": [
    "# filter"
   ]
  },
  {
   "cell_type": "code",
   "execution_count": 6,
   "id": "6761ee31",
   "metadata": {},
   "outputs": [],
   "source": [
    "l = [1,2,3,4]\n",
    "evens = list(filter(lambda a:a%2==0,l))"
   ]
  },
  {
   "cell_type": "code",
   "execution_count": 8,
   "id": "8de68130",
   "metadata": {},
   "outputs": [
    {
     "data": {
      "text/plain": [
       "[2, 4]"
      ]
     },
     "execution_count": 8,
     "metadata": {},
     "output_type": "execute_result"
    }
   ],
   "source": [
    "evens"
   ]
  },
  {
   "cell_type": "code",
   "execution_count": 24,
   "id": "06924c42",
   "metadata": {},
   "outputs": [],
   "source": [
    "l = ['Mango', 'Grape', 'Apple']\n"
   ]
  },
  {
   "cell_type": "code",
   "execution_count": 26,
   "id": "112de14a",
   "metadata": {},
   "outputs": [],
   "source": [
    "even = list(filter(lambda a:len(a)>4==0,l))"
   ]
  },
  {
   "cell_type": "code",
   "execution_count": 27,
   "id": "e59e03aa",
   "metadata": {},
   "outputs": [
    {
     "data": {
      "text/plain": [
       "[]"
      ]
     },
     "execution_count": 27,
     "metadata": {},
     "output_type": "execute_result"
    }
   ],
   "source": [
    "even\n"
   ]
  },
  {
   "cell_type": "code",
   "execution_count": null,
   "id": "95d8e511",
   "metadata": {},
   "outputs": [],
   "source": []
  },
  {
   "cell_type": "code",
   "execution_count": null,
   "id": "027a353b",
   "metadata": {},
   "outputs": [],
   "source": [
    "#reduce"
   ]
  },
  {
   "cell_type": "code",
   "execution_count": 31,
   "id": "3abdf828",
   "metadata": {},
   "outputs": [],
   "source": [
    "import functools\n"
   ]
  },
  {
   "cell_type": "code",
   "execution_count": 33,
   "id": "f252d7d3",
   "metadata": {},
   "outputs": [],
   "source": [
    "from functools import reduce"
   ]
  },
  {
   "cell_type": "code",
   "execution_count": null,
   "id": "4db2ec39",
   "metadata": {},
   "outputs": [],
   "source": []
  },
  {
   "cell_type": "code",
   "execution_count": 35,
   "id": "440f2f0c",
   "metadata": {},
   "outputs": [
    {
     "data": {
      "text/plain": [
       "15"
      ]
     },
     "execution_count": 35,
     "metadata": {},
     "output_type": "execute_result"
    }
   ],
   "source": [
    "l = [1,2,3,4,5]\n",
    "red = reduce(lambda a,b:a+b,l)\n",
    "red"
   ]
  },
  {
   "cell_type": "code",
   "execution_count": 36,
   "id": "83e6cb9c",
   "metadata": {},
   "outputs": [],
   "source": [
    "#scope of variable"
   ]
  },
  {
   "cell_type": "code",
   "execution_count": 37,
   "id": "f930849a",
   "metadata": {},
   "outputs": [],
   "source": [
    "x = 5\n",
    "def ab():\n",
    "    y = 10\n",
    "    print(x)\n",
    "    print(y)"
   ]
  },
  {
   "cell_type": "code",
   "execution_count": 38,
   "id": "3d39b9de",
   "metadata": {},
   "outputs": [
    {
     "data": {
      "text/plain": [
       "<function __main__.ab()>"
      ]
     },
     "execution_count": 38,
     "metadata": {},
     "output_type": "execute_result"
    }
   ],
   "source": [
    "ab"
   ]
  },
  {
   "cell_type": "code",
   "execution_count": 39,
   "id": "732c98ff",
   "metadata": {},
   "outputs": [
    {
     "data": {
      "text/plain": [
       "5"
      ]
     },
     "execution_count": 39,
     "metadata": {},
     "output_type": "execute_result"
    }
   ],
   "source": [
    "x"
   ]
  },
  {
   "cell_type": "code",
   "execution_count": 40,
   "id": "3385ef1f",
   "metadata": {},
   "outputs": [
    {
     "ename": "NameError",
     "evalue": "name 'y' is not defined",
     "output_type": "error",
     "traceback": [
      "\u001b[0;31m---------------------------------------------------------------------------\u001b[0m",
      "\u001b[0;31mNameError\u001b[0m                                 Traceback (most recent call last)",
      "Cell \u001b[0;32mIn[40], line 1\u001b[0m\n\u001b[0;32m----> 1\u001b[0m y\n",
      "\u001b[0;31mNameError\u001b[0m: name 'y' is not defined"
     ]
    }
   ],
   "source": [
    "y"
   ]
  },
  {
   "cell_type": "code",
   "execution_count": 41,
   "id": "51369c74",
   "metadata": {},
   "outputs": [],
   "source": [
    "#recursive"
   ]
  },
  {
   "cell_type": "code",
   "execution_count": 47,
   "id": "ecb82cc0",
   "metadata": {},
   "outputs": [],
   "source": [
    "def factorial(n):\n",
    "    if n==0 or n==1:\n",
    "        return 1\n",
    "    else:\n",
    "        return n * factorial (n - 1)"
   ]
  },
  {
   "cell_type": "code",
   "execution_count": 48,
   "id": "3d2bd38c",
   "metadata": {},
   "outputs": [
    {
     "name": "stdout",
     "output_type": "stream",
     "text": [
      "720\n"
     ]
    }
   ],
   "source": [
    "print(factorial(6))"
   ]
  },
  {
   "cell_type": "code",
   "execution_count": 53,
   "id": "1ef6164b",
   "metadata": {},
   "outputs": [],
   "source": [
    "def fibonacci(n):\n",
    "    if n ==0:\n",
    "        return 0\n",
    "    elif n == 1:\n",
    "        return 1\n",
    "    else:\n",
    "        return fibonacci (n-1) + fibonacci (n-2)"
   ]
  },
  {
   "cell_type": "code",
   "execution_count": 56,
   "id": "75fc097d",
   "metadata": {},
   "outputs": [
    {
     "name": "stdout",
     "output_type": "stream",
     "text": [
      "5\n"
     ]
    }
   ],
   "source": [
    "print(fibonacci(5))"
   ]
  },
  {
   "cell_type": "code",
   "execution_count": 82,
   "id": "fa4b7e16",
   "metadata": {},
   "outputs": [],
   "source": [
    "def sum(n):\n",
    "    if n == 0:\n",
    "        return 0\n",
    "    else:\n",
    "        return n +sum (n-1)\n"
   ]
  },
  {
   "cell_type": "code",
   "execution_count": 88,
   "id": "365cd112",
   "metadata": {},
   "outputs": [
    {
     "name": "stdout",
     "output_type": "stream",
     "text": [
      "45\n"
     ]
    }
   ],
   "source": [
    "print(sum(9))"
   ]
  },
  {
   "cell_type": "code",
   "execution_count": null,
   "id": "266cca41",
   "metadata": {},
   "outputs": [],
   "source": []
  }
 ],
 "metadata": {
  "kernelspec": {
   "display_name": "Python 3 (ipykernel)",
   "language": "python",
   "name": "python3"
  },
  "language_info": {
   "codemirror_mode": {
    "name": "ipython",
    "version": 3
   },
   "file_extension": ".py",
   "mimetype": "text/x-python",
   "name": "python",
   "nbconvert_exporter": "python",
   "pygments_lexer": "ipython3",
   "version": "3.11.5"
  }
 },
 "nbformat": 4,
 "nbformat_minor": 5
}
