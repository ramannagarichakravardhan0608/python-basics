{
 "cells": [
  {
   "cell_type": "markdown",
   "id": "8250c321",
   "metadata": {},
   "source": [
    "# create a empty dictionary"
   ]
  },
  {
   "cell_type": "code",
   "execution_count": 1,
   "id": "bc2a4c7c",
   "metadata": {},
   "outputs": [],
   "source": [
    "d2 = dict()"
   ]
  },
  {
   "cell_type": "code",
   "execution_count": 3,
   "id": "d846474b",
   "metadata": {},
   "outputs": [
    {
     "data": {
      "text/plain": [
       "{}"
      ]
     },
     "execution_count": 3,
     "metadata": {},
     "output_type": "execute_result"
    }
   ],
   "source": [
    "d2"
   ]
  },
  {
   "cell_type": "code",
   "execution_count": 4,
   "id": "c7091c67",
   "metadata": {},
   "outputs": [],
   "source": [
    "d = {}"
   ]
  },
  {
   "cell_type": "code",
   "execution_count": 5,
   "id": "d0e5f930",
   "metadata": {},
   "outputs": [
    {
     "name": "stdout",
     "output_type": "stream",
     "text": [
      "{}\n"
     ]
    }
   ],
   "source": [
    "print(d)"
   ]
  },
  {
   "cell_type": "code",
   "execution_count": 6,
   "id": "cc017550",
   "metadata": {},
   "outputs": [
    {
     "name": "stdout",
     "output_type": "stream",
     "text": [
      "<class 'dict'>\n"
     ]
    }
   ],
   "source": [
    "print(type(d))"
   ]
  },
  {
   "cell_type": "code",
   "execution_count": 15,
   "id": "8bf05665",
   "metadata": {},
   "outputs": [],
   "source": [
    "d3 = {1:'abc',2:'def',3:'ghi'}"
   ]
  },
  {
   "cell_type": "code",
   "execution_count": 16,
   "id": "949d0cc8",
   "metadata": {},
   "outputs": [
    {
     "name": "stdout",
     "output_type": "stream",
     "text": [
      "{1: 'abc', 2: 'ghi'}\n"
     ]
    }
   ],
   "source": [
    "print(d3)"
   ]
  },
  {
   "cell_type": "code",
   "execution_count": 17,
   "id": "78dfb500",
   "metadata": {},
   "outputs": [],
   "source": [
    "a = {'abc':23,'bjk':567,'rks':789}"
   ]
  },
  {
   "cell_type": "code",
   "execution_count": 18,
   "id": "16dcbc25",
   "metadata": {},
   "outputs": [
    {
     "name": "stdout",
     "output_type": "stream",
     "text": [
      "{'abc': 23, 'bjk': 789, 'rks': 789}\n"
     ]
    }
   ],
   "source": [
    "print(a)"
   ]
  },
  {
   "cell_type": "code",
   "execution_count": 20,
   "id": "045b1b5f",
   "metadata": {},
   "outputs": [
    {
     "ename": "KeyError",
     "evalue": "1",
     "output_type": "error",
     "traceback": [
      "\u001b[0;31m---------------------------------------------------------------------------\u001b[0m",
      "\u001b[0;31mKeyError\u001b[0m                                  Traceback (most recent call last)",
      "Cell \u001b[0;32mIn[20], line 1\u001b[0m\n\u001b[0;32m----> 1\u001b[0m a[\u001b[38;5;241m1\u001b[39m]\n",
      "\u001b[0;31mKeyError\u001b[0m: 1"
     ]
    }
   ],
   "source": [
    "a[1]"
   ]
  },
  {
   "cell_type": "code",
   "execution_count": 24,
   "id": "ce052187",
   "metadata": {},
   "outputs": [],
   "source": [
    "d = {'name':'python','dob':1991,'place':['hyder','pune','chennai']}"
   ]
  },
  {
   "cell_type": "code",
   "execution_count": 39,
   "id": "1dfe225d",
   "metadata": {},
   "outputs": [
    {
     "data": {
      "text/plain": [
       "'pune'"
      ]
     },
     "execution_count": 39,
     "metadata": {},
     "output_type": "execute_result"
    }
   ],
   "source": [
    "d[\"place\"][1]"
   ]
  },
  {
   "cell_type": "markdown",
   "id": "56495770",
   "metadata": {},
   "source": [
    "# getting all"
   ]
  },
  {
   "cell_type": "code",
   "execution_count": 44,
   "id": "c999c7a8",
   "metadata": {},
   "outputs": [
    {
     "data": {
      "text/plain": [
       "dict_keys(['name', 'dob', 'place'])"
      ]
     },
     "execution_count": 44,
     "metadata": {},
     "output_type": "execute_result"
    }
   ],
   "source": [
    "d.keys()"
   ]
  },
  {
   "cell_type": "code",
   "execution_count": 45,
   "id": "59759a9f",
   "metadata": {},
   "outputs": [
    {
     "data": {
      "text/plain": [
       "dict_values(['python', 1991, ['hyder', 'pune', 'chennai']])"
      ]
     },
     "execution_count": 45,
     "metadata": {},
     "output_type": "execute_result"
    }
   ],
   "source": [
    "d.values()"
   ]
  },
  {
   "cell_type": "code",
   "execution_count": 46,
   "id": "70450324",
   "metadata": {},
   "outputs": [
    {
     "data": {
      "text/plain": [
       "dict_items([('name', 'python'), ('dob', 1991), ('place', ['hyder', 'pune', 'chennai'])])"
      ]
     },
     "execution_count": 46,
     "metadata": {},
     "output_type": "execute_result"
    }
   ],
   "source": [
    "d.items()"
   ]
  },
  {
   "cell_type": "markdown",
   "id": "4e05916c",
   "metadata": {},
   "source": [
    " # adding"
   ]
  },
  {
   "cell_type": "code",
   "execution_count": 47,
   "id": "975a075f",
   "metadata": {},
   "outputs": [],
   "source": [
    "d = {'name':'python','dob':1991,'place':['hyder','pune','chennai']}"
   ]
  },
  {
   "cell_type": "code",
   "execution_count": 50,
   "id": "7ce436bb",
   "metadata": {},
   "outputs": [],
   "source": [
    "d['kiran'] = 678986789"
   ]
  },
  {
   "cell_type": "code",
   "execution_count": 51,
   "id": "724f006e",
   "metadata": {},
   "outputs": [
    {
     "data": {
      "text/plain": [
       "{'name': 678986789,\n",
       " 'dob': 1991,\n",
       " 'place': ['hyder', 'pune', 'chennai'],\n",
       " 'kiran': 678986789}"
      ]
     },
     "execution_count": 51,
     "metadata": {},
     "output_type": "execute_result"
    }
   ],
   "source": [
    "d"
   ]
  },
  {
   "cell_type": "code",
   "execution_count": 52,
   "id": "0f12771e",
   "metadata": {},
   "outputs": [],
   "source": [
    "d = {'name':'python','dob':1991,'place':['hyder','pune','chennai']}"
   ]
  },
  {
   "cell_type": "markdown",
   "id": "eac02fe1",
   "metadata": {},
   "source": [
    "# update "
   ]
  },
  {
   "cell_type": "code",
   "execution_count": 58,
   "id": "081378d6",
   "metadata": {},
   "outputs": [],
   "source": [
    "d.update({'location':'kphb','cs':45678})"
   ]
  },
  {
   "cell_type": "code",
   "execution_count": 59,
   "id": "fed56f06",
   "metadata": {},
   "outputs": [
    {
     "data": {
      "text/plain": [
       "{'name': 'python',\n",
       " 'dob': 1991,\n",
       " 'place': ['hyder', 'pune', 'chennai'],\n",
       " 'location': 'kphb',\n",
       " 'cs': 45678}"
      ]
     },
     "execution_count": 59,
     "metadata": {},
     "output_type": "execute_result"
    }
   ],
   "source": [
    "d"
   ]
  },
  {
   "cell_type": "markdown",
   "id": "2f677540",
   "metadata": {},
   "source": [
    "# CHANGE THE ELEMENT"
   ]
  },
  {
   "cell_type": "code",
   "execution_count": 60,
   "id": "ad1bb33d",
   "metadata": {},
   "outputs": [],
   "source": [
    "d['location'] = 'somala'"
   ]
  },
  {
   "cell_type": "code",
   "execution_count": 61,
   "id": "5ef828fe",
   "metadata": {},
   "outputs": [
    {
     "data": {
      "text/plain": [
       "{'name': 'python',\n",
       " 'dob': 1991,\n",
       " 'place': ['hyder', 'pune', 'chennai'],\n",
       " 'location': 'somala',\n",
       " 'cs': 45678}"
      ]
     },
     "execution_count": 61,
     "metadata": {},
     "output_type": "execute_result"
    }
   ],
   "source": [
    "d"
   ]
  },
  {
   "cell_type": "code",
   "execution_count": 62,
   "id": "67ab0a59",
   "metadata": {},
   "outputs": [],
   "source": [
    "d['place'][1] = 'mumbai'"
   ]
  },
  {
   "cell_type": "code",
   "execution_count": 63,
   "id": "d2a9bb1c",
   "metadata": {},
   "outputs": [
    {
     "data": {
      "text/plain": [
       "{'name': 'python',\n",
       " 'dob': 1991,\n",
       " 'place': ['hyder', 'mumbai', 'chennai'],\n",
       " 'location': 'somala',\n",
       " 'cs': 45678}"
      ]
     },
     "execution_count": 63,
     "metadata": {},
     "output_type": "execute_result"
    }
   ],
   "source": [
    "d"
   ]
  },
  {
   "cell_type": "code",
   "execution_count": 66,
   "id": "27d81085",
   "metadata": {},
   "outputs": [],
   "source": [
    "d.get(2)"
   ]
  },
  {
   "cell_type": "code",
   "execution_count": 67,
   "id": "e785d06d",
   "metadata": {},
   "outputs": [],
   "source": [
    "a = {'nani':234,'sunny':789,'bunny':998}"
   ]
  },
  {
   "cell_type": "code",
   "execution_count": 68,
   "id": "d261f510",
   "metadata": {},
   "outputs": [],
   "source": [
    "b = {'nithin':989,'nihil':767,'hithesh':899}"
   ]
  },
  {
   "cell_type": "code",
   "execution_count": 71,
   "id": "e781e2d2",
   "metadata": {},
   "outputs": [
    {
     "data": {
      "text/plain": [
       "True"
      ]
     },
     "execution_count": 71,
     "metadata": {},
     "output_type": "execute_result"
    }
   ],
   "source": [
    "a == b"
   ]
  },
  {
   "cell_type": "code",
   "execution_count": 72,
   "id": "54569284",
   "metadata": {},
   "outputs": [
    {
     "data": {
      "text/plain": [
       "False"
      ]
     },
     "execution_count": 72,
     "metadata": {},
     "output_type": "execute_result"
    }
   ],
   "source": [
    "a!=b"
   ]
  },
  {
   "cell_type": "code",
   "execution_count": 73,
   "id": "c73ae757",
   "metadata": {},
   "outputs": [
    {
     "ename": "TypeError",
     "evalue": "unhashable type: 'dict'",
     "output_type": "error",
     "traceback": [
      "\u001b[0;31m---------------------------------------------------------------------------\u001b[0m",
      "\u001b[0;31mTypeError\u001b[0m                                 Traceback (most recent call last)",
      "Cell \u001b[0;32mIn[73], line 1\u001b[0m\n\u001b[0;32m----> 1\u001b[0m a \u001b[38;5;129;01mnot\u001b[39;00m \u001b[38;5;129;01min\u001b[39;00m b\n",
      "\u001b[0;31mTypeError\u001b[0m: unhashable type: 'dict'"
     ]
    }
   ],
   "source": [
    "a not in b"
   ]
  },
  {
   "cell_type": "code",
   "execution_count": 75,
   "id": "c05a4a3b",
   "metadata": {},
   "outputs": [],
   "source": [
    "a={'nani'} \n",
    "b={'nithin'}"
   ]
  },
  {
   "cell_type": "code",
   "execution_count": 76,
   "id": "75b5d004",
   "metadata": {},
   "outputs": [
    {
     "data": {
      "text/plain": [
       "False"
      ]
     },
     "execution_count": 76,
     "metadata": {},
     "output_type": "execute_result"
    }
   ],
   "source": [
    "a in b"
   ]
  },
  {
   "cell_type": "code",
   "execution_count": 77,
   "id": "ee09a53b",
   "metadata": {},
   "outputs": [],
   "source": [
    "a = {'nani'}"
   ]
  },
  {
   "cell_type": "code",
   "execution_count": 78,
   "id": "d9525562",
   "metadata": {},
   "outputs": [],
   "source": [
    "b = {'nithin'}"
   ]
  },
  {
   "cell_type": "code",
   "execution_count": 79,
   "id": "537d4917",
   "metadata": {},
   "outputs": [
    {
     "data": {
      "text/plain": [
       "True"
      ]
     },
     "execution_count": 79,
     "metadata": {},
     "output_type": "execute_result"
    }
   ],
   "source": [
    "a is not b"
   ]
  },
  {
   "cell_type": "markdown",
   "id": "3cb55333",
   "metadata": {},
   "source": [
    "# remove values fromn a dictinoary"
   ]
  },
  {
   "cell_type": "code",
   "execution_count": 80,
   "id": "f004ffc6",
   "metadata": {},
   "outputs": [],
   "source": [
    "a = {'nani':234,'sunny':789,'bunny':998}"
   ]
  },
  {
   "cell_type": "code",
   "execution_count": 82,
   "id": "d3b1c191",
   "metadata": {},
   "outputs": [
    {
     "data": {
      "text/plain": [
       "234"
      ]
     },
     "execution_count": 82,
     "metadata": {},
     "output_type": "execute_result"
    }
   ],
   "source": [
    "a.pop('nani')"
   ]
  },
  {
   "cell_type": "code",
   "execution_count": 83,
   "id": "d21be216",
   "metadata": {},
   "outputs": [
    {
     "data": {
      "text/plain": [
       "{'sunny': 789, 'bunny': 998}"
      ]
     },
     "execution_count": 83,
     "metadata": {},
     "output_type": "execute_result"
    }
   ],
   "source": [
    "a"
   ]
  },
  {
   "cell_type": "code",
   "execution_count": 85,
   "id": "78f87c0e",
   "metadata": {},
   "outputs": [],
   "source": [
    "a = {'nani':234,'sunny':789,'bunny':998}"
   ]
  },
  {
   "cell_type": "code",
   "execution_count": 86,
   "id": "9196c73d",
   "metadata": {},
   "outputs": [
    {
     "data": {
      "text/plain": [
       "('bunny', 998)"
      ]
     },
     "execution_count": 86,
     "metadata": {},
     "output_type": "execute_result"
    }
   ],
   "source": [
    "a.popitem()"
   ]
  },
  {
   "cell_type": "code",
   "execution_count": 87,
   "id": "91252e2c",
   "metadata": {},
   "outputs": [
    {
     "data": {
      "text/plain": [
       "{'nani': 234, 'sunny': 789}"
      ]
     },
     "execution_count": 87,
     "metadata": {},
     "output_type": "execute_result"
    }
   ],
   "source": [
    "a"
   ]
  },
  {
   "cell_type": "code",
   "execution_count": 88,
   "id": "073cd606",
   "metadata": {},
   "outputs": [],
   "source": [
    "a = {'nani':234,'sunny':789,'bunny':998}"
   ]
  },
  {
   "cell_type": "code",
   "execution_count": 90,
   "id": "51932baa",
   "metadata": {},
   "outputs": [],
   "source": [
    "del a['nani']"
   ]
  },
  {
   "cell_type": "code",
   "execution_count": 92,
   "id": "65507fbc",
   "metadata": {},
   "outputs": [
    {
     "data": {
      "text/plain": [
       "{'sunny': 789, 'bunny': 998}"
      ]
     },
     "execution_count": 92,
     "metadata": {},
     "output_type": "execute_result"
    }
   ],
   "source": [
    "a"
   ]
  },
  {
   "cell_type": "code",
   "execution_count": 93,
   "id": "cedc7bb4",
   "metadata": {},
   "outputs": [],
   "source": [
    "del a"
   ]
  },
  {
   "cell_type": "code",
   "execution_count": 94,
   "id": "3354050a",
   "metadata": {},
   "outputs": [
    {
     "ename": "NameError",
     "evalue": "name 'a' is not defined",
     "output_type": "error",
     "traceback": [
      "\u001b[0;31m---------------------------------------------------------------------------\u001b[0m",
      "\u001b[0;31mNameError\u001b[0m                                 Traceback (most recent call last)",
      "Cell \u001b[0;32mIn[94], line 1\u001b[0m\n\u001b[0;32m----> 1\u001b[0m a\n",
      "\u001b[0;31mNameError\u001b[0m: name 'a' is not defined"
     ]
    }
   ],
   "source": [
    "a"
   ]
  },
  {
   "cell_type": "code",
   "execution_count": 95,
   "id": "ec7b05f3",
   "metadata": {},
   "outputs": [],
   "source": [
    "a = {'nani':234,'sunny':789,'bunny':998}"
   ]
  },
  {
   "cell_type": "code",
   "execution_count": 96,
   "id": "dce62887",
   "metadata": {},
   "outputs": [],
   "source": [
    "a.clear()"
   ]
  },
  {
   "cell_type": "code",
   "execution_count": 97,
   "id": "8d004e4d",
   "metadata": {},
   "outputs": [
    {
     "data": {
      "text/plain": [
       "{}"
      ]
     },
     "execution_count": 97,
     "metadata": {},
     "output_type": "execute_result"
    }
   ],
   "source": [
    "a"
   ]
  },
  {
   "cell_type": "markdown",
   "id": "ceceb395",
   "metadata": {},
   "source": [
    "# from keys"
   ]
  },
  {
   "cell_type": "code",
   "execution_count": 108,
   "id": "d2c93f82",
   "metadata": {},
   "outputs": [],
   "source": [
    "keys = ['a','b','c','d','e']"
   ]
  },
  {
   "cell_type": "code",
   "execution_count": 112,
   "id": "3c4dc861",
   "metadata": {},
   "outputs": [],
   "source": [
    "# value = 9"
   ]
  },
  {
   "cell_type": "code",
   "execution_count": 115,
   "id": "821dfd71",
   "metadata": {},
   "outputs": [],
   "source": [
    "c=dict.fromkeys(keys)"
   ]
  },
  {
   "cell_type": "code",
   "execution_count": 116,
   "id": "7a24119f",
   "metadata": {},
   "outputs": [
    {
     "data": {
      "text/plain": [
       "{'a': None, 'b': None, 'c': None, 'd': None, 'e': None}"
      ]
     },
     "execution_count": 116,
     "metadata": {},
     "output_type": "execute_result"
    }
   ],
   "source": [
    "c"
   ]
  },
  {
   "cell_type": "markdown",
   "id": "289bea4b",
   "metadata": {},
   "source": [
    "# zip"
   ]
  },
  {
   "cell_type": "code",
   "execution_count": 118,
   "id": "f79bd4f2",
   "metadata": {},
   "outputs": [],
   "source": [
    "keys = ['a','b','c','d','e','f']"
   ]
  },
  {
   "cell_type": "code",
   "execution_count": 123,
   "id": "2fd0775c",
   "metadata": {},
   "outputs": [],
   "source": [
    "values = [1,2,3,4,5]"
   ]
  },
  {
   "cell_type": "code",
   "execution_count": 124,
   "id": "57a5aacf",
   "metadata": {},
   "outputs": [],
   "source": [
    "d = dict(zip(keys,values))"
   ]
  },
  {
   "cell_type": "code",
   "execution_count": 125,
   "id": "11874525",
   "metadata": {},
   "outputs": [
    {
     "data": {
      "text/plain": [
       "{'a': 1, 'b': 2, 'c': 3, 'd': 4, 'e': 5}"
      ]
     },
     "execution_count": 125,
     "metadata": {},
     "output_type": "execute_result"
    }
   ],
   "source": [
    "d"
   ]
  },
  {
   "cell_type": "code",
   "execution_count": null,
   "id": "e0fa9a45",
   "metadata": {},
   "outputs": [],
   "source": []
  }
 ],
 "metadata": {
  "kernelspec": {
   "display_name": "Python 3 (ipykernel)",
   "language": "python",
   "name": "python3"
  },
  "language_info": {
   "codemirror_mode": {
    "name": "ipython",
    "version": 3
   },
   "file_extension": ".py",
   "mimetype": "text/x-python",
   "name": "python",
   "nbconvert_exporter": "python",
   "pygments_lexer": "ipython3",
   "version": "3.11.5"
  }
 },
 "nbformat": 4,
 "nbformat_minor": 5
}
