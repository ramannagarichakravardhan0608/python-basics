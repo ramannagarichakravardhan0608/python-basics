{
 "cells": [
  {
   "cell_type": "markdown",
   "id": "6c911355",
   "metadata": {},
   "source": [
    "# programinng construct/control statement\n"
   ]
  },
  {
   "cell_type": "markdown",
   "id": "80a9b393",
   "metadata": {},
   "source": [
    "# conditinal statement\n",
    "- are statement used to control flow of exection based on given condition"
   ]
  },
  {
   "cell_type": "code",
   "execution_count": 1,
   "id": "97438a0f",
   "metadata": {},
   "outputs": [],
   "source": [
    "# if,else,if-else,if-elif,nested-if"
   ]
  },
  {
   "cell_type": "markdown",
   "id": "439483ad",
   "metadata": {},
   "source": [
    "# if conditional"
   ]
  },
  {
   "cell_type": "code",
   "execution_count": 2,
   "id": "05bd01f1",
   "metadata": {},
   "outputs": [],
   "source": [
    "# if condition evaluate whether condtion is  true or not\n",
    "# if condition is true its exectue block of the code is true other wise false "
   ]
  },
  {
   "cell_type": "code",
   "execution_count": 3,
   "id": "c1cb6ca7",
   "metadata": {},
   "outputs": [],
   "source": [
    "x = 5"
   ]
  },
  {
   "cell_type": "code",
   "execution_count": 10,
   "id": "ecbdd59b",
   "metadata": {},
   "outputs": [
    {
     "name": "stdout",
     "output_type": "stream",
     "text": [
      " is 5    graether than 4\n"
     ]
    }
   ],
   "source": [
    "if x>0:\n",
    "    print  (f\" is {x}    graether than 4\")"
   ]
  },
  {
   "cell_type": "code",
   "execution_count": 16,
   "id": "61996d13",
   "metadata": {},
   "outputs": [
    {
     "name": "stdout",
     "output_type": "stream",
     "text": [
      "good morning\n"
     ]
    }
   ],
   "source": [
    "if x>9:\n",
    "    print(f\" is {x} graether than 4\")\n",
    "    print(\"have a grat day\")\n",
    "print(\"good morning\")"
   ]
  },
  {
   "cell_type": "code",
   "execution_count": null,
   "id": "94d43607",
   "metadata": {},
   "outputs": [],
   "source": []
  },
  {
   "cell_type": "code",
   "execution_count": 21,
   "id": "3a67d54c",
   "metadata": {},
   "outputs": [
    {
     "name": "stdout",
     "output_type": "stream",
     "text": [
      "is a grather y\n"
     ]
    }
   ],
   "source": [
    "x = 8\n",
    "if x>9:\n",
    "    print(f\"x is a grather{x}\")\n",
    "print(\"is a grather y\")"
   ]
  },
  {
   "cell_type": "code",
   "execution_count": 3,
   "id": "111f497a",
   "metadata": {},
   "outputs": [
    {
     "name": "stdout",
     "output_type": "stream",
     "text": [
      "enter the number8\n"
     ]
    }
   ],
   "source": [
    "x = int(input(\"enter the number\"))\n",
    "\n",
    "if x >9:\n",
    "    print(f\"x is a gther {x}\")"
   ]
  },
  {
   "cell_type": "code",
   "execution_count": 4,
   "id": "5c6ee3ec",
   "metadata": {},
   "outputs": [
    {
     "data": {
      "text/plain": [
       "8"
      ]
     },
     "execution_count": 4,
     "metadata": {},
     "output_type": "execute_result"
    }
   ],
   "source": [
    "x"
   ]
  },
  {
   "cell_type": "markdown",
   "id": "f805ef89",
   "metadata": {},
   "source": [
    "# if-else"
   ]
  },
  {
   "cell_type": "code",
   "execution_count": 6,
   "id": "08c00a89",
   "metadata": {},
   "outputs": [],
   "source": [
    "# if evealuate whether condition is true or not it true block of code will execture if false then else will execute its code of block"
   ]
  },
  {
   "cell_type": "code",
   "execution_count": 11,
   "id": "430da322",
   "metadata": {},
   "outputs": [
    {
     "name": "stdout",
     "output_type": "stream",
     "text": [
      "enter the value:3\n",
      "no\n",
      "good afternoon\n"
     ]
    }
   ],
   "source": [
    "x = int(input(\"enter the value:\"))\n",
    "if x > 4:\n",
    "    print(x,\":yes\")\n",
    "else:\n",
    "    print(\"no\")\n",
    "print(\"good afternoon\")"
   ]
  },
  {
   "cell_type": "code",
   "execution_count": 16,
   "id": "d8e00e2a",
   "metadata": {},
   "outputs": [
    {
     "name": "stdout",
     "output_type": "stream",
     "text": [
      "enter the number8\n",
      "even\n"
     ]
    }
   ],
   "source": [
    "x = int(input(\"enter the number\"))\n",
    "if x%2==0:\n",
    "    print(\"even\")\n",
    "else:\n",
    "    print(\"odd\")"
   ]
  },
  {
   "cell_type": "code",
   "execution_count": 20,
   "id": "6c838882",
   "metadata": {},
   "outputs": [
    {
     "name": "stdout",
     "output_type": "stream",
     "text": [
      "enter the number18\n",
      "you can vote\n"
     ]
    }
   ],
   "source": [
    "x = int(input(\"enter the number\"))\n",
    "if x>=18:\n",
    "    print(\"you can vote\")\n",
    "else:\n",
    "    print(\"yo can't vote\")"
   ]
  },
  {
   "cell_type": "code",
   "execution_count": 23,
   "id": "f8743813",
   "metadata": {},
   "outputs": [
    {
     "name": "stdout",
     "output_type": "stream",
     "text": [
      "enter the numer-3\n",
      "negitive number\n"
     ]
    }
   ],
   "source": [
    "x = int(input(\"enter the numer\"))\n",
    "if x>0:\n",
    "    print(\"positive number\")\n",
    "else:\n",
    "    print(\"negitive number\")"
   ]
  },
  {
   "cell_type": "code",
   "execution_count": 4,
   "id": "bc6fcb18",
   "metadata": {},
   "outputs": [
    {
     "name": "stdout",
     "output_type": "stream",
     "text": [
      "enter the number1221\n",
      "palindrome\n"
     ]
    }
   ],
   "source": [
    "x = input(\"enter the number\")\n",
    "if x[:] == x[::-1]:\n",
    "    print(\"palindrome\")\n",
    "else:\n",
    "    print(\"non palindrome\")"
   ]
  },
  {
   "cell_type": "code",
   "execution_count": null,
   "id": "63c8956a",
   "metadata": {},
   "outputs": [],
   "source": []
  },
  {
   "cell_type": "code",
   "execution_count": 7,
   "id": "df79308b",
   "metadata": {},
   "outputs": [
    {
     "name": "stdout",
     "output_type": "stream",
     "text": [
      "enter the stringsdfghj678\n",
      "strong\n"
     ]
    }
   ],
   "source": [
    "x = input(\"enter the string\")\n",
    "if len(x)>8:\n",
    "    print('strong')\n",
    "else:\n",
    "    print('week')"
   ]
  },
  {
   "cell_type": "code",
   "execution_count": 4,
   "id": "85ef2da5",
   "metadata": {},
   "outputs": [
    {
     "name": "stdout",
     "output_type": "stream",
     "text": [
      "enter the marks80\n",
      "pass\n"
     ]
    }
   ],
   "source": [
    "x =  int(input(\"enter the marks\"))\n",
    "if x>35:\n",
    "  print(\"pass\")\n",
    "else:\n",
    "  print(\"fail\")"
   ]
  },
  {
   "cell_type": "markdown",
   "id": "a78ed363",
   "metadata": {},
   "source": [
    "# if else elif"
   ]
  },
  {
   "cell_type": "code",
   "execution_count": 10,
   "id": "5524760e",
   "metadata": {},
   "outputs": [
    {
     "name": "stdout",
     "output_type": "stream",
     "text": [
      "enter the number990\n",
      "990 :postive\n"
     ]
    }
   ],
   "source": [
    "x = int(input(\"enter the number\"))\n",
    "if x>0:\n",
    "    print(x,\":postive\")\n",
    "elif x<0:\n",
    "    print(x,\":negitive\")\n",
    "else:\n",
    "    print(x,':zero')"
   ]
  },
  {
   "cell_type": "markdown",
   "id": "0474c4e7",
   "metadata": {},
   "source": [
    "# find the largest the number"
   ]
  },
  {
   "cell_type": "code",
   "execution_count": 18,
   "id": "8d84d13f",
   "metadata": {},
   "outputs": [
    {
     "name": "stdout",
     "output_type": "stream",
     "text": [
      "enter the number3\n",
      "enter the number4\n",
      "enter the number1\n",
      "4 :maximum number\n"
     ]
    }
   ],
   "source": [
    "x = int(input(\"enter the number\"))\n",
    "y = int(input(\"enter the number\"))\n",
    "z = int(input(\"enter the number\"))\n",
    "if x>y and x>y:\n",
    "    print(x,\":maximum number\")\n",
    "elif y>x and y>z:\n",
    "    print(y,\":maximum number\")\n",
    "else:\n",
    "    print(z,\":maximum number\")"
   ]
  },
  {
   "cell_type": "code",
   "execution_count": 19,
   "id": "fafaabcc",
   "metadata": {},
   "outputs": [],
   "source": [
    "# check day of the week"
   ]
  },
  {
   "cell_type": "code",
   "execution_count": 6,
   "id": "1a9113cc",
   "metadata": {},
   "outputs": [
    {
     "name": "stdout",
     "output_type": "stream",
     "text": [
      "enter the daysaturday\n",
      "saturday weekend\n"
     ]
    }
   ],
   "source": [
    "x = input(\"enter the day\")\n",
    "b = x.lower()\n",
    "if (b ==\"monday\" or b ==\"tuesday\" or b ==\"wednesday\" or b==\"thursay\"):\n",
    "    print(x,\":enter the workding day\")\n",
    "elif(b=='friday'):\n",
    "    print(x,\"enter the close to weekend\")\n",
    "else:\n",
    "    print(x,\"weekend\")"
   ]
  },
  {
   "cell_type": "markdown",
   "id": "dc47faac",
   "metadata": {},
   "source": [
    "# bulid a simple calculator"
   ]
  },
  {
   "cell_type": "code",
   "execution_count": 3,
   "id": "3731308f",
   "metadata": {},
   "outputs": [
    {
     "name": "stdout",
     "output_type": "stream",
     "text": [
      "enter the value9\n",
      "enter the value9\n",
      "opertors+\n",
      "18\n"
     ]
    }
   ],
   "source": [
    "num1= int(input(\"enter the value\"))\n",
    "num2 = int(input(\"enter the value\"))\n",
    "z = input(\"opertors\")\n",
    "if z=='+':\n",
    "    print(num1+num2)\n",
    "elif z=='-':\n",
    "    print(num1-num2)\n",
    "elif z =='*':\n",
    "    print(num1*num2)\n",
    "elif z=='/':\n",
    "    print(num1/num2)\n",
    "else:\n",
    "    print(invalid)"
   ]
  },
  {
   "cell_type": "markdown",
   "id": "d9291423",
   "metadata": {},
   "source": [
    "# simple a discount calculator\n"
   ]
  },
  {
   "cell_type": "code",
   "execution_count": 11,
   "id": "127e2637",
   "metadata": {},
   "outputs": [
    {
     "name": "stdout",
     "output_type": "stream",
     "text": [
      "enter the amount908\n",
      " discount5%\n"
     ]
    }
   ],
   "source": [
    "price= int(input(\"enter the amount\"))\n",
    "if price > 2000:\n",
    "    discount = 20\n",
    "elif price> 1000:\n",
    "    discount = 10\n",
    "else:\n",
    "    discount = 5\n",
    "print(f\" discount{discount}%\")\n"
   ]
  },
  {
   "cell_type": "markdown",
   "id": "02b7e872",
   "metadata": {},
   "source": [
    "# nested if"
   ]
  },
  {
   "cell_type": "code",
   "execution_count": 21,
   "id": "74b41cfb",
   "metadata": {},
   "outputs": [
    {
     "name": "stdout",
     "output_type": "stream",
     "text": [
      "enter the value-9\n",
      "no\n"
     ]
    }
   ],
   "source": [
    "x = int(input(\"enter the value\"))\n",
    "if x>0:\n",
    "    print('yes')\n",
    "    if x<50:\n",
    "        print(\"lessthan\")\n",
    "        if x% 2==0:\n",
    "            print(\"even number\")\n",
    "        else:\n",
    "            print(\"odd number\")\n",
    "    else:\n",
    "        print(\"value is graether than\")\n",
    "else:\n",
    "    print('no')"
   ]
  },
  {
   "cell_type": "code",
   "execution_count": 6,
   "id": "cc514f5f",
   "metadata": {},
   "outputs": [
    {
     "name": "stdout",
     "output_type": "stream",
     "text": [
      "student marks99\n",
      "enter the attendence99\n"
     ]
    },
    {
     "ename": "TypeError",
     "evalue": "'>=' not supported between instances of 'str' and 'int'",
     "output_type": "error",
     "traceback": [
      "\u001b[0;31m---------------------------------------------------------------------------\u001b[0m",
      "\u001b[0;31mTypeError\u001b[0m                                 Traceback (most recent call last)",
      "Cell \u001b[0;32mIn[6], line 3\u001b[0m\n\u001b[1;32m      1\u001b[0m grade \u001b[38;5;241m=\u001b[39m \u001b[38;5;28minput\u001b[39m(\u001b[38;5;124m\"\u001b[39m\u001b[38;5;124mstudent marks\u001b[39m\u001b[38;5;124m\"\u001b[39m)\n\u001b[1;32m      2\u001b[0m attendence \u001b[38;5;241m=\u001b[39m \u001b[38;5;28minput\u001b[39m(\u001b[38;5;124m\"\u001b[39m\u001b[38;5;124menter the attendence\u001b[39m\u001b[38;5;124m\"\u001b[39m)\n\u001b[0;32m----> 3\u001b[0m \u001b[38;5;28;01mif\u001b[39;00m (attendence \u001b[38;5;241m>\u001b[39m\u001b[38;5;241m=\u001b[39m\u001b[38;5;241m90\u001b[39m):\n\u001b[1;32m      4\u001b[0m     \u001b[38;5;28mprint\u001b[39m(\u001b[38;5;124m\"\u001b[39m\u001b[38;5;124myou wil get offer\u001b[39m\u001b[38;5;124m\"\u001b[39m)\n\u001b[1;32m      5\u001b[0m     \u001b[38;5;28;01mif\u001b[39;00m (grade  \u001b[38;5;241m>\u001b[39m\u001b[38;5;241m=\u001b[39m\u001b[38;5;241m80\u001b[39m):\n",
      "\u001b[0;31mTypeError\u001b[0m: '>=' not supported between instances of 'str' and 'int'"
     ]
    }
   ],
   "source": [
    "grade = input(\"student marks\")\n",
    "attendence = input(\"enter the attendence\")\n",
    "if(attendence >=90):\n",
    "    print(\"you wil get offer\")\n",
    "    if (grade  >=80):\n",
    "        print(\"you have a interview\")\n",
    "    else:\n",
    "        print(\"failed\")\n",
    "else:\n",
    "    print(\"failed\")\n",
    "    "
   ]
  },
  {
   "cell_type": "code",
   "execution_count": 10,
   "id": "8ead805e",
   "metadata": {},
   "outputs": [
    {
     "name": "stdout",
     "output_type": "stream",
     "text": [
      "enter the daymonday\n",
      "enter the age11\n"
     ]
    },
    {
     "ename": "AttributeError",
     "evalue": "'str' object has no attribute 'age'",
     "output_type": "error",
     "traceback": [
      "\u001b[0;31m---------------------------------------------------------------------------\u001b[0m",
      "\u001b[0;31mAttributeError\u001b[0m                            Traceback (most recent call last)",
      "Cell \u001b[0;32mIn[10], line 4\u001b[0m\n\u001b[1;32m      1\u001b[0m a \u001b[38;5;241m=\u001b[39m \u001b[38;5;28minput\u001b[39m(\u001b[38;5;124m\"\u001b[39m\u001b[38;5;124menter the day\u001b[39m\u001b[38;5;124m\"\u001b[39m)\n\u001b[1;32m      2\u001b[0m b \u001b[38;5;241m=\u001b[39m \u001b[38;5;28minput\u001b[39m(\u001b[38;5;124m\"\u001b[39m\u001b[38;5;124menter the age\u001b[39m\u001b[38;5;124m\"\u001b[39m)\n\u001b[0;32m----> 4\u001b[0m \u001b[38;5;28;01mif\u001b[39;00m(b\u001b[38;5;241m.\u001b[39mage\u001b[38;5;241m<\u001b[39m\u001b[38;5;241m12\u001b[39m):\n\u001b[1;32m      5\u001b[0m     \u001b[38;5;28mprint\u001b[39m(\u001b[38;5;124m\"\u001b[39m\u001b[38;5;124mmonday\u001b[39m\u001b[38;5;124m\"\u001b[39m,\u001b[38;5;124m\"\u001b[39m\u001b[38;5;124mtuesday\u001b[39m\u001b[38;5;124m\"\u001b[39m,\u001b[38;5;124m\"\u001b[39m\u001b[38;5;124mwednesday\u001b[39m\u001b[38;5;124m\"\u001b[39m,\u001b[38;5;124m\"\u001b[39m\u001b[38;5;124mthrusday\u001b[39m\u001b[38;5;124m\"\u001b[39m,\u001b[38;5;124m\"\u001b[39m\u001b[38;5;124mfriday\u001b[39m\u001b[38;5;124m\"\u001b[39m)\n\u001b[1;32m      6\u001b[0m     \u001b[38;5;28;01mif\u001b[39;00m(age\u001b[38;5;241m>\u001b[39m\u001b[38;5;241m18\u001b[39m):\n",
      "\u001b[0;31mAttributeError\u001b[0m: 'str' object has no attribute 'age'"
     ]
    }
   ],
   "source": [
    "a = input(\"enter the day\")\n",
    "b = input(\"enter the age\")\n",
    "\n",
    "if(age<12):\n",
    "    print(\"monday\",\"tuesday\",\"wednesday\",\"thrusday\",\"friday\")\n",
    "    if(age>18):\n",
    "             print(\"monday\",\"tuesday\",\"wednesday\",\"thrusday\",\"friday\")\n",
    "    else:\n",
    "        print(\"discount 10\")\n",
    "else:\n",
    "    print(\"no discount\")\n"
   ]
  },
  {
   "cell_type": "code",
   "execution_count": null,
   "id": "f124d128",
   "metadata": {},
   "outputs": [],
   "source": []
  },
  {
   "cell_type": "code",
   "execution_count": null,
   "id": "dfe60c64",
   "metadata": {},
   "outputs": [],
   "source": []
  },
  {
   "cell_type": "code",
   "execution_count": null,
   "id": "7de31605",
   "metadata": {},
   "outputs": [],
   "source": []
  },
  {
   "cell_type": "code",
   "execution_count": null,
   "id": "93db8a37",
   "metadata": {},
   "outputs": [],
   "source": []
  },
  {
   "cell_type": "code",
   "execution_count": null,
   "id": "708e8d9d",
   "metadata": {},
   "outputs": [],
   "source": [
    "\n",
    "\n"
   ]
  },
  {
   "cell_type": "code",
   "execution_count": null,
   "id": "7a9eee4c",
   "metadata": {},
   "outputs": [],
   "source": []
  },
  {
   "cell_type": "code",
   "execution_count": null,
   "id": "40826071",
   "metadata": {},
   "outputs": [],
   "source": []
  },
  {
   "cell_type": "code",
   "execution_count": null,
   "id": "ee2dc9fc",
   "metadata": {},
   "outputs": [],
   "source": []
  },
  {
   "cell_type": "code",
   "execution_count": null,
   "id": "4621fb6d",
   "metadata": {},
   "outputs": [],
   "source": []
  },
  {
   "cell_type": "code",
   "execution_count": null,
   "id": "a21ffaeb",
   "metadata": {},
   "outputs": [],
   "source": []
  },
  {
   "cell_type": "code",
   "execution_count": null,
   "id": "84e91bcf",
   "metadata": {},
   "outputs": [],
   "source": [
    "\n"
   ]
  }
 ],
 "metadata": {
  "kernelspec": {
   "display_name": "Python 3 (ipykernel)",
   "language": "python",
   "name": "python3"
  },
  "language_info": {
   "codemirror_mode": {
    "name": "ipython",
    "version": 3
   },
   "file_extension": ".py",
   "mimetype": "text/x-python",
   "name": "python",
   "nbconvert_exporter": "python",
   "pygments_lexer": "ipython3",
   "version": "3.11.5"
  }
 },
 "nbformat": 4,
 "nbformat_minor": 5
}
