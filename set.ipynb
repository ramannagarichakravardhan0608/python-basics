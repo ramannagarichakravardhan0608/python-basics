{
 "cells": [
  {
   "cell_type": "markdown",
   "id": "f34a7f06",
   "metadata": {},
   "source": [
    "# empty set"
   ]
  },
  {
   "cell_type": "code",
   "execution_count": 1,
   "id": "65c4335b",
   "metadata": {},
   "outputs": [],
   "source": [
    "s1 = {1,4,8,9}"
   ]
  },
  {
   "cell_type": "code",
   "execution_count": 2,
   "id": "54594536",
   "metadata": {},
   "outputs": [
    {
     "data": {
      "text/plain": [
       "set"
      ]
     },
     "execution_count": 2,
     "metadata": {},
     "output_type": "execute_result"
    }
   ],
   "source": [
    "type(s1)"
   ]
  },
  {
   "cell_type": "code",
   "execution_count": 3,
   "id": "c83ab104",
   "metadata": {},
   "outputs": [],
   "source": [
    "s2 = set()"
   ]
  },
  {
   "cell_type": "code",
   "execution_count": 4,
   "id": "1f8e9cf9",
   "metadata": {},
   "outputs": [
    {
     "name": "stdout",
     "output_type": "stream",
     "text": [
      "<class 'set'>\n"
     ]
    }
   ],
   "source": [
    "print(type(s2))"
   ]
  },
  {
   "cell_type": "code",
   "execution_count": 6,
   "id": "b1cb6186",
   "metadata": {},
   "outputs": [],
   "source": [
    "s3 = set({1,2,3})"
   ]
  },
  {
   "cell_type": "code",
   "execution_count": 7,
   "id": "7e5a6ff6",
   "metadata": {},
   "outputs": [
    {
     "name": "stdout",
     "output_type": "stream",
     "text": [
      "<class 'set'>\n"
     ]
    }
   ],
   "source": [
    "print(type(s3))"
   ]
  },
  {
   "cell_type": "code",
   "execution_count": 12,
   "id": "9e5b26c6",
   "metadata": {},
   "outputs": [],
   "source": [
    "s6 =set(\"hello\")"
   ]
  },
  {
   "cell_type": "code",
   "execution_count": 13,
   "id": "cec35c44",
   "metadata": {},
   "outputs": [
    {
     "data": {
      "text/plain": [
       "{'e', 'h', 'l', 'o'}"
      ]
     },
     "execution_count": 13,
     "metadata": {},
     "output_type": "execute_result"
    }
   ],
   "source": [
    "s6"
   ]
  },
  {
   "cell_type": "code",
   "execution_count": 14,
   "id": "d04614ea",
   "metadata": {},
   "outputs": [],
   "source": [
    "s6 = set({\"hello\"})"
   ]
  },
  {
   "cell_type": "code",
   "execution_count": 15,
   "id": "d34d4289",
   "metadata": {},
   "outputs": [
    {
     "data": {
      "text/plain": [
       "{'hello'}"
      ]
     },
     "execution_count": 15,
     "metadata": {},
     "output_type": "execute_result"
    }
   ],
   "source": [
    "s6"
   ]
  },
  {
   "cell_type": "code",
   "execution_count": 16,
   "id": "d5fd3959",
   "metadata": {},
   "outputs": [],
   "source": [
    "# create a empty set\n",
    "s1 = {}"
   ]
  },
  {
   "cell_type": "code",
   "execution_count": 17,
   "id": "f5b4a3ba",
   "metadata": {},
   "outputs": [
    {
     "name": "stdout",
     "output_type": "stream",
     "text": [
      "<class 'dict'>\n"
     ]
    }
   ],
   "source": [
    "print(type(s1))"
   ]
  },
  {
   "cell_type": "code",
   "execution_count": 20,
   "id": "c63b8682",
   "metadata": {},
   "outputs": [
    {
     "name": "stdout",
     "output_type": "stream",
     "text": [
      "{2, 3, 4, 5, 6, 7, 8, 9}\n"
     ]
    }
   ],
   "source": [
    "s3 = {2,3,4,5,9,6,9,8,7,7,7,7,8,6,5,7}\n",
    "print(s3)"
   ]
  },
  {
   "cell_type": "code",
   "execution_count": 21,
   "id": "3c29ee22",
   "metadata": {},
   "outputs": [],
   "source": [
    "s4 = set('2')"
   ]
  },
  {
   "cell_type": "markdown",
   "id": "a86c9395",
   "metadata": {},
   "source": [
    "s4"
   ]
  },
  {
   "cell_type": "code",
   "execution_count": 22,
   "id": "5b7d00cd",
   "metadata": {},
   "outputs": [
    {
     "data": {
      "text/plain": [
       "{'2'}"
      ]
     },
     "execution_count": 22,
     "metadata": {},
     "output_type": "execute_result"
    }
   ],
   "source": [
    "s4"
   ]
  },
  {
   "cell_type": "code",
   "execution_count": 25,
   "id": "b196eeaf",
   "metadata": {},
   "outputs": [],
   "source": [
    "s5 = set(\"hello\")"
   ]
  },
  {
   "cell_type": "code",
   "execution_count": 26,
   "id": "56da0d6f",
   "metadata": {},
   "outputs": [
    {
     "data": {
      "text/plain": [
       "{'e', 'h', 'l', 'o'}"
      ]
     },
     "execution_count": 26,
     "metadata": {},
     "output_type": "execute_result"
    }
   ],
   "source": [
    "s5"
   ]
  },
  {
   "cell_type": "code",
   "execution_count": 27,
   "id": "fb21df81",
   "metadata": {},
   "outputs": [],
   "source": [
    "s5 = set({\"hello\"})"
   ]
  },
  {
   "cell_type": "code",
   "execution_count": 28,
   "id": "85925f5f",
   "metadata": {},
   "outputs": [
    {
     "data": {
      "text/plain": [
       "{'hello'}"
      ]
     },
     "execution_count": 28,
     "metadata": {},
     "output_type": "execute_result"
    }
   ],
   "source": [
    "s5\n"
   ]
  },
  {
   "cell_type": "code",
   "execution_count": 30,
   "id": "9622bf72",
   "metadata": {},
   "outputs": [
    {
     "data": {
      "text/plain": [
       "{False, True, 1.5}"
      ]
     },
     "execution_count": 30,
     "metadata": {},
     "output_type": "execute_result"
    }
   ],
   "source": [
    "{True,False,0,1.5}"
   ]
  },
  {
   "cell_type": "code",
   "execution_count": 31,
   "id": "44fe47b0",
   "metadata": {},
   "outputs": [
    {
     "data": {
      "text/plain": [
       "{False, True, 9}"
      ]
     },
     "execution_count": 31,
     "metadata": {},
     "output_type": "execute_result"
    }
   ],
   "source": [
    "{True,False,0,1,9}"
   ]
  },
  {
   "cell_type": "code",
   "execution_count": 32,
   "id": "99317877",
   "metadata": {},
   "outputs": [
    {
     "data": {
      "text/plain": [
       "{False, True, 8, 9}"
      ]
     },
     "execution_count": 32,
     "metadata": {},
     "output_type": "execute_result"
    }
   ],
   "source": [
    "{False,True,9,8,True}"
   ]
  },
  {
   "cell_type": "code",
   "execution_count": 33,
   "id": "ed12b3fd",
   "metadata": {},
   "outputs": [
    {
     "data": {
      "text/plain": [
       "{False, 1, 3}"
      ]
     },
     "execution_count": 33,
     "metadata": {},
     "output_type": "execute_result"
    }
   ],
   "source": [
    "{1,3,False,True}"
   ]
  },
  {
   "cell_type": "code",
   "execution_count": 34,
   "id": "99077b7b",
   "metadata": {},
   "outputs": [
    {
     "data": {
      "text/plain": [
       "{False, 1, 8, 9}"
      ]
     },
     "execution_count": 34,
     "metadata": {},
     "output_type": "execute_result"
    }
   ],
   "source": [
    "{1,9,False,True,8,0}"
   ]
  },
  {
   "cell_type": "code",
   "execution_count": 35,
   "id": "891a118a",
   "metadata": {},
   "outputs": [
    {
     "data": {
      "text/plain": [
       "{0, True, 8, 9}"
      ]
     },
     "execution_count": 35,
     "metadata": {},
     "output_type": "execute_result"
    }
   ],
   "source": [
    "{True,0,8,9,8,False}"
   ]
  },
  {
   "cell_type": "code",
   "execution_count": 36,
   "id": "badea5f7",
   "metadata": {},
   "outputs": [],
   "source": [
    "# add"
   ]
  },
  {
   "cell_type": "code",
   "execution_count": 37,
   "id": "68c2a32a",
   "metadata": {},
   "outputs": [],
   "source": [
    "s = {1,2,3,49,50,90}"
   ]
  },
  {
   "cell_type": "code",
   "execution_count": 38,
   "id": "4f3f767e",
   "metadata": {},
   "outputs": [
    {
     "data": {
      "text/plain": [
       "{1, 2, 3, 49, 50, 90}"
      ]
     },
     "execution_count": 38,
     "metadata": {},
     "output_type": "execute_result"
    }
   ],
   "source": [
    "s"
   ]
  },
  {
   "cell_type": "code",
   "execution_count": 43,
   "id": "9ce42bea",
   "metadata": {},
   "outputs": [],
   "source": [
    "s.add(980)"
   ]
  },
  {
   "cell_type": "code",
   "execution_count": 44,
   "id": "826e1b76",
   "metadata": {},
   "outputs": [
    {
     "data": {
      "text/plain": [
       "{1, 2, 3, 49, 50, 90, 900, 980}"
      ]
     },
     "execution_count": 44,
     "metadata": {},
     "output_type": "execute_result"
    }
   ],
   "source": [
    "s\n"
   ]
  },
  {
   "cell_type": "code",
   "execution_count": 49,
   "id": "eb1e394e",
   "metadata": {},
   "outputs": [],
   "source": [
    "s.update([45,67,89])"
   ]
  },
  {
   "cell_type": "code",
   "execution_count": 50,
   "id": "5f3cd6ad",
   "metadata": {},
   "outputs": [
    {
     "data": {
      "text/plain": [
       "{1, 2, 3, 45, 49, 50, 67, 89, 90, 900, 980, 456789}"
      ]
     },
     "execution_count": 50,
     "metadata": {},
     "output_type": "execute_result"
    }
   ],
   "source": [
    "s"
   ]
  },
  {
   "cell_type": "code",
   "execution_count": 54,
   "id": "1c039948",
   "metadata": {},
   "outputs": [
    {
     "ename": "NameError",
     "evalue": "name 'update' is not defined",
     "output_type": "error",
     "traceback": [
      "\u001b[0;31m---------------------------------------------------------------------------\u001b[0m",
      "\u001b[0;31mNameError\u001b[0m                                 Traceback (most recent call last)",
      "Cell \u001b[0;32mIn[54], line 1\u001b[0m\n\u001b[0;32m----> 1\u001b[0m si \u001b[38;5;241m=\u001b[39m update([\u001b[38;5;241m1\u001b[39m,\u001b[38;5;241m2\u001b[39m,\u001b[38;5;241m3\u001b[39m,\u001b[38;5;241m4\u001b[39m,\u001b[38;5;241m5\u001b[39m])\n\u001b[1;32m      2\u001b[0m si\n",
      "\u001b[0;31mNameError\u001b[0m: name 'update' is not defined"
     ]
    }
   ],
   "source": [
    "si = update([1,2,3,4,5])\n",
    "si"
   ]
  },
  {
   "cell_type": "code",
   "execution_count": 3,
   "id": "7f9cec28",
   "metadata": {},
   "outputs": [],
   "source": [
    "x = {1,2,3,45,6,8}"
   ]
  },
  {
   "cell_type": "code",
   "execution_count": 4,
   "id": "3aee524c",
   "metadata": {},
   "outputs": [],
   "source": [
    "x.discard(0)"
   ]
  },
  {
   "cell_type": "code",
   "execution_count": 59,
   "id": "85eff80e",
   "metadata": {},
   "outputs": [
    {
     "data": {
      "text/plain": [
       "{1, 2, 3, 6, 8, 45}"
      ]
     },
     "execution_count": 59,
     "metadata": {},
     "output_type": "execute_result"
    }
   ],
   "source": [
    "x"
   ]
  },
  {
   "cell_type": "code",
   "execution_count": 60,
   "id": "fc8ad46b",
   "metadata": {},
   "outputs": [],
   "source": [
    "x={1,2,3,4,5,6,8}"
   ]
  },
  {
   "cell_type": "code",
   "execution_count": 63,
   "id": "51077ced",
   "metadata": {},
   "outputs": [],
   "source": [
    "x.remove(8)"
   ]
  },
  {
   "cell_type": "code",
   "execution_count": 64,
   "id": "116666e7",
   "metadata": {},
   "outputs": [
    {
     "data": {
      "text/plain": [
       "{2, 3, 4, 5, 6}"
      ]
     },
     "execution_count": 64,
     "metadata": {},
     "output_type": "execute_result"
    }
   ],
   "source": [
    "x"
   ]
  },
  {
   "cell_type": "code",
   "execution_count": 65,
   "id": "f9970fca",
   "metadata": {},
   "outputs": [],
   "source": [
    "x = {1,2,3,4,5,6}"
   ]
  },
  {
   "cell_type": "code",
   "execution_count": 66,
   "id": "226a7e53",
   "metadata": {},
   "outputs": [
    {
     "data": {
      "text/plain": [
       "1"
      ]
     },
     "execution_count": 66,
     "metadata": {},
     "output_type": "execute_result"
    }
   ],
   "source": [
    "x.pop()"
   ]
  },
  {
   "cell_type": "code",
   "execution_count": 5,
   "id": "c83eef35",
   "metadata": {},
   "outputs": [],
   "source": [
    "x = {2,3,4,5,9,9,0}"
   ]
  },
  {
   "cell_type": "code",
   "execution_count": 6,
   "id": "6603f487",
   "metadata": {},
   "outputs": [
    {
     "data": {
      "text/plain": [
       "{0, 2, 3, 4, 5, 9}"
      ]
     },
     "execution_count": 6,
     "metadata": {},
     "output_type": "execute_result"
    }
   ],
   "source": [
    "x"
   ]
  },
  {
   "cell_type": "code",
   "execution_count": 7,
   "id": "f3442c1b",
   "metadata": {},
   "outputs": [],
   "source": [
    "x.discard(9)"
   ]
  },
  {
   "cell_type": "code",
   "execution_count": 8,
   "id": "bd55090e",
   "metadata": {},
   "outputs": [
    {
     "data": {
      "text/plain": [
       "{0, 2, 3, 4, 5}"
      ]
     },
     "execution_count": 8,
     "metadata": {},
     "output_type": "execute_result"
    }
   ],
   "source": [
    "x"
   ]
  },
  {
   "cell_type": "code",
   "execution_count": 9,
   "id": "a06dbc6f",
   "metadata": {},
   "outputs": [],
   "source": [
    "x.discard(9)"
   ]
  },
  {
   "cell_type": "code",
   "execution_count": 10,
   "id": "3059f2e3",
   "metadata": {},
   "outputs": [],
   "source": [
    "x = {0,9,8,9}"
   ]
  },
  {
   "cell_type": "code",
   "execution_count": 11,
   "id": "97ba7871",
   "metadata": {},
   "outputs": [
    {
     "data": {
      "text/plain": [
       "{0, 8, 9}"
      ]
     },
     "execution_count": 11,
     "metadata": {},
     "output_type": "execute_result"
    }
   ],
   "source": [
    "x"
   ]
  },
  {
   "cell_type": "code",
   "execution_count": 12,
   "id": "166f2e17",
   "metadata": {},
   "outputs": [],
   "source": [
    "x.remove(9)"
   ]
  },
  {
   "cell_type": "code",
   "execution_count": 13,
   "id": "0873af02",
   "metadata": {},
   "outputs": [
    {
     "data": {
      "text/plain": [
       "{0, 8}"
      ]
     },
     "execution_count": 13,
     "metadata": {},
     "output_type": "execute_result"
    }
   ],
   "source": [
    "x"
   ]
  },
  {
   "cell_type": "code",
   "execution_count": 14,
   "id": "8893a29c",
   "metadata": {},
   "outputs": [],
   "source": [
    "x.discard(9)"
   ]
  },
  {
   "cell_type": "code",
   "execution_count": 15,
   "id": "73cc7328",
   "metadata": {},
   "outputs": [
    {
     "ename": "KeyError",
     "evalue": "9",
     "output_type": "error",
     "traceback": [
      "\u001b[0;31m---------------------------------------------------------------------------\u001b[0m",
      "\u001b[0;31mKeyError\u001b[0m                                  Traceback (most recent call last)",
      "Cell \u001b[0;32mIn[15], line 1\u001b[0m\n\u001b[0;32m----> 1\u001b[0m x\u001b[38;5;241m.\u001b[39mremove(\u001b[38;5;241m9\u001b[39m)\n",
      "\u001b[0;31mKeyError\u001b[0m: 9"
     ]
    }
   ],
   "source": [
    "x.remove(9)"
   ]
  },
  {
   "cell_type": "code",
   "execution_count": 16,
   "id": "271716dc",
   "metadata": {},
   "outputs": [],
   "source": [
    "x = {9,8,7,6}"
   ]
  },
  {
   "cell_type": "code",
   "execution_count": 17,
   "id": "1dd4875f",
   "metadata": {},
   "outputs": [
    {
     "data": {
      "text/plain": [
       "8"
      ]
     },
     "execution_count": 17,
     "metadata": {},
     "output_type": "execute_result"
    }
   ],
   "source": [
    "x.pop()"
   ]
  },
  {
   "cell_type": "code",
   "execution_count": 18,
   "id": "76a9bafb",
   "metadata": {},
   "outputs": [],
   "source": [
    "x.clear()"
   ]
  },
  {
   "cell_type": "code",
   "execution_count": 19,
   "id": "fec44ca6",
   "metadata": {},
   "outputs": [
    {
     "data": {
      "text/plain": [
       "set()"
      ]
     },
     "execution_count": 19,
     "metadata": {},
     "output_type": "execute_result"
    }
   ],
   "source": [
    "x"
   ]
  },
  {
   "cell_type": "markdown",
   "id": "5562a165",
   "metadata": {},
   "source": [
    "# manipulating and accessing sets"
   ]
  },
  {
   "cell_type": "code",
   "execution_count": 20,
   "id": "47ad417b",
   "metadata": {},
   "outputs": [],
   "source": [
    "x = {1,2,3,4,5,6}"
   ]
  },
  {
   "cell_type": "code",
   "execution_count": 21,
   "id": "06f6c785",
   "metadata": {},
   "outputs": [
    {
     "data": {
      "text/plain": [
       "6"
      ]
     },
     "execution_count": 21,
     "metadata": {},
     "output_type": "execute_result"
    }
   ],
   "source": [
    "len(x)"
   ]
  },
  {
   "cell_type": "code",
   "execution_count": 22,
   "id": "e45ba11e",
   "metadata": {},
   "outputs": [
    {
     "data": {
      "text/plain": [
       "1"
      ]
     },
     "execution_count": 22,
     "metadata": {},
     "output_type": "execute_result"
    }
   ],
   "source": [
    "min(x)"
   ]
  },
  {
   "cell_type": "code",
   "execution_count": 23,
   "id": "b46c03df",
   "metadata": {},
   "outputs": [
    {
     "data": {
      "text/plain": [
       "6"
      ]
     },
     "execution_count": 23,
     "metadata": {},
     "output_type": "execute_result"
    }
   ],
   "source": [
    "max(x)"
   ]
  },
  {
   "cell_type": "code",
   "execution_count": 24,
   "id": "2cd01f36",
   "metadata": {},
   "outputs": [
    {
     "data": {
      "text/plain": [
       "21"
      ]
     },
     "execution_count": 24,
     "metadata": {},
     "output_type": "execute_result"
    }
   ],
   "source": [
    "sum(x)"
   ]
  },
  {
   "cell_type": "code",
   "execution_count": 25,
   "id": "e672435e",
   "metadata": {},
   "outputs": [
    {
     "data": {
      "text/plain": [
       "True"
      ]
     },
     "execution_count": 25,
     "metadata": {},
     "output_type": "execute_result"
    }
   ],
   "source": [
    "1 in x"
   ]
  },
  {
   "cell_type": "code",
   "execution_count": 26,
   "id": "e5a70110",
   "metadata": {},
   "outputs": [
    {
     "data": {
      "text/plain": [
       "True"
      ]
     },
     "execution_count": 26,
     "metadata": {},
     "output_type": "execute_result"
    }
   ],
   "source": [
    "4 in x"
   ]
  },
  {
   "cell_type": "code",
   "execution_count": 27,
   "id": "6233b6e9",
   "metadata": {},
   "outputs": [
    {
     "data": {
      "text/plain": [
       "False"
      ]
     },
     "execution_count": 27,
     "metadata": {},
     "output_type": "execute_result"
    }
   ],
   "source": [
    "89 in x"
   ]
  },
  {
   "cell_type": "markdown",
   "id": "58141997",
   "metadata": {},
   "source": [
    "# set oparators"
   ]
  },
  {
   "cell_type": "code",
   "execution_count": 35,
   "id": "0ac134c8",
   "metadata": {},
   "outputs": [],
   "source": [
    "a = {1,2,3,4,8,9,10,9}\n",
    "b = {2,3,4,9,7,5,9,0,90}"
   ]
  },
  {
   "cell_type": "code",
   "execution_count": 36,
   "id": "ea5e3db1",
   "metadata": {},
   "outputs": [
    {
     "data": {
      "text/plain": [
       "{0, 1, 2, 3, 4, 5, 7, 8, 9, 10, 90}"
      ]
     },
     "execution_count": 36,
     "metadata": {},
     "output_type": "execute_result"
    }
   ],
   "source": [
    "a.union(b)"
   ]
  },
  {
   "cell_type": "code",
   "execution_count": 37,
   "id": "44d84b3b",
   "metadata": {},
   "outputs": [
    {
     "data": {
      "text/plain": [
       "{2, 3, 4, 9}"
      ]
     },
     "execution_count": 37,
     "metadata": {},
     "output_type": "execute_result"
    }
   ],
   "source": [
    "a.intersection(b)"
   ]
  },
  {
   "cell_type": "code",
   "execution_count": 38,
   "id": "2ed29476",
   "metadata": {},
   "outputs": [
    {
     "data": {
      "text/plain": [
       "{1, 8, 10}"
      ]
     },
     "execution_count": 38,
     "metadata": {},
     "output_type": "execute_result"
    }
   ],
   "source": [
    "a.difference(b)"
   ]
  },
  {
   "cell_type": "code",
   "execution_count": 39,
   "id": "733e89f7",
   "metadata": {},
   "outputs": [
    {
     "data": {
      "text/plain": [
       "{0, 5, 7, 90}"
      ]
     },
     "execution_count": 39,
     "metadata": {},
     "output_type": "execute_result"
    }
   ],
   "source": [
    "b.difference(a)"
   ]
  },
  {
   "cell_type": "code",
   "execution_count": 40,
   "id": "5761ffbb",
   "metadata": {},
   "outputs": [],
   "source": [
    "s1 = {1,2,3}\n",
    "s2 = {4,5,6}"
   ]
  },
  {
   "cell_type": "code",
   "execution_count": 44,
   "id": "76c17971",
   "metadata": {},
   "outputs": [
    {
     "data": {
      "text/plain": [
       "False"
      ]
     },
     "execution_count": 44,
     "metadata": {},
     "output_type": "execute_result"
    }
   ],
   "source": [
    "s2.isdisjoint(s1)"
   ]
  },
  {
   "cell_type": "code",
   "execution_count": 45,
   "id": "884ccb43",
   "metadata": {},
   "outputs": [],
   "source": [
    "s1 = {1,2,4}\n",
    "s2 = {2,3,4}"
   ]
  },
  {
   "cell_type": "code",
   "execution_count": 47,
   "id": "b56d5f3a",
   "metadata": {},
   "outputs": [
    {
     "data": {
      "text/plain": [
       "False"
      ]
     },
     "execution_count": 47,
     "metadata": {},
     "output_type": "execute_result"
    }
   ],
   "source": [
    "s2.isdisjoint(s1)"
   ]
  },
  {
   "cell_type": "markdown",
   "id": "af72d93f",
   "metadata": {},
   "source": [
    "# frozen set\n",
    "- derived data type from the sets"
   ]
  },
  {
   "cell_type": "code",
   "execution_count": 48,
   "id": "feeaf56a",
   "metadata": {},
   "outputs": [
    {
     "name": "stdout",
     "output_type": "stream",
     "text": [
      "<class 'set'>\n"
     ]
    }
   ],
   "source": [
    "x = {1,2,3,4,5}\n",
    "print(type(x))"
   ]
  },
  {
   "cell_type": "code",
   "execution_count": null,
   "id": "4e6654bc",
   "metadata": {},
   "outputs": [],
   "source": []
  },
  {
   "cell_type": "code",
   "execution_count": 53,
   "id": "3b4ef35f",
   "metadata": {},
   "outputs": [],
   "source": [
    "y = frozenset(x)"
   ]
  },
  {
   "cell_type": "code",
   "execution_count": 54,
   "id": "de57bd49",
   "metadata": {},
   "outputs": [
    {
     "name": "stdout",
     "output_type": "stream",
     "text": [
      "frozenset({1, 2, 3, 4, 5})\n"
     ]
    }
   ],
   "source": [
    "print(y)"
   ]
  },
  {
   "cell_type": "code",
   "execution_count": 56,
   "id": "6191f526",
   "metadata": {},
   "outputs": [
    {
     "name": "stdout",
     "output_type": "stream",
     "text": [
      "<class 'frozenset'>\n"
     ]
    }
   ],
   "source": [
    "print(type(y))"
   ]
  },
  {
   "cell_type": "code",
   "execution_count": 59,
   "id": "15c3ce92",
   "metadata": {},
   "outputs": [
    {
     "ename": "AttributeError",
     "evalue": "'frozenset' object has no attribute 'remove'",
     "output_type": "error",
     "traceback": [
      "\u001b[0;31m---------------------------------------------------------------------------\u001b[0m",
      "\u001b[0;31mAttributeError\u001b[0m                            Traceback (most recent call last)",
      "Cell \u001b[0;32mIn[59], line 1\u001b[0m\n\u001b[0;32m----> 1\u001b[0m y\u001b[38;5;241m.\u001b[39mremove(\u001b[38;5;241m3\u001b[39m)\n",
      "\u001b[0;31mAttributeError\u001b[0m: 'frozenset' object has no attribute 'remove'"
     ]
    }
   ],
   "source": [
    "y.remove(3)"
   ]
  },
  {
   "cell_type": "code",
   "execution_count": 58,
   "id": "f734f9c2",
   "metadata": {},
   "outputs": [
    {
     "data": {
      "text/plain": [
       "{1, 2, 4, 5}"
      ]
     },
     "execution_count": 58,
     "metadata": {},
     "output_type": "execute_result"
    }
   ],
   "source": [
    "x"
   ]
  },
  {
   "cell_type": "code",
   "execution_count": null,
   "id": "b52237b2",
   "metadata": {},
   "outputs": [],
   "source": []
  }
 ],
 "metadata": {
  "kernelspec": {
   "display_name": "Python 3 (ipykernel)",
   "language": "python",
   "name": "python3"
  },
  "language_info": {
   "codemirror_mode": {
    "name": "ipython",
    "version": 3
   },
   "file_extension": ".py",
   "mimetype": "text/x-python",
   "name": "python",
   "nbconvert_exporter": "python",
   "pygments_lexer": "ipython3",
   "version": "3.11.5"
  }
 },
 "nbformat": 4,
 "nbformat_minor": 5
}
