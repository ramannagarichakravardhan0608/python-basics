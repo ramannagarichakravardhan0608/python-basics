{
 "cells": [
  {
   "cell_type": "markdown",
   "id": "0c86a800",
   "metadata": {},
   "source": [
    "# advance data types\n",
    "- list is oreder collection of items\n",
    "- represented by[]"
   ]
  },
  {
   "cell_type": "markdown",
   "id": "78953074",
   "metadata": {},
   "source": [
    "# list"
   ]
  },
  {
   "cell_type": "code",
   "execution_count": 1,
   "id": "9a0c1478",
   "metadata": {},
   "outputs": [],
   "source": [
    "x = [] # create a empty list"
   ]
  },
  {
   "cell_type": "code",
   "execution_count": 2,
   "id": "55ca9e4d",
   "metadata": {},
   "outputs": [
    {
     "name": "stdout",
     "output_type": "stream",
     "text": [
      "[]\n"
     ]
    }
   ],
   "source": [
    "print(x)"
   ]
  },
  {
   "cell_type": "code",
   "execution_count": 3,
   "id": "537f7e94",
   "metadata": {},
   "outputs": [
    {
     "name": "stdout",
     "output_type": "stream",
     "text": [
      "<class 'list'>\n"
     ]
    }
   ],
   "source": [
    "print(type(x))"
   ]
  },
  {
   "cell_type": "markdown",
   "id": "123e9716",
   "metadata": {},
   "source": [
    "# integers"
   ]
  },
  {
   "cell_type": "code",
   "execution_count": 4,
   "id": "e51c5267",
   "metadata": {},
   "outputs": [],
   "source": [
    "x = [1,2,3,4,5]"
   ]
  },
  {
   "cell_type": "code",
   "execution_count": 5,
   "id": "759454c1",
   "metadata": {},
   "outputs": [
    {
     "name": "stdout",
     "output_type": "stream",
     "text": [
      "[1, 2, 3, 4, 5]\n"
     ]
    }
   ],
   "source": [
    "print(x)"
   ]
  },
  {
   "cell_type": "markdown",
   "id": "910b2bd9",
   "metadata": {},
   "source": [
    "# float"
   ]
  },
  {
   "cell_type": "code",
   "execution_count": 6,
   "id": "5aa8e7ad",
   "metadata": {},
   "outputs": [],
   "source": [
    "x = [6.8,9.0,9.7]"
   ]
  },
  {
   "cell_type": "code",
   "execution_count": 7,
   "id": "230e8c37",
   "metadata": {},
   "outputs": [
    {
     "name": "stdout",
     "output_type": "stream",
     "text": [
      "[6.8, 9.0, 9.7]\n"
     ]
    }
   ],
   "source": [
    "print(x)"
   ]
  },
  {
   "cell_type": "markdown",
   "id": "5c3fec10",
   "metadata": {},
   "source": [
    "# string"
   ]
  },
  {
   "cell_type": "code",
   "execution_count": 9,
   "id": "ce00a49e",
   "metadata": {},
   "outputs": [
    {
     "name": "stdout",
     "output_type": "stream",
     "text": [
      "['nani']\n"
     ]
    }
   ],
   "source": [
    "x = [\"nani\"]\n",
    "print(f\"{x}\")"
   ]
  },
  {
   "cell_type": "markdown",
   "id": "b4aac77d",
   "metadata": {},
   "source": [
    "# mixed data type"
   ]
  },
  {
   "cell_type": "code",
   "execution_count": 10,
   "id": "080b53da",
   "metadata": {},
   "outputs": [],
   "source": [
    "x = [1,4.6,'nani',True,3,4,4,\"nani\"]"
   ]
  },
  {
   "cell_type": "code",
   "execution_count": 11,
   "id": "7bf5bd46",
   "metadata": {},
   "outputs": [
    {
     "data": {
      "text/plain": [
       "[1, 4.6, 'nani', True, 3, 4, 4, 'nani']"
      ]
     },
     "execution_count": 11,
     "metadata": {},
     "output_type": "execute_result"
    }
   ],
   "source": [
    "x"
   ]
  },
  {
   "cell_type": "markdown",
   "id": "8b08b119",
   "metadata": {},
   "source": [
    "# nested list"
   ]
  },
  {
   "cell_type": "code",
   "execution_count": 12,
   "id": "3d7fba25",
   "metadata": {},
   "outputs": [],
   "source": [
    "x = [2,3.4,[\"nani\",87,8.9],[\"nnani\",9,9.0],12,12]"
   ]
  },
  {
   "cell_type": "code",
   "execution_count": 13,
   "id": "d4704123",
   "metadata": {},
   "outputs": [
    {
     "data": {
      "text/plain": [
       "[2, 3.4, ['nani', 87, 8.9], ['nnani', 9, 9.0], 12, 12]"
      ]
     },
     "execution_count": 13,
     "metadata": {},
     "output_type": "execute_result"
    }
   ],
   "source": [
    "x"
   ]
  },
  {
   "cell_type": "code",
   "execution_count": 14,
   "id": "40eb4979",
   "metadata": {},
   "outputs": [],
   "source": [
    "x = [3+8j]"
   ]
  },
  {
   "cell_type": "code",
   "execution_count": 15,
   "id": "3e971af8",
   "metadata": {},
   "outputs": [
    {
     "data": {
      "text/plain": [
       "[(3+8j)]"
      ]
     },
     "execution_count": 15,
     "metadata": {},
     "output_type": "execute_result"
    }
   ],
   "source": [
    "x"
   ]
  },
  {
   "cell_type": "code",
   "execution_count": 16,
   "id": "57a8dea1",
   "metadata": {},
   "outputs": [
    {
     "name": "stdout",
     "output_type": "stream",
     "text": [
      "<class 'list'>\n"
     ]
    }
   ],
   "source": [
    "print(type(x))"
   ]
  },
  {
   "cell_type": "code",
   "execution_count": 17,
   "id": "2ef444d9",
   "metadata": {},
   "outputs": [],
   "source": [
    "x = [1,4.6,'nani',True,3,4,4,\"nani\"]"
   ]
  },
  {
   "cell_type": "code",
   "execution_count": 31,
   "id": "4abfc5dc",
   "metadata": {},
   "outputs": [
    {
     "name": "stdout",
     "output_type": "stream",
     "text": [
      "[4.6, 'nani']\n"
     ]
    }
   ],
   "source": [
    "print(x[1:3])"
   ]
  },
  {
   "cell_type": "code",
   "execution_count": 32,
   "id": "cbca7c72",
   "metadata": {},
   "outputs": [
    {
     "name": "stdout",
     "output_type": "stream",
     "text": [
      "[1, 4.6, 'nani', True, 3, 4]\n"
     ]
    }
   ],
   "source": [
    "print(x[0:6])"
   ]
  },
  {
   "cell_type": "code",
   "execution_count": 33,
   "id": "9efc8829",
   "metadata": {},
   "outputs": [
    {
     "name": "stdout",
     "output_type": "stream",
     "text": [
      "['nani', 4, True, 4.6]\n"
     ]
    }
   ],
   "source": [
    "print(x[::-2])"
   ]
  },
  {
   "cell_type": "code",
   "execution_count": 34,
   "id": "fa7da2e5",
   "metadata": {},
   "outputs": [
    {
     "name": "stdout",
     "output_type": "stream",
     "text": [
      "['nani', 4, 4, 3, True, 'nani', 4.6, 1]\n"
     ]
    }
   ],
   "source": [
    "print(x[::-1])"
   ]
  },
  {
   "cell_type": "code",
   "execution_count": 35,
   "id": "8cbaeaca",
   "metadata": {},
   "outputs": [
    {
     "name": "stdout",
     "output_type": "stream",
     "text": [
      "[1, 4.6, 'nani', True, 3, 4, 4, 'nani']\n"
     ]
    }
   ],
   "source": [
    "print(x[::1])"
   ]
  },
  {
   "cell_type": "code",
   "execution_count": 23,
   "id": "b59b1c20",
   "metadata": {},
   "outputs": [
    {
     "data": {
      "text/plain": [
       "[1, 'nani', 3, 4]"
      ]
     },
     "execution_count": 23,
     "metadata": {},
     "output_type": "execute_result"
    }
   ],
   "source": [
    "x[::2]"
   ]
  },
  {
   "cell_type": "code",
   "execution_count": 30,
   "id": "47e1c653",
   "metadata": {},
   "outputs": [
    {
     "data": {
      "text/plain": [
       "[4.6, True, 4]"
      ]
     },
     "execution_count": 30,
     "metadata": {},
     "output_type": "execute_result"
    }
   ],
   "source": [
    "x[-7:-1:2]"
   ]
  },
  {
   "cell_type": "code",
   "execution_count": 25,
   "id": "775b4a68",
   "metadata": {},
   "outputs": [
    {
     "data": {
      "text/plain": [
       "[1, 4.6, 'nani', True, 3, 4, 4, 'nani']"
      ]
     },
     "execution_count": 25,
     "metadata": {},
     "output_type": "execute_result"
    }
   ],
   "source": [
    "x[-8:]"
   ]
  },
  {
   "cell_type": "code",
   "execution_count": 26,
   "id": "63620545",
   "metadata": {},
   "outputs": [
    {
     "data": {
      "text/plain": [
       "[1, 4.6, 'nani', True, 3, 4, 4, 'nani']"
      ]
     },
     "execution_count": 26,
     "metadata": {},
     "output_type": "execute_result"
    }
   ],
   "source": [
    "x[0:]"
   ]
  },
  {
   "cell_type": "code",
   "execution_count": 27,
   "id": "e4fdc728",
   "metadata": {},
   "outputs": [
    {
     "data": {
      "text/plain": [
       "[1, 4.6, 'nani']"
      ]
     },
     "execution_count": 27,
     "metadata": {},
     "output_type": "execute_result"
    }
   ],
   "source": [
    "x[-8:-5]"
   ]
  },
  {
   "cell_type": "code",
   "execution_count": 28,
   "id": "1cbfe868",
   "metadata": {},
   "outputs": [
    {
     "data": {
      "text/plain": [
       "[4.6, 'nani', True, 3]"
      ]
     },
     "execution_count": 28,
     "metadata": {},
     "output_type": "execute_result"
    }
   ],
   "source": [
    "x[1:5]"
   ]
  },
  {
   "cell_type": "code",
   "execution_count": 36,
   "id": "5e40fc87",
   "metadata": {},
   "outputs": [],
   "source": [
    "x=[2,3.6,[\"python\",4.5,8],[4,\"cat\",\"hyderabad\",9],10,11]"
   ]
  },
  {
   "cell_type": "code",
   "execution_count": 52,
   "id": "8997beec",
   "metadata": {},
   "outputs": [
    {
     "ename": "TypeError",
     "evalue": "'int' object is not subscriptable",
     "output_type": "error",
     "traceback": [
      "\u001b[0;31m---------------------------------------------------------------------------\u001b[0m",
      "\u001b[0;31mTypeError\u001b[0m                                 Traceback (most recent call last)",
      "Cell \u001b[0;32mIn[52], line 1\u001b[0m\n\u001b[0;32m----> 1\u001b[0m x[\u001b[38;5;241m3\u001b[39m][\u001b[38;5;241m2\u001b[39m]\n",
      "\u001b[0;31mTypeError\u001b[0m: 'int' object is not subscriptable"
     ]
    }
   ],
   "source": [
    "x[3][2]"
   ]
  },
  {
   "cell_type": "code",
   "execution_count": 39,
   "id": "261e442a",
   "metadata": {},
   "outputs": [
    {
     "data": {
      "text/plain": [
       "[[4, 'cat', 'hyderabad', 9], 10]"
      ]
     },
     "execution_count": 39,
     "metadata": {},
     "output_type": "execute_result"
    }
   ],
   "source": [
    "x[3:5]"
   ]
  },
  {
   "cell_type": "code",
   "execution_count": 42,
   "id": "be5974b0",
   "metadata": {},
   "outputs": [],
   "source": [
    "x =[2,3.5,7,[\"nani\",0,4,5.6],[\"manu\",4,5.6,],0,9]"
   ]
  },
  {
   "cell_type": "code",
   "execution_count": 45,
   "id": "94926e21",
   "metadata": {},
   "outputs": [
    {
     "ename": "TypeError",
     "evalue": "'float' object is not subscriptable",
     "output_type": "error",
     "traceback": [
      "\u001b[0;31m---------------------------------------------------------------------------\u001b[0m",
      "\u001b[0;31mTypeError\u001b[0m                                 Traceback (most recent call last)",
      "Cell \u001b[0;32mIn[45], line 1\u001b[0m\n\u001b[0;32m----> 1\u001b[0m x[\u001b[38;5;241m1\u001b[39m][\u001b[38;5;241m0\u001b[39m]\n",
      "\u001b[0;31mTypeError\u001b[0m: 'float' object is not subscriptable"
     ]
    }
   ],
   "source": [
    "x[1][0]"
   ]
  },
  {
   "cell_type": "markdown",
   "id": "4946a9aa",
   "metadata": {},
   "source": [
    "# list function"
   ]
  },
  {
   "cell_type": "markdown",
   "id": "990fcf4a",
   "metadata": {},
   "source": [
    "# append"
   ]
  },
  {
   "cell_type": "code",
   "execution_count": 47,
   "id": "2d0f5647",
   "metadata": {},
   "outputs": [],
   "source": [
    "x =[2,3,4,9] # is used to added single element to the list\n",
    "x.append(99)"
   ]
  },
  {
   "cell_type": "code",
   "execution_count": 48,
   "id": "60d0df85",
   "metadata": {},
   "outputs": [
    {
     "name": "stdout",
     "output_type": "stream",
     "text": [
      "[2, 3, 4, 9, 99]\n"
     ]
    }
   ],
   "source": [
    "print(f\"{x}\")"
   ]
  },
  {
   "cell_type": "markdown",
   "id": "02c05820",
   "metadata": {},
   "source": [
    "# extend"
   ]
  },
  {
   "cell_type": "code",
   "execution_count": 59,
   "id": "d50904b8",
   "metadata": {},
   "outputs": [
    {
     "data": {
      "text/plain": [
       "[2, 3, 4, 9]"
      ]
     },
     "execution_count": 59,
     "metadata": {},
     "output_type": "execute_result"
    }
   ],
   "source": [
    "x"
   ]
  },
  {
   "cell_type": "code",
   "execution_count": 11,
   "id": "440f6e18",
   "metadata": {},
   "outputs": [],
   "source": [
    "x = ([1,2,3])"
   ]
  },
  {
   "cell_type": "code",
   "execution_count": 12,
   "id": "89392c26",
   "metadata": {},
   "outputs": [],
   "source": [
    "x.extend([1,'data',7])"
   ]
  },
  {
   "cell_type": "code",
   "execution_count": 13,
   "id": "05910da9",
   "metadata": {},
   "outputs": [
    {
     "data": {
      "text/plain": [
       "[1, 2, 3, 1, 'data', 7]"
      ]
     },
     "execution_count": 13,
     "metadata": {},
     "output_type": "execute_result"
    }
   ],
   "source": [
    "x"
   ]
  },
  {
   "cell_type": "markdown",
   "id": "ae234765",
   "metadata": {},
   "source": [
    "# changing value in alist"
   ]
  },
  {
   "cell_type": "code",
   "execution_count": 15,
   "id": "c8e54bd1",
   "metadata": {},
   "outputs": [],
   "source": [
    "x[4]=100"
   ]
  },
  {
   "cell_type": "code",
   "execution_count": 16,
   "id": "42792052",
   "metadata": {},
   "outputs": [
    {
     "data": {
      "text/plain": [
       "[1, 2, 3, 1, 100, 7]"
      ]
     },
     "execution_count": 16,
     "metadata": {},
     "output_type": "execute_result"
    }
   ],
   "source": [
    "x"
   ]
  },
  {
   "cell_type": "markdown",
   "id": "06eac251",
   "metadata": {},
   "source": [
    "# insert"
   ]
  },
  {
   "cell_type": "code",
   "execution_count": 17,
   "id": "cf3b151b",
   "metadata": {},
   "outputs": [],
   "source": [
    "x = [1,2,3,3,4,\"nani\",4,3,]"
   ]
  },
  {
   "cell_type": "code",
   "execution_count": 18,
   "id": "ccb17cef",
   "metadata": {},
   "outputs": [],
   "source": [
    "x.insert(1,\"cat\")"
   ]
  },
  {
   "cell_type": "code",
   "execution_count": 19,
   "id": "2e7ddbc6",
   "metadata": {},
   "outputs": [
    {
     "data": {
      "text/plain": [
       "[1, 'cat', 2, 3, 3, 4, 'nani', 4, 3]"
      ]
     },
     "execution_count": 19,
     "metadata": {},
     "output_type": "execute_result"
    }
   ],
   "source": [
    "x"
   ]
  },
  {
   "cell_type": "code",
   "execution_count": 21,
   "id": "8afd2912",
   "metadata": {},
   "outputs": [
    {
     "data": {
      "text/plain": [
       "4"
      ]
     },
     "execution_count": 21,
     "metadata": {},
     "output_type": "execute_result"
    }
   ],
   "source": [
    "x =[1,23,4,5]\n",
    "x.pop(2)"
   ]
  },
  {
   "cell_type": "code",
   "execution_count": 22,
   "id": "61737f0c",
   "metadata": {},
   "outputs": [
    {
     "data": {
      "text/plain": [
       "[1, 23, 5]"
      ]
     },
     "execution_count": 22,
     "metadata": {},
     "output_type": "execute_result"
    }
   ],
   "source": [
    "x "
   ]
  },
  {
   "cell_type": "markdown",
   "id": "b7b92d16",
   "metadata": {},
   "source": [
    "# pop"
   ]
  },
  {
   "cell_type": "code",
   "execution_count": 24,
   "id": "b94089a5",
   "metadata": {},
   "outputs": [
    {
     "data": {
      "text/plain": [
       "5"
      ]
     },
     "execution_count": 24,
     "metadata": {},
     "output_type": "execute_result"
    }
   ],
   "source": [
    "x.pop()"
   ]
  },
  {
   "cell_type": "code",
   "execution_count": 25,
   "id": "ef38bf88",
   "metadata": {},
   "outputs": [
    {
     "data": {
      "text/plain": [
       "[1, 23]"
      ]
     },
     "execution_count": 25,
     "metadata": {},
     "output_type": "execute_result"
    }
   ],
   "source": [
    "x"
   ]
  },
  {
   "cell_type": "code",
   "execution_count": 26,
   "id": "638e9413",
   "metadata": {},
   "outputs": [
    {
     "data": {
      "text/plain": [
       "23"
      ]
     },
     "execution_count": 26,
     "metadata": {},
     "output_type": "execute_result"
    }
   ],
   "source": [
    "x.pop()"
   ]
  },
  {
   "cell_type": "code",
   "execution_count": 27,
   "id": "29b65dd3",
   "metadata": {},
   "outputs": [
    {
     "data": {
      "text/plain": [
       "[1]"
      ]
     },
     "execution_count": 27,
     "metadata": {},
     "output_type": "execute_result"
    }
   ],
   "source": [
    "x"
   ]
  },
  {
   "cell_type": "code",
   "execution_count": 28,
   "id": "647d2df3",
   "metadata": {},
   "outputs": [
    {
     "data": {
      "text/plain": [
       "[1]"
      ]
     },
     "execution_count": 28,
     "metadata": {},
     "output_type": "execute_result"
    }
   ],
   "source": [
    "x"
   ]
  },
  {
   "cell_type": "code",
   "execution_count": 30,
   "id": "0035bd2c",
   "metadata": {},
   "outputs": [
    {
     "data": {
      "text/plain": [
       "1"
      ]
     },
     "execution_count": 30,
     "metadata": {},
     "output_type": "execute_result"
    }
   ],
   "source": [
    "x.pop()"
   ]
  },
  {
   "cell_type": "code",
   "execution_count": 31,
   "id": "0558bf5d",
   "metadata": {},
   "outputs": [
    {
     "data": {
      "text/plain": [
       "[]"
      ]
     },
     "execution_count": 31,
     "metadata": {},
     "output_type": "execute_result"
    }
   ],
   "source": [
    "x"
   ]
  },
  {
   "cell_type": "code",
   "execution_count": 32,
   "id": "d2679a1e",
   "metadata": {},
   "outputs": [],
   "source": [
    "x = [2,3,4,3,3,\"nani\",3]"
   ]
  },
  {
   "cell_type": "code",
   "execution_count": 33,
   "id": "b1a23ad6",
   "metadata": {},
   "outputs": [
    {
     "data": {
      "text/plain": [
       "3"
      ]
     },
     "execution_count": 33,
     "metadata": {},
     "output_type": "execute_result"
    }
   ],
   "source": [
    "x.pop()"
   ]
  },
  {
   "cell_type": "code",
   "execution_count": 34,
   "id": "02ce68db",
   "metadata": {},
   "outputs": [
    {
     "data": {
      "text/plain": [
       "3"
      ]
     },
     "execution_count": 34,
     "metadata": {},
     "output_type": "execute_result"
    }
   ],
   "source": [
    "x.pop(3)"
   ]
  },
  {
   "cell_type": "code",
   "execution_count": 35,
   "id": "89b764ae",
   "metadata": {},
   "outputs": [
    {
     "data": {
      "text/plain": [
       "[2, 3, 4, 3, 'nani']"
      ]
     },
     "execution_count": 35,
     "metadata": {},
     "output_type": "execute_result"
    }
   ],
   "source": [
    "x"
   ]
  },
  {
   "cell_type": "code",
   "execution_count": 36,
   "id": "a8aa6ded",
   "metadata": {},
   "outputs": [
    {
     "data": {
      "text/plain": [
       "[2, 3, 4, 3, 'nani']"
      ]
     },
     "execution_count": 36,
     "metadata": {},
     "output_type": "execute_result"
    }
   ],
   "source": [
    "x\n"
   ]
  },
  {
   "cell_type": "code",
   "execution_count": 38,
   "id": "e62ce491",
   "metadata": {},
   "outputs": [],
   "source": [
    "x.remove('nani')"
   ]
  },
  {
   "cell_type": "code",
   "execution_count": 39,
   "id": "e4b72372",
   "metadata": {},
   "outputs": [
    {
     "data": {
      "text/plain": [
       "[2, 3, 4, 3]"
      ]
     },
     "execution_count": 39,
     "metadata": {},
     "output_type": "execute_result"
    }
   ],
   "source": [
    "x\n"
   ]
  },
  {
   "cell_type": "markdown",
   "id": "7300526d",
   "metadata": {},
   "source": [
    "# delete"
   ]
  },
  {
   "cell_type": "code",
   "execution_count": 40,
   "id": "ef256a1f",
   "metadata": {},
   "outputs": [],
   "source": [
    "del x[0]"
   ]
  },
  {
   "cell_type": "code",
   "execution_count": 41,
   "id": "74b8c413",
   "metadata": {},
   "outputs": [
    {
     "data": {
      "text/plain": [
       "[3, 4, 3]"
      ]
     },
     "execution_count": 41,
     "metadata": {},
     "output_type": "execute_result"
    }
   ],
   "source": [
    "x"
   ]
  },
  {
   "cell_type": "code",
   "execution_count": 42,
   "id": "a7e7145e",
   "metadata": {},
   "outputs": [],
   "source": [
    "x = [1,2,3,4,2,2,]"
   ]
  },
  {
   "cell_type": "code",
   "execution_count": 46,
   "id": "e6ca23d8",
   "metadata": {},
   "outputs": [
    {
     "ename": "SyntaxError",
     "evalue": "cannot delete literal (2280991582.py, line 1)",
     "output_type": "error",
     "traceback": [
      "\u001b[0;36m  Cell \u001b[0;32mIn[46], line 1\u001b[0;36m\u001b[0m\n\u001b[0;31m    del[2]\u001b[0m\n\u001b[0m        ^\u001b[0m\n\u001b[0;31mSyntaxError\u001b[0m\u001b[0;31m:\u001b[0m cannot delete literal\n"
     ]
    }
   ],
   "source": [
    "del[2]"
   ]
  },
  {
   "cell_type": "code",
   "execution_count": 44,
   "id": "54ab3d94",
   "metadata": {},
   "outputs": [
    {
     "ename": "NameError",
     "evalue": "name 'x' is not defined",
     "output_type": "error",
     "traceback": [
      "\u001b[0;31m---------------------------------------------------------------------------\u001b[0m",
      "\u001b[0;31mNameError\u001b[0m                                 Traceback (most recent call last)",
      "Cell \u001b[0;32mIn[44], line 1\u001b[0m\n\u001b[0;32m----> 1\u001b[0m x\n",
      "\u001b[0;31mNameError\u001b[0m: name 'x' is not defined"
     ]
    }
   ],
   "source": []
  },
  {
   "cell_type": "code",
   "execution_count": 47,
   "id": "fddf6fd9",
   "metadata": {},
   "outputs": [
    {
     "ename": "NameError",
     "evalue": "name 'x' is not defined",
     "output_type": "error",
     "traceback": [
      "\u001b[0;31m---------------------------------------------------------------------------\u001b[0m",
      "\u001b[0;31mNameError\u001b[0m                                 Traceback (most recent call last)",
      "Cell \u001b[0;32mIn[47], line 1\u001b[0m\n\u001b[0;32m----> 1\u001b[0m x\n",
      "\u001b[0;31mNameError\u001b[0m: name 'x' is not defined"
     ]
    }
   ],
   "source": [
    "x\n"
   ]
  },
  {
   "cell_type": "code",
   "execution_count": 48,
   "id": "d5497439",
   "metadata": {},
   "outputs": [],
   "source": [
    "x = [2,3.6,[\"python\",4.6,8],[\"nani\",4,8,],10,11]"
   ]
  },
  {
   "cell_type": "code",
   "execution_count": 49,
   "id": "8cc37581",
   "metadata": {},
   "outputs": [
    {
     "data": {
      "text/plain": [
       "['nani', 4, 8]"
      ]
     },
     "execution_count": 49,
     "metadata": {},
     "output_type": "execute_result"
    }
   ],
   "source": [
    "x.pop(3)"
   ]
  },
  {
   "cell_type": "code",
   "execution_count": 50,
   "id": "06fbf821",
   "metadata": {},
   "outputs": [
    {
     "data": {
      "text/plain": [
       "[2, 3.6, ['python', 4.6, 8], 10, 11]"
      ]
     },
     "execution_count": 50,
     "metadata": {},
     "output_type": "execute_result"
    }
   ],
   "source": [
    "x\n"
   ]
  },
  {
   "cell_type": "code",
   "execution_count": 51,
   "id": "75407b7e",
   "metadata": {},
   "outputs": [],
   "source": [
    "x = [2,3.6,[\"python\",4.6,8],[\"nani\",4,8,],10,11]"
   ]
  },
  {
   "cell_type": "code",
   "execution_count": 53,
   "id": "bb8f2090",
   "metadata": {},
   "outputs": [
    {
     "ename": "ValueError",
     "evalue": "list.remove(x): x not in list",
     "output_type": "error",
     "traceback": [
      "\u001b[0;31m---------------------------------------------------------------------------\u001b[0m",
      "\u001b[0;31mValueError\u001b[0m                                Traceback (most recent call last)",
      "Cell \u001b[0;32mIn[53], line 1\u001b[0m\n\u001b[0;32m----> 1\u001b[0m x\u001b[38;5;241m.\u001b[39mremove(\u001b[38;5;124m\"\u001b[39m\u001b[38;5;124mnani\u001b[39m\u001b[38;5;124m\"\u001b[39m)\n",
      "\u001b[0;31mValueError\u001b[0m: list.remove(x): x not in list"
     ]
    }
   ],
   "source": [
    "x.remove(\"nani\")"
   ]
  },
  {
   "cell_type": "code",
   "execution_count": 61,
   "id": "22d4ade9",
   "metadata": {},
   "outputs": [],
   "source": [
    "del x[2][2]"
   ]
  },
  {
   "cell_type": "code",
   "execution_count": 62,
   "id": "4589ffed",
   "metadata": {},
   "outputs": [
    {
     "data": {
      "text/plain": [
       "[2, 3.6, ['python', 4.6], ['nani', 4], 10, 11]"
      ]
     },
     "execution_count": 62,
     "metadata": {},
     "output_type": "execute_result"
    }
   ],
   "source": [
    "x"
   ]
  },
  {
   "cell_type": "code",
   "execution_count": 64,
   "id": "80b81cef",
   "metadata": {},
   "outputs": [],
   "source": [
    "del x[1]"
   ]
  },
  {
   "cell_type": "code",
   "execution_count": 65,
   "id": "d6be2955",
   "metadata": {},
   "outputs": [
    {
     "data": {
      "text/plain": [
       "[2, ['python', 4.6], ['nani', 4], 10, 11]"
      ]
     },
     "execution_count": 65,
     "metadata": {},
     "output_type": "execute_result"
    }
   ],
   "source": [
    "x"
   ]
  },
  {
   "cell_type": "markdown",
   "id": "48ff4b84",
   "metadata": {},
   "source": [
    "# joining two list"
   ]
  },
  {
   "cell_type": "code",
   "execution_count": 69,
   "id": "79004239",
   "metadata": {},
   "outputs": [],
   "source": [
    "x =[3,4,3,]\n",
    "y =[9,0,\"chakravardhan\"]\n",
    "result =  x + y"
   ]
  },
  {
   "cell_type": "code",
   "execution_count": 70,
   "id": "01eda101",
   "metadata": {},
   "outputs": [
    {
     "data": {
      "text/plain": [
       "[3, 4, 3, 9, 0, 'chakravardhan']"
      ]
     },
     "execution_count": 70,
     "metadata": {},
     "output_type": "execute_result"
    }
   ],
   "source": [
    "result"
   ]
  },
  {
   "cell_type": "markdown",
   "id": "2d7c7886",
   "metadata": {},
   "source": [
    "# count\n"
   ]
  },
  {
   "cell_type": "code",
   "execution_count": 9,
   "id": "6a451ed2",
   "metadata": {},
   "outputs": [],
   "source": [
    "x = [1,2,3,4,9,9,5,9,9,6,7]"
   ]
  },
  {
   "cell_type": "code",
   "execution_count": 10,
   "id": "86d299c7",
   "metadata": {},
   "outputs": [
    {
     "data": {
      "text/plain": [
       "4"
      ]
     },
     "execution_count": 10,
     "metadata": {},
     "output_type": "execute_result"
    }
   ],
   "source": [
    "x.count(9)"
   ]
  },
  {
   "cell_type": "markdown",
   "id": "b0728a08",
   "metadata": {},
   "source": [
    "# index"
   ]
  },
  {
   "cell_type": "code",
   "execution_count": 13,
   "id": "48932865",
   "metadata": {},
   "outputs": [
    {
     "data": {
      "text/plain": [
       "4"
      ]
     },
     "execution_count": 13,
     "metadata": {},
     "output_type": "execute_result"
    }
   ],
   "source": [
    "x.index(9)"
   ]
  },
  {
   "cell_type": "markdown",
   "id": "2055d376",
   "metadata": {},
   "source": [
    "# reverse"
   ]
  },
  {
   "cell_type": "code",
   "execution_count": 14,
   "id": "6e97d02d",
   "metadata": {},
   "outputs": [],
   "source": [
    "x.reverse()"
   ]
  },
  {
   "cell_type": "code",
   "execution_count": 15,
   "id": "e98f94b4",
   "metadata": {},
   "outputs": [
    {
     "data": {
      "text/plain": [
       "[7, 6, 9, 9, 5, 9, 9, 4, 3, 2, 1]"
      ]
     },
     "execution_count": 15,
     "metadata": {},
     "output_type": "execute_result"
    }
   ],
   "source": [
    "x"
   ]
  },
  {
   "cell_type": "markdown",
   "id": "d03497d0",
   "metadata": {},
   "source": [
    "# clear"
   ]
  },
  {
   "cell_type": "code",
   "execution_count": 16,
   "id": "229cd582",
   "metadata": {},
   "outputs": [],
   "source": [
    "x.clear()"
   ]
  },
  {
   "cell_type": "code",
   "execution_count": 17,
   "id": "1bba233b",
   "metadata": {},
   "outputs": [
    {
     "data": {
      "text/plain": [
       "[]"
      ]
     },
     "execution_count": 17,
     "metadata": {},
     "output_type": "execute_result"
    }
   ],
   "source": [
    "x"
   ]
  },
  {
   "cell_type": "code",
   "execution_count": 18,
   "id": "17f1dbd5",
   "metadata": {},
   "outputs": [
    {
     "data": {
      "text/plain": [
       "[]"
      ]
     },
     "execution_count": 18,
     "metadata": {},
     "output_type": "execute_result"
    }
   ],
   "source": [
    "x"
   ]
  },
  {
   "cell_type": "code",
   "execution_count": 19,
   "id": "262770e9",
   "metadata": {},
   "outputs": [],
   "source": [
    "x = [7, 6, 9, 9, 5, 9, 9, 4, 3, 2, 1]\n"
   ]
  },
  {
   "cell_type": "markdown",
   "id": "ee418a34",
   "metadata": {},
   "source": [
    "# copy"
   ]
  },
  {
   "cell_type": "code",
   "execution_count": 89,
   "id": "2990a570",
   "metadata": {},
   "outputs": [
    {
     "name": "stdout",
     "output_type": "stream",
     "text": [
      "[1, 2, 3, 4]\n",
      "[1, 2, 3, 4]\n"
     ]
    }
   ],
   "source": [
    "a = [1,2,3,4]\n",
    "b = a.copy()\n",
    "print(a)\n",
    "print(b)"
   ]
  },
  {
   "cell_type": "code",
   "execution_count": 23,
   "id": "4421f508",
   "metadata": {},
   "outputs": [],
   "source": [
    "b[2] = 100"
   ]
  },
  {
   "cell_type": "code",
   "execution_count": 24,
   "id": "e7959eb0",
   "metadata": {},
   "outputs": [
    {
     "data": {
      "text/plain": [
       "[1, 2, 3, 4]"
      ]
     },
     "execution_count": 24,
     "metadata": {},
     "output_type": "execute_result"
    }
   ],
   "source": [
    "a"
   ]
  },
  {
   "cell_type": "code",
   "execution_count": 25,
   "id": "3cf78e54",
   "metadata": {},
   "outputs": [
    {
     "data": {
      "text/plain": [
       "[1, 2, 100, 4]"
      ]
     },
     "execution_count": 25,
     "metadata": {},
     "output_type": "execute_result"
    }
   ],
   "source": [
    "b"
   ]
  },
  {
   "cell_type": "markdown",
   "id": "0958eaf5",
   "metadata": {},
   "source": [
    "#  copy"
   ]
  },
  {
   "cell_type": "code",
   "execution_count": 28,
   "id": "94560c19",
   "metadata": {},
   "outputs": [],
   "source": [
    "x = [1,2,3,[4,5]]"
   ]
  },
  {
   "cell_type": "code",
   "execution_count": 30,
   "id": "5cf7f906",
   "metadata": {},
   "outputs": [],
   "source": [
    "b = x.copy()"
   ]
  },
  {
   "cell_type": "code",
   "execution_count": 31,
   "id": "a8216264",
   "metadata": {},
   "outputs": [
    {
     "name": "stdout",
     "output_type": "stream",
     "text": [
      "[1, 2, 3, 4, 5]\n"
     ]
    }
   ],
   "source": [
    "print(a)"
   ]
  },
  {
   "cell_type": "code",
   "execution_count": 32,
   "id": "139b5532",
   "metadata": {},
   "outputs": [
    {
     "name": "stdout",
     "output_type": "stream",
     "text": [
      "[1, 2, 3, [4, 5]]\n"
     ]
    }
   ],
   "source": [
    "print(b)"
   ]
  },
  {
   "cell_type": "code",
   "execution_count": 39,
   "id": "05fdd9cb",
   "metadata": {},
   "outputs": [],
   "source": [
    "b[3] = 100"
   ]
  },
  {
   "cell_type": "code",
   "execution_count": 40,
   "id": "fcbd6a65",
   "metadata": {},
   "outputs": [
    {
     "data": {
      "text/plain": [
       "[1, 2, 3, 100]"
      ]
     },
     "execution_count": 40,
     "metadata": {},
     "output_type": "execute_result"
    }
   ],
   "source": [
    "x"
   ]
  },
  {
   "cell_type": "code",
   "execution_count": 41,
   "id": "96447147",
   "metadata": {},
   "outputs": [
    {
     "data": {
      "text/plain": [
       "[1, 2, 3, 100]"
      ]
     },
     "execution_count": 41,
     "metadata": {},
     "output_type": "execute_result"
    }
   ],
   "source": [
    "b"
   ]
  },
  {
   "cell_type": "markdown",
   "id": "c4e11a45",
   "metadata": {},
   "source": [
    "# deep copy"
   ]
  },
  {
   "cell_type": "code",
   "execution_count": 42,
   "id": "758ea8b3",
   "metadata": {},
   "outputs": [],
   "source": [
    "x = [1,2,3,4,5]"
   ]
  },
  {
   "cell_type": "code",
   "execution_count": 44,
   "id": "2d865287",
   "metadata": {},
   "outputs": [],
   "source": [
    "y = copy.deepcopy(x)"
   ]
  },
  {
   "cell_type": "code",
   "execution_count": 45,
   "id": "72b6eb61",
   "metadata": {},
   "outputs": [],
   "source": [
    "x[2] = 9898"
   ]
  },
  {
   "cell_type": "code",
   "execution_count": 48,
   "id": "36e8969c",
   "metadata": {},
   "outputs": [
    {
     "name": "stdout",
     "output_type": "stream",
     "text": [
      "[1, 2, 9898, 4, 5]\n"
     ]
    }
   ],
   "source": [
    "print(x)"
   ]
  },
  {
   "cell_type": "code",
   "execution_count": 49,
   "id": "ca637713",
   "metadata": {},
   "outputs": [
    {
     "name": "stdout",
     "output_type": "stream",
     "text": [
      "[1, 2, 3, 4, 5]\n"
     ]
    }
   ],
   "source": [
    "print(y)"
   ]
  },
  {
   "cell_type": "markdown",
   "id": "4d36500a",
   "metadata": {},
   "source": [
    "# deep copy"
   ]
  },
  {
   "cell_type": "code",
   "execution_count": 50,
   "id": "a4d13e96",
   "metadata": {},
   "outputs": [],
   "source": [
    "x = [1,2,3,[4,5]]"
   ]
  },
  {
   "cell_type": "code",
   "execution_count": 51,
   "id": "37c565df",
   "metadata": {},
   "outputs": [],
   "source": [
    "y = copy.deepcopy(x)"
   ]
  },
  {
   "cell_type": "code",
   "execution_count": 53,
   "id": "a08a1044",
   "metadata": {},
   "outputs": [],
   "source": [
    "x[3][0] = 900"
   ]
  },
  {
   "cell_type": "code",
   "execution_count": 54,
   "id": "41e6779c",
   "metadata": {},
   "outputs": [
    {
     "data": {
      "text/plain": [
       "[1, 2, 3, [900, 5]]"
      ]
     },
     "execution_count": 54,
     "metadata": {},
     "output_type": "execute_result"
    }
   ],
   "source": [
    "x"
   ]
  },
  {
   "cell_type": "code",
   "execution_count": 55,
   "id": "e936ca3d",
   "metadata": {},
   "outputs": [
    {
     "data": {
      "text/plain": [
       "[1, 2, 3, [4, 5]]"
      ]
     },
     "execution_count": 55,
     "metadata": {},
     "output_type": "execute_result"
    }
   ],
   "source": [
    "y"
   ]
  },
  {
   "cell_type": "code",
   "execution_count": null,
   "id": "a663b76d",
   "metadata": {},
   "outputs": [],
   "source": []
  },
  {
   "cell_type": "code",
   "execution_count": 61,
   "id": "26386147",
   "metadata": {},
   "outputs": [],
   "source": [
    "x = [1,2,3,4,5]\n"
   ]
  },
  {
   "cell_type": "code",
   "execution_count": 62,
   "id": "482eb8c1",
   "metadata": {},
   "outputs": [],
   "source": [
    "y = x"
   ]
  },
  {
   "cell_type": "code",
   "execution_count": 63,
   "id": "f39ac4c0",
   "metadata": {},
   "outputs": [
    {
     "ename": "AttributeError",
     "evalue": "'list' object has no attribute 'min'",
     "output_type": "error",
     "traceback": [
      "\u001b[0;31m---------------------------------------------------------------------------\u001b[0m",
      "\u001b[0;31mAttributeError\u001b[0m                            Traceback (most recent call last)",
      "Cell \u001b[0;32mIn[63], line 1\u001b[0m\n\u001b[0;32m----> 1\u001b[0m y\u001b[38;5;241m.\u001b[39mmin()\n",
      "\u001b[0;31mAttributeError\u001b[0m: 'list' object has no attribute 'min'"
     ]
    }
   ],
   "source": [
    "y.min()"
   ]
  },
  {
   "cell_type": "code",
   "execution_count": 64,
   "id": "e0a0078e",
   "metadata": {},
   "outputs": [],
   "source": [
    "x = [1,2,3,4,5]"
   ]
  },
  {
   "cell_type": "code",
   "execution_count": 67,
   "id": "4316362d",
   "metadata": {},
   "outputs": [],
   "source": [
    "y = sum(x)"
   ]
  },
  {
   "cell_type": "code",
   "execution_count": 68,
   "id": "3c625ac1",
   "metadata": {},
   "outputs": [
    {
     "data": {
      "text/plain": [
       "15"
      ]
     },
     "execution_count": 68,
     "metadata": {},
     "output_type": "execute_result"
    }
   ],
   "source": [
    "y\n"
   ]
  },
  {
   "cell_type": "code",
   "execution_count": 69,
   "id": "5f26312a",
   "metadata": {},
   "outputs": [],
   "source": [
    "x = [2,4,6,8,19]"
   ]
  },
  {
   "cell_type": "code",
   "execution_count": 70,
   "id": "fb16a41c",
   "metadata": {},
   "outputs": [],
   "source": [
    "y = sum(x)"
   ]
  },
  {
   "cell_type": "code",
   "execution_count": 71,
   "id": "8a604c83",
   "metadata": {},
   "outputs": [
    {
     "data": {
      "text/plain": [
       "39"
      ]
     },
     "execution_count": 71,
     "metadata": {},
     "output_type": "execute_result"
    }
   ],
   "source": [
    "y"
   ]
  },
  {
   "cell_type": "code",
   "execution_count": 72,
   "id": "a9533374",
   "metadata": {},
   "outputs": [],
   "source": [
    "x = [2,4,5,6,7]"
   ]
  },
  {
   "cell_type": "code",
   "execution_count": 73,
   "id": "5f696e73",
   "metadata": {},
   "outputs": [],
   "source": [
    "y = min(x)"
   ]
  },
  {
   "cell_type": "code",
   "execution_count": 74,
   "id": "dc3798b7",
   "metadata": {},
   "outputs": [
    {
     "data": {
      "text/plain": [
       "2"
      ]
     },
     "execution_count": 74,
     "metadata": {},
     "output_type": "execute_result"
    }
   ],
   "source": [
    "y"
   ]
  },
  {
   "cell_type": "code",
   "execution_count": 75,
   "id": "5e07b803",
   "metadata": {},
   "outputs": [],
   "source": [
    "y = [2,4,5,6,7]"
   ]
  },
  {
   "cell_type": "code",
   "execution_count": 76,
   "id": "81f4ae7b",
   "metadata": {},
   "outputs": [],
   "source": [
    "y = max(x)"
   ]
  },
  {
   "cell_type": "code",
   "execution_count": 77,
   "id": "51ca587f",
   "metadata": {},
   "outputs": [
    {
     "data": {
      "text/plain": [
       "7"
      ]
     },
     "execution_count": 77,
     "metadata": {},
     "output_type": "execute_result"
    }
   ],
   "source": [
    "y"
   ]
  },
  {
   "cell_type": "markdown",
   "id": "ffb4e1e2",
   "metadata": {},
   "source": [
    "# sort\n",
    "-ascending or desending"
   ]
  },
  {
   "cell_type": "code",
   "execution_count": 78,
   "id": "5bdcdc13",
   "metadata": {},
   "outputs": [],
   "source": [
    "x = [1,2,3,4,5,7,6]"
   ]
  },
  {
   "cell_type": "code",
   "execution_count": 79,
   "id": "50122e23",
   "metadata": {},
   "outputs": [],
   "source": [
    "x.sort()"
   ]
  },
  {
   "cell_type": "code",
   "execution_count": 80,
   "id": "ab5f2c3e",
   "metadata": {},
   "outputs": [
    {
     "data": {
      "text/plain": [
       "[1, 2, 3, 4, 5, 6, 7]"
      ]
     },
     "execution_count": 80,
     "metadata": {},
     "output_type": "execute_result"
    }
   ],
   "source": [
    "x"
   ]
  },
  {
   "cell_type": "code",
   "execution_count": 81,
   "id": "301c1884",
   "metadata": {},
   "outputs": [],
   "source": [
    "x.sort(reverse=True)"
   ]
  },
  {
   "cell_type": "code",
   "execution_count": 82,
   "id": "36da841a",
   "metadata": {},
   "outputs": [
    {
     "data": {
      "text/plain": [
       "[7, 6, 5, 4, 3, 2, 1]"
      ]
     },
     "execution_count": 82,
     "metadata": {},
     "output_type": "execute_result"
    }
   ],
   "source": [
    "x"
   ]
  },
  {
   "cell_type": "code",
   "execution_count": 83,
   "id": "2ac723c2",
   "metadata": {},
   "outputs": [],
   "source": [
    "x = [\"zedra\",\"donkey\",\"cat\",\"money\"]"
   ]
  },
  {
   "cell_type": "code",
   "execution_count": 84,
   "id": "09f7be83",
   "metadata": {},
   "outputs": [],
   "source": [
    "x.sort()"
   ]
  },
  {
   "cell_type": "code",
   "execution_count": 85,
   "id": "8e221ec1",
   "metadata": {},
   "outputs": [
    {
     "data": {
      "text/plain": [
       "['cat', 'donkey', 'money', 'zedra']"
      ]
     },
     "execution_count": 85,
     "metadata": {},
     "output_type": "execute_result"
    }
   ],
   "source": [
    "x"
   ]
  },
  {
   "cell_type": "code",
   "execution_count": 86,
   "id": "f7005a87",
   "metadata": {},
   "outputs": [],
   "source": [
    "x = [\"zedra\",\"donkey\",\"cat\",\"money\",\"Elephant\"]"
   ]
  },
  {
   "cell_type": "code",
   "execution_count": 87,
   "id": "3d5f82f2",
   "metadata": {},
   "outputs": [],
   "source": [
    "x.sort()"
   ]
  },
  {
   "cell_type": "code",
   "execution_count": 88,
   "id": "9f6aa231",
   "metadata": {},
   "outputs": [
    {
     "data": {
      "text/plain": [
       "['Elephant', 'cat', 'donkey', 'money', 'zedra']"
      ]
     },
     "execution_count": 88,
     "metadata": {},
     "output_type": "execute_result"
    }
   ],
   "source": [
    "x"
   ]
  },
  {
   "cell_type": "code",
   "execution_count": 2,
   "id": "682637a2",
   "metadata": {},
   "outputs": [],
   "source": [
    "x ='hello world'"
   ]
  },
  {
   "cell_type": "code",
   "execution_count": 3,
   "id": "6ced7595",
   "metadata": {},
   "outputs": [
    {
     "data": {
      "text/plain": [
       "True"
      ]
     },
     "execution_count": 3,
     "metadata": {},
     "output_type": "execute_result"
    }
   ],
   "source": [
    "'world' in x"
   ]
  },
  {
   "cell_type": "code",
   "execution_count": null,
   "id": "47a2ee02",
   "metadata": {},
   "outputs": [],
   "source": []
  }
 ],
 "metadata": {
  "kernelspec": {
   "display_name": "Python 3 (ipykernel)",
   "language": "python",
   "name": "python3"
  },
  "language_info": {
   "codemirror_mode": {
    "name": "ipython",
    "version": 3
   },
   "file_extension": ".py",
   "mimetype": "text/x-python",
   "name": "python",
   "nbconvert_exporter": "python",
   "pygments_lexer": "ipython3",
   "version": "3.11.5"
  }
 },
 "nbformat": 4,
 "nbformat_minor": 5
}
