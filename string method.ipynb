{
 "cells": [
  {
   "cell_type": "markdown",
   "id": "48a70542",
   "metadata": {},
   "source": [
    "# len()\n",
    "- to know length of the string\n"
   ]
  },
  {
   "cell_type": "code",
   "execution_count": 1,
   "id": "3b400440",
   "metadata": {},
   "outputs": [
    {
     "name": "stdout",
     "output_type": "stream",
     "text": [
      "13\n"
     ]
    }
   ],
   "source": [
    "x = \"chakravardhan\"\n",
    "print(len(x))"
   ]
  },
  {
   "cell_type": "markdown",
   "id": "cebe4bc7",
   "metadata": {},
   "source": [
    "# upper"
   ]
  },
  {
   "cell_type": "code",
   "execution_count": 10,
   "id": "14dc26d1",
   "metadata": {},
   "outputs": [
    {
     "name": "stdout",
     "output_type": "stream",
     "text": [
      "HELLOPYTHON\n"
     ]
    }
   ],
   "source": [
    "x = \"Hellopython\"\n",
    "print(f\"{x.upper()}\")"
   ]
  },
  {
   "cell_type": "markdown",
   "id": "18774c3e",
   "metadata": {},
   "source": [
    " # lower\""
   ]
  },
  {
   "cell_type": "code",
   "execution_count": 11,
   "id": "dc6c6f9a",
   "metadata": {},
   "outputs": [
    {
     "name": "stdout",
     "output_type": "stream",
     "text": [
      "hellopython\n"
     ]
    }
   ],
   "source": [
    "x = \"HELLOPYTHON\"\n",
    "print(f\"{x.lower()}\")"
   ]
  },
  {
   "cell_type": "code",
   "execution_count": 12,
   "id": "029dc921",
   "metadata": {},
   "outputs": [],
   "source": [
    "x = \"innomatrics research labs\""
   ]
  },
  {
   "cell_type": "markdown",
   "id": "9b98e63e",
   "metadata": {},
   "source": [
    " # capitalize"
   ]
  },
  {
   "cell_type": "code",
   "execution_count": 13,
   "id": "6a12c2fc",
   "metadata": {},
   "outputs": [
    {
     "name": "stdout",
     "output_type": "stream",
     "text": [
      "Innomatrics research labs\n"
     ]
    }
   ],
   "source": [
    "print(f\"{x.capitalize()}\")"
   ]
  },
  {
   "cell_type": "code",
   "execution_count": 14,
   "id": "905ec248",
   "metadata": {},
   "outputs": [],
   "source": [
    "x = \"innomatrics research labs\""
   ]
  },
  {
   "cell_type": "markdown",
   "id": "8218c438",
   "metadata": {},
   "source": [
    "# title"
   ]
  },
  {
   "cell_type": "code",
   "execution_count": 16,
   "id": "c74ea2d7",
   "metadata": {},
   "outputs": [
    {
     "name": "stdout",
     "output_type": "stream",
     "text": [
      "Innomatrics Research Labs\n"
     ]
    }
   ],
   "source": [
    "print(f\"{x.title()}\")"
   ]
  },
  {
   "cell_type": "code",
   "execution_count": 18,
   "id": "79b1be6d",
   "metadata": {},
   "outputs": [
    {
     "data": {
      "text/plain": [
       "'Innomatrics Research Labs'"
      ]
     },
     "execution_count": 18,
     "metadata": {},
     "output_type": "execute_result"
    }
   ],
   "source": [
    "x.title()"
   ]
  },
  {
   "cell_type": "code",
   "execution_count": 22,
   "id": "0c84996b",
   "metadata": {},
   "outputs": [
    {
     "name": "stdout",
     "output_type": "stream",
     "text": [
      "4\n"
     ]
    }
   ],
   "source": [
    "x = \"chakravardhan\"\n",
    "print(f\"{x.count('a')}\")"
   ]
  },
  {
   "cell_type": "markdown",
   "id": "133d6a5d",
   "metadata": {},
   "source": [
    "# start switch"
   ]
  },
  {
   "cell_type": "code",
   "execution_count": 31,
   "id": "48c2c8e2",
   "metadata": {},
   "outputs": [
    {
     "name": "stdout",
     "output_type": "stream",
     "text": [
      "True\n"
     ]
    }
   ],
   "source": [
    "x = \"chakravardhan\"\n",
    "print(f\"{x.startswith('cha')}\")"
   ]
  },
  {
   "cell_type": "code",
   "execution_count": 30,
   "id": "67e0eec1",
   "metadata": {},
   "outputs": [
    {
     "data": {
      "text/plain": [
       "True"
      ]
     },
     "execution_count": 30,
     "metadata": {},
     "output_type": "execute_result"
    }
   ],
   "source": [
    "x = \"chakravardhan\"\n",
    "x.startswith('c')"
   ]
  },
  {
   "cell_type": "markdown",
   "id": "acf7c3cc",
   "metadata": {},
   "source": [
    "# end switch"
   ]
  },
  {
   "cell_type": "code",
   "execution_count": 33,
   "id": "b362d48e",
   "metadata": {},
   "outputs": [
    {
     "name": "stdout",
     "output_type": "stream",
     "text": [
      "True\n"
     ]
    }
   ],
   "source": [
    "x = \"chakravardhan\"\n",
    "print(f\"{x.endswith('dhan')}\")"
   ]
  },
  {
   "cell_type": "markdown",
   "id": "5edcc32f",
   "metadata": {},
   "source": [
    "# find"
   ]
  },
  {
   "cell_type": "code",
   "execution_count": 35,
   "id": "f9f92ccf",
   "metadata": {},
   "outputs": [
    {
     "name": "stdout",
     "output_type": "stream",
     "text": [
      "2\n"
     ]
    }
   ],
   "source": [
    "x = \"chakravardhan\"\n",
    "print(f\"{x.find('a')}\")"
   ]
  },
  {
   "cell_type": "code",
   "execution_count": 39,
   "id": "58af8d23",
   "metadata": {},
   "outputs": [
    {
     "name": "stdout",
     "output_type": "stream",
     "text": [
      "2\n"
     ]
    }
   ],
   "source": [
    "x = \"hello\"\n",
    "print(f\"{x.index('l')}\")"
   ]
  },
  {
   "cell_type": "code",
   "execution_count": 38,
   "id": "8aa9dc46",
   "metadata": {},
   "outputs": [
    {
     "data": {
      "text/plain": [
       "2"
      ]
     },
     "execution_count": 38,
     "metadata": {},
     "output_type": "execute_result"
    }
   ],
   "source": [
    "x.index('l')"
   ]
  },
  {
   "cell_type": "markdown",
   "id": "3c9475f0",
   "metadata": {},
   "source": [
    "# isdigit"
   ]
  },
  {
   "cell_type": "code",
   "execution_count": 42,
   "id": "44c65b9c",
   "metadata": {},
   "outputs": [
    {
     "name": "stdout",
     "output_type": "stream",
     "text": [
      "True\n"
     ]
    }
   ],
   "source": [
    "x = '12345'\n",
    "print(f\"{x.isdigit()}\")"
   ]
  },
  {
   "cell_type": "code",
   "execution_count": 41,
   "id": "b45ed362",
   "metadata": {},
   "outputs": [
    {
     "data": {
      "text/plain": [
       "True"
      ]
     },
     "execution_count": 41,
     "metadata": {},
     "output_type": "execute_result"
    }
   ],
   "source": [
    "x = '12345'\n",
    "x.isdigit()"
   ]
  },
  {
   "cell_type": "code",
   "execution_count": 43,
   "id": "e1f03e1f",
   "metadata": {},
   "outputs": [
    {
     "name": "stdout",
     "output_type": "stream",
     "text": [
      "False\n"
     ]
    }
   ],
   "source": [
    "x = 'hello123'\n",
    "print(f\"{x.isdigit()}\")"
   ]
  },
  {
   "cell_type": "markdown",
   "id": "6744d1fe",
   "metadata": {},
   "source": [
    "# replace"
   ]
  },
  {
   "cell_type": "code",
   "execution_count": 53,
   "id": "6a93e9dd",
   "metadata": {},
   "outputs": [
    {
     "name": "stdout",
     "output_type": "stream",
     "text": [
      "hmnlo\n"
     ]
    }
   ],
   "source": [
    "x = 'hello'\n",
    "print(f\"{x.replace('el','mn')}\")"
   ]
  },
  {
   "cell_type": "code",
   "execution_count": 48,
   "id": "43e3c01a",
   "metadata": {},
   "outputs": [
    {
     "data": {
      "text/plain": [
       "'hnnlo'"
      ]
     },
     "execution_count": 48,
     "metadata": {},
     "output_type": "execute_result"
    }
   ],
   "source": [
    "x = \"hello\"\n",
    "y =x.replace('el','nn')"
   ]
  },
  {
   "cell_type": "code",
   "execution_count": 56,
   "id": "415ade00",
   "metadata": {},
   "outputs": [
    {
     "name": "stdout",
     "output_type": "stream",
     "text": [
      "hello\n"
     ]
    }
   ],
   "source": [
    "print(f\"{x}\")"
   ]
  },
  {
   "cell_type": "markdown",
   "id": "f5da21ba",
   "metadata": {},
   "source": [
    "# strip"
   ]
  },
  {
   "cell_type": "code",
   "execution_count": 66,
   "id": "09d59e72",
   "metadata": {},
   "outputs": [
    {
     "name": "stdout",
     "output_type": "stream",
     "text": [
      "welcome to the class\n"
     ]
    }
   ],
   "source": [
    "x = \" welcome to the class  \"\n",
    "print(f\"{x.strip()}\")"
   ]
  },
  {
   "cell_type": "code",
   "execution_count": 63,
   "id": "27c3c65d",
   "metadata": {},
   "outputs": [
    {
     "data": {
      "text/plain": [
       "'welcome to the class'"
      ]
     },
     "execution_count": 63,
     "metadata": {},
     "output_type": "execute_result"
    }
   ],
   "source": [
    "x = \" welcome to the class  \"\n",
    "x.strip()\n"
   ]
  },
  {
   "cell_type": "code",
   "execution_count": 65,
   "id": "18cd56bd",
   "metadata": {},
   "outputs": [
    {
     "data": {
      "text/plain": [
       "'welcome to the class  '"
      ]
     },
     "execution_count": 65,
     "metadata": {},
     "output_type": "execute_result"
    }
   ],
   "source": [
    "x = \" welcome to the class  \"\n",
    "x.lstrip()"
   ]
  },
  {
   "cell_type": "code",
   "execution_count": 67,
   "id": "3a197085",
   "metadata": {},
   "outputs": [
    {
     "name": "stdout",
     "output_type": "stream",
     "text": [
      "12\n"
     ]
    }
   ],
   "source": [
    "x = 'hello python'\n",
    "print(len(x))"
   ]
  },
  {
   "cell_type": "code",
   "execution_count": 68,
   "id": "3051ee33",
   "metadata": {},
   "outputs": [],
   "source": [
    "y = x.strip()"
   ]
  },
  {
   "cell_type": "code",
   "execution_count": 69,
   "id": "db9e79cc",
   "metadata": {},
   "outputs": [
    {
     "name": "stdout",
     "output_type": "stream",
     "text": [
      "hello python\n"
     ]
    }
   ],
   "source": [
    "print(x)"
   ]
  },
  {
   "cell_type": "code",
   "execution_count": 70,
   "id": "0f2f58e8",
   "metadata": {},
   "outputs": [
    {
     "name": "stdout",
     "output_type": "stream",
     "text": [
      "12\n"
     ]
    }
   ],
   "source": [
    "print(len(x))"
   ]
  },
  {
   "cell_type": "code",
   "execution_count": 83,
   "id": "2ecbe3b3",
   "metadata": {},
   "outputs": [
    {
     "data": {
      "text/plain": [
       "'innomatics****research***labs'"
      ]
     },
     "execution_count": 83,
     "metadata": {},
     "output_type": "execute_result"
    }
   ],
   "source": [
    "x = \"****innomatics****research***labs\"\n",
    "x.strip('*')"
   ]
  },
  {
   "cell_type": "code",
   "execution_count": 84,
   "id": "9814215d",
   "metadata": {},
   "outputs": [
    {
     "data": {
      "text/plain": [
       "['innom', 'trics rese', 'rch l', 'b']"
      ]
     },
     "execution_count": 84,
     "metadata": {},
     "output_type": "execute_result"
    }
   ],
   "source": [
    "a = \"innomatrics research lab\"\n",
    "a.split('a')"
   ]
  },
  {
   "cell_type": "markdown",
   "id": "5456f345",
   "metadata": {},
   "source": [
    "# detele"
   ]
  },
  {
   "cell_type": "code",
   "execution_count": 86,
   "id": "3a063400",
   "metadata": {},
   "outputs": [
    {
     "data": {
      "text/plain": [
       "'hello'"
      ]
     },
     "execution_count": 86,
     "metadata": {},
     "output_type": "execute_result"
    }
   ],
   "source": [
    "d = \"hello\"\n",
    "d"
   ]
  },
  {
   "cell_type": "code",
   "execution_count": 90,
   "id": "b0ba1bdf",
   "metadata": {},
   "outputs": [
    {
     "ename": "NameError",
     "evalue": "name 'd' is not defined",
     "output_type": "error",
     "traceback": [
      "\u001b[0;31m---------------------------------------------------------------------------\u001b[0m",
      "\u001b[0;31mNameError\u001b[0m                                 Traceback (most recent call last)",
      "Cell \u001b[0;32mIn[90], line 1\u001b[0m\n\u001b[0;32m----> 1\u001b[0m \u001b[38;5;28;01mdel\u001b[39;00m d\n",
      "\u001b[0;31mNameError\u001b[0m: name 'd' is not defined"
     ]
    }
   ],
   "source": [
    "del d"
   ]
  },
  {
   "cell_type": "code",
   "execution_count": 91,
   "id": "d7646ddd",
   "metadata": {},
   "outputs": [
    {
     "ename": "NameError",
     "evalue": "name 'd' is not defined",
     "output_type": "error",
     "traceback": [
      "\u001b[0;31m---------------------------------------------------------------------------\u001b[0m",
      "\u001b[0;31mNameError\u001b[0m                                 Traceback (most recent call last)",
      "Cell \u001b[0;32mIn[91], line 1\u001b[0m\n\u001b[0;32m----> 1\u001b[0m d\n",
      "\u001b[0;31mNameError\u001b[0m: name 'd' is not defined"
     ]
    }
   ],
   "source": [
    "d"
   ]
  },
  {
   "cell_type": "code",
   "execution_count": 95,
   "id": "0810d3a9",
   "metadata": {},
   "outputs": [
    {
     "name": "stdout",
     "output_type": "stream",
     "text": [
      "13\n"
     ]
    }
   ],
   "source": [
    "x = \" hello world \"\n",
    "x.strip()\n",
    "print(len(x))"
   ]
  },
  {
   "cell_type": "code",
   "execution_count": 94,
   "id": "4124e445",
   "metadata": {},
   "outputs": [
    {
     "name": "stdout",
     "output_type": "stream",
     "text": [
      "11\n"
     ]
    }
   ],
   "source": [
    "y = x.strip()\n",
    "print(len(y))"
   ]
  },
  {
   "cell_type": "code",
   "execution_count": 99,
   "id": "27a59538",
   "metadata": {},
   "outputs": [
    {
     "name": "stdout",
     "output_type": "stream",
     "text": [
      "11\n"
     ]
    }
   ],
   "source": [
    "print(len(y))"
   ]
  },
  {
   "cell_type": "code",
   "execution_count": 100,
   "id": "1a64185b",
   "metadata": {},
   "outputs": [
    {
     "ename": "SyntaxError",
     "evalue": "illegal target for annotation (268381415.py, line 1)",
     "output_type": "error",
     "traceback": [
      "\u001b[0;36m  Cell \u001b[0;32mIn[100], line 1\u001b[0;36m\u001b[0m\n\u001b[0;31m    1: Take Input and Remove Extra Spaces\u001b[0m\n\u001b[0m    ^\u001b[0m\n\u001b[0;31mSyntaxError\u001b[0m\u001b[0;31m:\u001b[0m illegal target for annotation\n"
     ]
    }
   ],
   "source": [
    "Step 5: Split Sentence and Delete a Word\n",
    "\n",
    "- Split the sentence into words using split().\n",
    "- If there are two or more words, delete the second word using the del keyword.\n",
    "- Print the new list of words."
   ]
  },
  {
   "cell_type": "code",
   "execution_count": 104,
   "id": "09a83187",
   "metadata": {},
   "outputs": [
    {
     "data": {
      "text/plain": [
       "'innomatics research labs'"
      ]
     },
     "execution_count": 104,
     "metadata": {},
     "output_type": "execute_result"
    }
   ],
   "source": [
    "user_input = \" innomatics research labs  \"\n",
    "user_input.strip()\n"
   ]
  },
  {
   "cell_type": "code",
   "execution_count": 111,
   "id": "cb0561b2",
   "metadata": {},
   "outputs": [
    {
     "name": "stdout",
     "output_type": "stream",
     "text": [
      "the lenghth of the string 27\n"
     ]
    }
   ],
   "source": [
    "print(f\"the lenghth of the string {len(user_input)}\")"
   ]
  },
  {
   "cell_type": "code",
   "execution_count": 122,
   "id": "531420b2",
   "metadata": {},
   "outputs": [
    {
     "name": "stdout",
     "output_type": "stream",
     "text": [
      "the sentance start with theFalse\n"
     ]
    }
   ],
   "source": [
    "x = \"innometrics\"\n",
    "print(f\"the sentance start with the{x.startswith('Hello')}\")"
   ]
  },
  {
   "cell_type": "code",
   "execution_count": 123,
   "id": "e5bb5866",
   "metadata": {},
   "outputs": [
    {
     "name": "stdout",
     "output_type": "stream",
     "text": [
      " the sentence end with the False\n"
     ]
    }
   ],
   "source": [
    "x = \"innometrics\"\n",
    "print(f\" the sentence end with the {x.endswith('.')}\")"
   ]
  },
  {
   "cell_type": "code",
   "execution_count": 125,
   "id": "c60954ec",
   "metadata": {},
   "outputs": [
    {
     "name": "stdout",
     "output_type": "stream",
     "text": [
      "the how many letters in a sentence 2\n"
     ]
    }
   ],
   "source": [
    "e = 'innometrics'\n",
    "print(f\"the how many letters in a sentence {e.count('n')}\")"
   ]
  },
  {
   "cell_type": "code",
   "execution_count": 129,
   "id": "fd5accc7",
   "metadata": {},
   "outputs": [
    {
     "name": "stdout",
     "output_type": "stream",
     "text": [
      "split sentence in a word['r', 'm', 'nn', 'g', 'rich', 'kr', 'v', 'rdh', 'n']\n"
     ]
    }
   ],
   "source": [
    "a = 'ramannagarichakravardhan'\n",
    "print(f\"split sentence in a word{a.split('a')}\")"
   ]
  },
  {
   "cell_type": "code",
   "execution_count": 132,
   "id": "e7350bc3",
   "metadata": {},
   "outputs": [
    {
     "ename": "SyntaxError",
     "evalue": "f-string: invalid syntax (2015155241.py, line 2)",
     "output_type": "error",
     "traceback": [
      "\u001b[0;36m  Cell \u001b[0;32mIn[132], line 2\u001b[0;36m\u001b[0m\n\u001b[0;31m    print(f\"the delete the{d.del['2']}\")\u001b[0m\n\u001b[0m       ^\u001b[0m\n\u001b[0;31mSyntaxError\u001b[0m\u001b[0;31m:\u001b[0m f-string: invalid syntax\n"
     ]
    }
   ],
   "source": [
    "d = ['r', 'm', 'nn', 'g', 'rich', 'kr', 'v', 'rdh', 'n']\n",
    "print(f\"the delete the{d.del['2']}\")"
   ]
  },
  {
   "cell_type": "code",
   "execution_count": 134,
   "id": "527ec7b3",
   "metadata": {},
   "outputs": [
    {
     "name": "stdout",
     "output_type": "stream",
     "text": [
      "captilise the sentence  Innometrics research lab\n"
     ]
    }
   ],
   "source": [
    "x = 'innometrics research lab'\n",
    "print(f\"captilise the sentence  {x.capitalize()}\")"
   ]
  },
  {
   "cell_type": "markdown",
   "id": "266926aa",
   "metadata": {},
   "source": [
    "# .format"
   ]
  },
  {
   "cell_type": "code",
   "execution_count": 2,
   "id": "5fa31e54",
   "metadata": {},
   "outputs": [
    {
     "data": {
      "text/plain": [
       "'cost of the pen of a 3,the pen of b 4, the cost of pen c 5'"
      ]
     },
     "execution_count": 2,
     "metadata": {},
     "output_type": "execute_result"
    }
   ],
   "source": [
    "a = 3\n",
    "b = 4\n",
    "c = 5\n",
    "\"cost of the pen of a {},the pen of b {}, the cost of pen c {}\".format(a,b,c)"
   ]
  },
  {
   "cell_type": "markdown",
   "id": "416ecefc",
   "metadata": {},
   "source": [
    "# string concatenation"
   ]
  },
  {
   "cell_type": "code",
   "execution_count": 4,
   "id": "3faa01a5",
   "metadata": {},
   "outputs": [
    {
     "name": "stdout",
     "output_type": "stream",
     "text": [
      "hellopython\n"
     ]
    }
   ],
   "source": [
    "s1 = \"hello\" # addition between to strings\n",
    "s2 = \"python\"\n",
    "s3 = s1+s2\n",
    "print(s3)"
   ]
  },
  {
   "cell_type": "code",
   "execution_count": 5,
   "id": "727841fc",
   "metadata": {},
   "outputs": [
    {
     "data": {
      "text/plain": [
       "'hellopython'"
      ]
     },
     "execution_count": 5,
     "metadata": {},
     "output_type": "execute_result"
    }
   ],
   "source": [
    "s3"
   ]
  },
  {
   "cell_type": "code",
   "execution_count": 6,
   "id": "e18e0f5f",
   "metadata": {},
   "outputs": [],
   "source": [
    "s4 = s1+ \" \" +s2"
   ]
  },
  {
   "cell_type": "code",
   "execution_count": 7,
   "id": "d555f188",
   "metadata": {},
   "outputs": [
    {
     "data": {
      "text/plain": [
       "'hello python'"
      ]
     },
     "execution_count": 7,
     "metadata": {},
     "output_type": "execute_result"
    }
   ],
   "source": [
    "s4"
   ]
  },
  {
   "cell_type": "markdown",
   "id": "4768362d",
   "metadata": {},
   "source": [
    "# string membership "
   ]
  },
  {
   "cell_type": "code",
   "execution_count": 8,
   "id": "bd74b00c",
   "metadata": {},
   "outputs": [],
   "source": [
    "x = \"Innomatics\""
   ]
  },
  {
   "cell_type": "code",
   "execution_count": 9,
   "id": "39644b0c",
   "metadata": {},
   "outputs": [
    {
     "data": {
      "text/plain": [
       "False"
      ]
     },
     "execution_count": 9,
     "metadata": {},
     "output_type": "execute_result"
    }
   ],
   "source": [
    "'n' not in x"
   ]
  },
  {
   "cell_type": "code",
   "execution_count": 10,
   "id": "5ca38729",
   "metadata": {},
   "outputs": [
    {
     "data": {
      "text/plain": [
       "True"
      ]
     },
     "execution_count": 10,
     "metadata": {},
     "output_type": "execute_result"
    }
   ],
   "source": [
    "'n' in x"
   ]
  },
  {
   "cell_type": "code",
   "execution_count": 11,
   "id": "e9362fc3",
   "metadata": {},
   "outputs": [
    {
     "data": {
      "text/plain": [
       "False"
      ]
     },
     "execution_count": 11,
     "metadata": {},
     "output_type": "execute_result"
    }
   ],
   "source": [
    "'x 'in x"
   ]
  },
  {
   "cell_type": "code",
   "execution_count": 12,
   "id": "44f96131",
   "metadata": {},
   "outputs": [
    {
     "data": {
      "text/plain": [
       "True"
      ]
     },
     "execution_count": 12,
     "metadata": {},
     "output_type": "execute_result"
    }
   ],
   "source": [
    "'x' not in x"
   ]
  },
  {
   "cell_type": "markdown",
   "id": "4cbb02d3",
   "metadata": {},
   "source": [
    "# type casting on string"
   ]
  },
  {
   "cell_type": "code",
   "execution_count": 13,
   "id": "dd991c5e",
   "metadata": {},
   "outputs": [
    {
     "ename": "ValueError",
     "evalue": "invalid literal for int() with base 10: 'abcd'",
     "output_type": "error",
     "traceback": [
      "\u001b[0;31m---------------------------------------------------------------------------\u001b[0m",
      "\u001b[0;31mValueError\u001b[0m                                Traceback (most recent call last)",
      "Cell \u001b[0;32mIn[13], line 2\u001b[0m\n\u001b[1;32m      1\u001b[0m x \u001b[38;5;241m=\u001b[39m \u001b[38;5;124m\"\u001b[39m\u001b[38;5;124mabcd\u001b[39m\u001b[38;5;124m\"\u001b[39m\n\u001b[0;32m----> 2\u001b[0m \u001b[38;5;28mint\u001b[39m(x)\n",
      "\u001b[0;31mValueError\u001b[0m: invalid literal for int() with base 10: 'abcd'"
     ]
    }
   ],
   "source": [
    "x = \"abcd\"\n",
    "int(x)"
   ]
  },
  {
   "cell_type": "code",
   "execution_count": 14,
   "id": "5f67b417",
   "metadata": {},
   "outputs": [
    {
     "ename": "ValueError",
     "evalue": "could not convert string to float: 'abcd'",
     "output_type": "error",
     "traceback": [
      "\u001b[0;31m---------------------------------------------------------------------------\u001b[0m",
      "\u001b[0;31mValueError\u001b[0m                                Traceback (most recent call last)",
      "Cell \u001b[0;32mIn[14], line 2\u001b[0m\n\u001b[1;32m      1\u001b[0m x \u001b[38;5;241m=\u001b[39m \u001b[38;5;124m\"\u001b[39m\u001b[38;5;124mabcd\u001b[39m\u001b[38;5;124m\"\u001b[39m\n\u001b[0;32m----> 2\u001b[0m \u001b[38;5;28mfloat\u001b[39m(x)\n",
      "\u001b[0;31mValueError\u001b[0m: could not convert string to float: 'abcd'"
     ]
    }
   ],
   "source": [
    "x = \"abcd\"\n",
    "float(x)"
   ]
  },
  {
   "cell_type": "code",
   "execution_count": 15,
   "id": "b100eaae",
   "metadata": {},
   "outputs": [
    {
     "ename": "ValueError",
     "evalue": "complex() arg is a malformed string",
     "output_type": "error",
     "traceback": [
      "\u001b[0;31m---------------------------------------------------------------------------\u001b[0m",
      "\u001b[0;31mValueError\u001b[0m                                Traceback (most recent call last)",
      "Cell \u001b[0;32mIn[15], line 2\u001b[0m\n\u001b[1;32m      1\u001b[0m x \u001b[38;5;241m=\u001b[39m \u001b[38;5;124m\"\u001b[39m\u001b[38;5;124mabcd\u001b[39m\u001b[38;5;124m\"\u001b[39m\n\u001b[0;32m----> 2\u001b[0m \u001b[38;5;28mcomplex\u001b[39m(x)\n",
      "\u001b[0;31mValueError\u001b[0m: complex() arg is a malformed string"
     ]
    }
   ],
   "source": [
    "x = \"abcd\"\n",
    "complex(x)"
   ]
  },
  {
   "cell_type": "code",
   "execution_count": 16,
   "id": "9178fefd",
   "metadata": {},
   "outputs": [
    {
     "data": {
      "text/plain": [
       "1234"
      ]
     },
     "execution_count": 16,
     "metadata": {},
     "output_type": "execute_result"
    }
   ],
   "source": [
    "x ='1234'\n",
    "int(x)"
   ]
  },
  {
   "cell_type": "code",
   "execution_count": 17,
   "id": "0c9b5394",
   "metadata": {},
   "outputs": [
    {
     "data": {
      "text/plain": [
       "1234.0"
      ]
     },
     "execution_count": 17,
     "metadata": {},
     "output_type": "execute_result"
    }
   ],
   "source": [
    "x='1234'\n",
    "float(x)"
   ]
  },
  {
   "cell_type": "code",
   "execution_count": 18,
   "id": "0b4f2fb8",
   "metadata": {},
   "outputs": [
    {
     "data": {
      "text/plain": [
       "(1234+0j)"
      ]
     },
     "execution_count": 18,
     "metadata": {},
     "output_type": "execute_result"
    }
   ],
   "source": [
    "x = '1234'\n",
    "complex(x)"
   ]
  },
  {
   "cell_type": "code",
   "execution_count": 19,
   "id": "7a6ceb14",
   "metadata": {},
   "outputs": [],
   "source": [
    "x = 'ab12'"
   ]
  },
  {
   "cell_type": "code",
   "execution_count": 20,
   "id": "0a1c79aa",
   "metadata": {},
   "outputs": [
    {
     "ename": "ValueError",
     "evalue": "invalid literal for int() with base 10: 'ab12'",
     "output_type": "error",
     "traceback": [
      "\u001b[0;31m---------------------------------------------------------------------------\u001b[0m",
      "\u001b[0;31mValueError\u001b[0m                                Traceback (most recent call last)",
      "Cell \u001b[0;32mIn[20], line 1\u001b[0m\n\u001b[0;32m----> 1\u001b[0m \u001b[38;5;28mint\u001b[39m(x)\n",
      "\u001b[0;31mValueError\u001b[0m: invalid literal for int() with base 10: 'ab12'"
     ]
    }
   ],
   "source": [
    "int(x)"
   ]
  },
  {
   "cell_type": "code",
   "execution_count": 21,
   "id": "d25fb7c3",
   "metadata": {},
   "outputs": [],
   "source": [
    "d = \"3+6j\""
   ]
  },
  {
   "cell_type": "code",
   "execution_count": 22,
   "id": "8565a7ff",
   "metadata": {},
   "outputs": [
    {
     "ename": "ValueError",
     "evalue": "invalid literal for int() with base 10: '3+6j'",
     "output_type": "error",
     "traceback": [
      "\u001b[0;31m---------------------------------------------------------------------------\u001b[0m",
      "\u001b[0;31mValueError\u001b[0m                                Traceback (most recent call last)",
      "Cell \u001b[0;32mIn[22], line 1\u001b[0m\n\u001b[0;32m----> 1\u001b[0m \u001b[38;5;28mprint\u001b[39m(\u001b[38;5;28mint\u001b[39m(d))\n",
      "\u001b[0;31mValueError\u001b[0m: invalid literal for int() with base 10: '3+6j'"
     ]
    }
   ],
   "source": [
    "print(int(d))"
   ]
  },
  {
   "cell_type": "code",
   "execution_count": 23,
   "id": "ad62949c",
   "metadata": {},
   "outputs": [
    {
     "ename": "ValueError",
     "evalue": "could not convert string to float: '3+6j'",
     "output_type": "error",
     "traceback": [
      "\u001b[0;31m---------------------------------------------------------------------------\u001b[0m",
      "\u001b[0;31mValueError\u001b[0m                                Traceback (most recent call last)",
      "Cell \u001b[0;32mIn[23], line 1\u001b[0m\n\u001b[0;32m----> 1\u001b[0m \u001b[38;5;28mprint\u001b[39m(\u001b[38;5;28mfloat\u001b[39m(d))\n",
      "\u001b[0;31mValueError\u001b[0m: could not convert string to float: '3+6j'"
     ]
    }
   ],
   "source": [
    "print(float(d))"
   ]
  },
  {
   "cell_type": "code",
   "execution_count": 24,
   "id": "7b7fcfcb",
   "metadata": {},
   "outputs": [
    {
     "name": "stdout",
     "output_type": "stream",
     "text": [
      "3+6j\n"
     ]
    }
   ],
   "source": [
    "print(str(d))"
   ]
  },
  {
   "cell_type": "code",
   "execution_count": 26,
   "id": "d47d5f63",
   "metadata": {},
   "outputs": [],
   "source": [
    "x =\"3+8j\""
   ]
  },
  {
   "cell_type": "code",
   "execution_count": 27,
   "id": "d90f9547",
   "metadata": {},
   "outputs": [
    {
     "ename": "ValueError",
     "evalue": "invalid literal for int() with base 10: '3+8j'",
     "output_type": "error",
     "traceback": [
      "\u001b[0;31m---------------------------------------------------------------------------\u001b[0m",
      "\u001b[0;31mValueError\u001b[0m                                Traceback (most recent call last)",
      "Cell \u001b[0;32mIn[27], line 1\u001b[0m\n\u001b[0;32m----> 1\u001b[0m \u001b[38;5;28mprint\u001b[39m(\u001b[38;5;28mint\u001b[39m(x))\n",
      "\u001b[0;31mValueError\u001b[0m: invalid literal for int() with base 10: '3+8j'"
     ]
    }
   ],
   "source": [
    "print(int(x))"
   ]
  },
  {
   "cell_type": "code",
   "execution_count": 28,
   "id": "b6034a3b",
   "metadata": {},
   "outputs": [
    {
     "ename": "ValueError",
     "evalue": "could not convert string to float: '3+8j'",
     "output_type": "error",
     "traceback": [
      "\u001b[0;31m---------------------------------------------------------------------------\u001b[0m",
      "\u001b[0;31mValueError\u001b[0m                                Traceback (most recent call last)",
      "Cell \u001b[0;32mIn[28], line 1\u001b[0m\n\u001b[0;32m----> 1\u001b[0m \u001b[38;5;28mprint\u001b[39m(\u001b[38;5;28mfloat\u001b[39m(x))\n",
      "\u001b[0;31mValueError\u001b[0m: could not convert string to float: '3+8j'"
     ]
    }
   ],
   "source": [
    "print(float(x))"
   ]
  },
  {
   "cell_type": "code",
   "execution_count": 29,
   "id": "354e6ff6",
   "metadata": {},
   "outputs": [
    {
     "name": "stdout",
     "output_type": "stream",
     "text": [
      "(3+8j)\n"
     ]
    }
   ],
   "source": [
    "print(complex(x))"
   ]
  },
  {
   "cell_type": "markdown",
   "id": "eebe253c",
   "metadata": {},
   "source": [
    "# input function"
   ]
  },
  {
   "cell_type": "code",
   "execution_count": 30,
   "id": "3a0fe6b9",
   "metadata": {},
   "outputs": [
    {
     "name": "stdout",
     "output_type": "stream",
     "text": [
      "7\n"
     ]
    }
   ],
   "source": [
    "x = input()"
   ]
  },
  {
   "cell_type": "code",
   "execution_count": 33,
   "id": "4f9082b5",
   "metadata": {},
   "outputs": [
    {
     "data": {
      "text/plain": [
       "7"
      ]
     },
     "execution_count": 33,
     "metadata": {},
     "output_type": "execute_result"
    }
   ],
   "source": [
    "3 + 4"
   ]
  },
  {
   "cell_type": "code",
   "execution_count": 34,
   "id": "120ad595",
   "metadata": {},
   "outputs": [
    {
     "data": {
      "text/plain": [
       "str"
      ]
     },
     "execution_count": 34,
     "metadata": {},
     "output_type": "execute_result"
    }
   ],
   "source": [
    "type(x)"
   ]
  },
  {
   "cell_type": "code",
   "execution_count": 35,
   "id": "b57a8cf8",
   "metadata": {},
   "outputs": [
    {
     "name": "stdout",
     "output_type": "stream",
     "text": [
      "enter the value6\n"
     ]
    }
   ],
   "source": [
    "x = input(\"enter the value\")"
   ]
  },
  {
   "cell_type": "code",
   "execution_count": 36,
   "id": "280c9e0e",
   "metadata": {},
   "outputs": [
    {
     "name": "stdout",
     "output_type": "stream",
     "text": [
      "enter the value3\n"
     ]
    }
   ],
   "source": [
    "s = int(input(\"enter the value\"))"
   ]
  },
  {
   "cell_type": "code",
   "execution_count": 37,
   "id": "531f8412",
   "metadata": {},
   "outputs": [
    {
     "data": {
      "text/plain": [
       "int"
      ]
     },
     "execution_count": 37,
     "metadata": {},
     "output_type": "execute_result"
    }
   ],
   "source": [
    "type(s)"
   ]
  },
  {
   "cell_type": "code",
   "execution_count": 38,
   "id": "6527cf97",
   "metadata": {},
   "outputs": [
    {
     "name": "stdout",
     "output_type": "stream",
     "text": [
      "enter the value4.0\n"
     ]
    }
   ],
   "source": [
    "s = float(input(\"enter the value\"))"
   ]
  },
  {
   "cell_type": "code",
   "execution_count": 39,
   "id": "793c5464",
   "metadata": {},
   "outputs": [
    {
     "data": {
      "text/plain": [
       "float"
      ]
     },
     "execution_count": 39,
     "metadata": {},
     "output_type": "execute_result"
    }
   ],
   "source": [
    "type(s)"
   ]
  },
  {
   "cell_type": "code",
   "execution_count": 4,
   "id": "42100b13",
   "metadata": {},
   "outputs": [
    {
     "ename": "SyntaxError",
     "evalue": "incomplete input (1449770098.py, line 1)",
     "output_type": "error",
     "traceback": [
      "\u001b[0;36m  Cell \u001b[0;32mIn[4], line 1\u001b[0;36m\u001b[0m\n\u001b[0;31m    x = (input(\"enter the name \")\u001b[0m\n\u001b[0m                                 ^\u001b[0m\n\u001b[0;31mSyntaxError\u001b[0m\u001b[0;31m:\u001b[0m incomplete input\n"
     ]
    }
   ],
   "source": [
    "x = (input(\"enter the name \")"
   ]
  },
  {
   "cell_type": "code",
   "execution_count": 3,
   "id": "ab5c4b9e",
   "metadata": {},
   "outputs": [
    {
     "data": {
      "text/plain": [
       "complex"
      ]
     },
     "execution_count": 3,
     "metadata": {},
     "output_type": "execute_result"
    }
   ],
   "source": [
    "type(x)"
   ]
  },
  {
   "cell_type": "code",
   "execution_count": 7,
   "id": "0a53dbba",
   "metadata": {},
   "outputs": [
    {
     "name": "stdout",
     "output_type": "stream",
     "text": [
      "enter the complex value:2 + 3j\n"
     ]
    },
    {
     "ename": "ValueError",
     "evalue": "complex() arg is a malformed string",
     "output_type": "error",
     "traceback": [
      "\u001b[0;31m---------------------------------------------------------------------------\u001b[0m",
      "\u001b[0;31mValueError\u001b[0m                                Traceback (most recent call last)",
      "Cell \u001b[0;32mIn[7], line 1\u001b[0m\n\u001b[0;32m----> 1\u001b[0m x \u001b[38;5;241m=\u001b[39m \u001b[38;5;28mcomplex\u001b[39m(\u001b[38;5;28minput\u001b[39m(\u001b[38;5;124m\"\u001b[39m\u001b[38;5;124menter the complex value:\u001b[39m\u001b[38;5;124m\"\u001b[39m))\n\u001b[1;32m      2\u001b[0m x\n",
      "\u001b[0;31mValueError\u001b[0m: complex() arg is a malformed string"
     ]
    }
   ],
   "source": [
    "x = complex(input(\"enter the complex value:\"))\n",
    "x\n"
   ]
  },
  {
   "cell_type": "markdown",
   "id": "67e5cd96",
   "metadata": {},
   "source": [
    "# variable assignment"
   ]
  },
  {
   "cell_type": "markdown",
   "id": "63da2ea5",
   "metadata": {},
   "source": [
    "# single value"
   ]
  },
  {
   "cell_type": "code",
   "execution_count": 8,
   "id": "e029de99",
   "metadata": {},
   "outputs": [
    {
     "data": {
      "text/plain": [
       "6"
      ]
     },
     "execution_count": 8,
     "metadata": {},
     "output_type": "execute_result"
    }
   ],
   "source": [
    "a = 6\n",
    "a"
   ]
  },
  {
   "cell_type": "code",
   "execution_count": 9,
   "id": "e7224d5c",
   "metadata": {},
   "outputs": [
    {
     "name": "stdout",
     "output_type": "stream",
     "text": [
      "6\n"
     ]
    }
   ],
   "source": [
    "print(a)"
   ]
  },
  {
   "cell_type": "markdown",
   "id": "23aee70c",
   "metadata": {},
   "source": [
    "# mutliple"
   ]
  },
  {
   "cell_type": "code",
   "execution_count": 11,
   "id": "3409eaad",
   "metadata": {},
   "outputs": [
    {
     "data": {
      "text/plain": [
       "(3, 4, 5)"
      ]
     },
     "execution_count": 11,
     "metadata": {},
     "output_type": "execute_result"
    }
   ],
   "source": [
    "x,y,z = 3,4,5\n",
    "x,y,z"
   ]
  },
  {
   "cell_type": "code",
   "execution_count": 12,
   "id": "0b8d7a9f",
   "metadata": {},
   "outputs": [
    {
     "name": "stdout",
     "output_type": "stream",
     "text": [
      "3\n",
      "4\n",
      "5\n"
     ]
    }
   ],
   "source": [
    "print(x)\n",
    "print(y)\n",
    "print(z)"
   ]
  },
  {
   "cell_type": "code",
   "execution_count": 13,
   "id": "c46f6ca0",
   "metadata": {},
   "outputs": [
    {
     "data": {
      "text/plain": [
       "5"
      ]
     },
     "execution_count": 13,
     "metadata": {},
     "output_type": "execute_result"
    }
   ],
   "source": [
    "x,y,z = 3,4,5\n",
    "x\n",
    "y\n",
    "z"
   ]
  },
  {
   "cell_type": "markdown",
   "id": "3f8cd619",
   "metadata": {},
   "source": [
    "# fstring"
   ]
  },
  {
   "cell_type": "code",
   "execution_count": 16,
   "id": "45028650",
   "metadata": {},
   "outputs": [
    {
     "name": "stdout",
     "output_type": "stream",
     "text": [
      "the addition of 5 and 6 is   11\n"
     ]
    }
   ],
   "source": [
    "a = 5\n",
    "b = 6\n",
    "print (f\"the addition of {a} and {b} is   {a+b}\")"
   ]
  },
  {
   "cell_type": "markdown",
   "id": "d01232fc",
   "metadata": {},
   "source": [
    "# eval function"
   ]
  },
  {
   "cell_type": "code",
   "execution_count": 19,
   "id": "2a5e87ea",
   "metadata": {},
   "outputs": [
    {
     "name": "stdout",
     "output_type": "stream",
     "text": [
      "addition of 3 and 5 is: 8\n"
     ]
    }
   ],
   "source": [
    "a = 3\n",
    "b = 5\n",
    "print(f\"addition of {a} and {b} is:\",a+b)"
   ]
  },
  {
   "cell_type": "code",
   "execution_count": 29,
   "id": "dd56be8c",
   "metadata": {},
   "outputs": [
    {
     "data": {
      "text/plain": [
       "'x+y'"
      ]
     },
     "execution_count": 29,
     "metadata": {},
     "output_type": "execute_result"
    }
   ],
   "source": [
    "x = 5\n",
    "y = 6\n",
    "'x+y'"
   ]
  },
  {
   "cell_type": "code",
   "execution_count": 28,
   "id": "342d67a5",
   "metadata": {},
   "outputs": [
    {
     "data": {
      "text/plain": [
       "'x+y'"
      ]
     },
     "execution_count": 28,
     "metadata": {},
     "output_type": "execute_result"
    }
   ],
   "source": []
  },
  {
   "cell_type": "code",
   "execution_count": 27,
   "id": "831bb682",
   "metadata": {},
   "outputs": [
    {
     "data": {
      "text/plain": [
       "11"
      ]
     },
     "execution_count": 27,
     "metadata": {},
     "output_type": "execute_result"
    }
   ],
   "source": [
    "eval('x+y')"
   ]
  },
  {
   "cell_type": "code",
   "execution_count": 30,
   "id": "478cdf3e",
   "metadata": {},
   "outputs": [
    {
     "data": {
      "text/plain": [
       "9"
      ]
     },
     "execution_count": 30,
     "metadata": {},
     "output_type": "execute_result"
    }
   ],
   "source": [
    "x = 4\n",
    "y = 5\n",
    "eval('x+y')"
   ]
  },
  {
   "cell_type": "code",
   "execution_count": 31,
   "id": "8e74f10e",
   "metadata": {},
   "outputs": [
    {
     "data": {
      "text/plain": [
       "14"
      ]
     },
     "execution_count": 31,
     "metadata": {},
     "output_type": "execute_result"
    }
   ],
   "source": [
    "x = 5\n",
    "y = 9\n",
    "eval('x+y')"
   ]
  },
  {
   "cell_type": "code",
   "execution_count": null,
   "id": "6c766110",
   "metadata": {},
   "outputs": [],
   "source": []
  }
 ],
 "metadata": {
  "kernelspec": {
   "display_name": "Python 3 (ipykernel)",
   "language": "python",
   "name": "python3"
  },
  "language_info": {
   "codemirror_mode": {
    "name": "ipython",
    "version": 3
   },
   "file_extension": ".py",
   "mimetype": "text/x-python",
   "name": "python",
   "nbconvert_exporter": "python",
   "pygments_lexer": "ipython3",
   "version": "3.11.5"
  }
 },
 "nbformat": 4,
 "nbformat_minor": 5
}
